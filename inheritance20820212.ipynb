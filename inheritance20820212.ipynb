{
 "cells": [
  {
   "cell_type": "markdown",
   "id": "34ca3042",
   "metadata": {},
   "source": [
    "### Inheritance\n",
    "1. Parent class\n",
    "2. Child Class\n",
    "...\n",
    "class ParentClass:\n",
    "class ChildClass(parent):\n",
    "...pass\n",
    "**Parent Class**\n",
    "~ Base cl;ass, from which other class can inherit\n",
    "**child class**\n",
    "~Derived class that inherits from the parent class"
   ]
  },
  {
   "cell_type": "markdown",
   "id": "3814a181",
   "metadata": {},
   "source": [
    "## Types of Inheritance\n",
    "1. Single\n",
    "Parent Class <--------------child class\n",
    "2. Multiple\n",
    "parent class1, parent clsaa 2 <---------------child class\n",
    "3. Multilevel \n",
    "parent class <--------------> grand child class\n",
    "4. Hierarichal\n",
    "parent class <--------------child class1, child class 2\n",
    "5. Hydprid\n",
    "~ Any two or more combination"
   ]
  },
  {
   "cell_type": "code",
   "execution_count": 2,
   "id": "d43e225b",
   "metadata": {},
   "outputs": [
    {
     "name": "stdout",
     "output_type": "stream",
     "text": [
      "Animal havs 2 eyes.\n",
      "Bhau Bhau\n"
     ]
    }
   ],
   "source": [
    "class Animal:\n",
    "    def get_eyes(self):\n",
    "        return \"Animal havs 2 eyes.\"\n",
    "\n",
    "class Dog(Animal):\n",
    "    def speak(self):\n",
    "        return \"Bhau Bhau\"\n",
    "\n",
    "dog = Dog() # Why this line is needed?????????????????????????????????\n",
    "print(dog.get_eyes())\n",
    "print(dog.speak())\n"
   ]
  },
  {
   "cell_type": "code",
   "execution_count": 18,
   "id": "8e8c67b9",
   "metadata": {},
   "outputs": [],
   "source": [
    "class Person:\n",
    "    def __init__(self, name):\n",
    "        self.name = name\n",
    "    def info(self):\n",
    "        print(\"name:\", self.name)\n",
    "class Employee(Person):\n",
    "    def __init__(self, name, company):\n",
    "        self.company=company\n",
    "        super().__init__(name)\n",
    "\n",
    "    def info(self):\n",
    "        print(\"Name:\", self.name)\n",
    "        print(\"Company:\", self.company)\n",
    "\n"
   ]
  },
  {
   "cell_type": "code",
   "execution_count": 19,
   "id": "2dbe21a5",
   "metadata": {},
   "outputs": [
    {
     "name": "stdout",
     "output_type": "stream",
     "text": [
      "name: Ram\n",
      "Name: Hari\n",
      "Company: STN\n"
     ]
    }
   ],
   "source": [
    "p = Person(\"Ram\")\n",
    "p.info()\n",
    "e = Employee(\"Hari\", \"STN\")\n",
    "e.info()\n"
   ]
  },
  {
   "cell_type": "code",
   "execution_count": 21,
   "id": "50cfa5e3",
   "metadata": {},
   "outputs": [
    {
     "name": "stdout",
     "output_type": "stream",
     "text": [
      "Name: Gopal\n",
      "Company: STN\n",
      "Python Django\n"
     ]
    }
   ],
   "source": [
    "class Programmer(Employee):\n",
    "    def __init__(self, name, company, skill):\n",
    "        super().__init__(name, company)\n",
    "        self.skill = skill\n",
    "\n",
    "programmer = Programmer(\"Gopal\", \"STN\", \"Python Django\")\n",
    "programmer.info()                                    \n",
    "print(programmer.skill)\n"
   ]
  },
  {
   "cell_type": "code",
   "execution_count": 16,
   "id": "9d819539",
   "metadata": {},
   "outputs": [
    {
     "name": "stdout",
     "output_type": "stream",
     "text": [
      "['cooking', 'Painting']\n"
     ]
    }
   ],
   "source": [
    "class Father:\n",
    "    def skills(self):\n",
    "        return [\"wood cutting\", \"carpentry\"]\n",
    "class Mother:\n",
    "    def skill(self):\n",
    "        return[\"cooking\", \"Painting\"]\n",
    "class Child(Father, Mother):\n",
    "    def skills(self):\n",
    "        return Father.skills(self) + Mother.skills(self) + [\"cooking\"]\n",
    "print(Child().skill())\n",
    "               "
   ]
  },
  {
   "cell_type": "code",
   "execution_count": 17,
   "id": "83885bf1",
   "metadata": {},
   "outputs": [
    {
     "name": "stdout",
     "output_type": "stream",
     "text": [
      "Flying in the sky using fuel\n",
      "Flying in the sky\n"
     ]
    }
   ],
   "source": [
    "# Polymorphism\n",
    "class Bird:\n",
    "    def fly(self):\n",
    "        return \"Flying in the sky\"\n",
    "class Airplane:\n",
    "    def fly(self):\n",
    "        return \"Flying in the sky using fuel\"\n",
    "def flying(obj):\n",
    "    print(obj.fly())\n",
    "\n",
    "b = Bird()\n",
    "a = Airplane()\n",
    "\n",
    "flying(a)\n",
    "flying(b)"
   ]
  },
  {
   "cell_type": "code",
   "execution_count": 3,
   "id": "9b525be4",
   "metadata": {},
   "outputs": [
    {
     "name": "stdout",
     "output_type": "stream",
     "text": [
      "78.5\n",
      "25\n"
     ]
    }
   ],
   "source": [
    "# Abstraction \n",
    "# Can not create object of abstract class, must need to override abstract methods\n",
    "\n",
    "from abc import abstractmethod, ABC\n",
    "\n",
    "class Shape:\n",
    "    @abstractmethod\n",
    "    def area(self):\n",
    "        pass\n",
    "class Circle(Shape):\n",
    "    def __init__(self, radius):\n",
    "        self.radius = radius\n",
    "    def area(self):\n",
    "        return 3.14 * self.radius * self.radius\n",
    "class Square(Shape):\n",
    "    def __init__(self, length):\n",
    "        self.length = length\n",
    "    def area(self):\n",
    "        return self.length * self.length\n",
    "c = Circle(5) \n",
    "print(c.area())\n",
    "print(Square(5).area())\n",
    "\n"
   ]
  },
  {
   "cell_type": "code",
   "execution_count": null,
   "id": "dfdaac30",
   "metadata": {},
   "outputs": [
    {
     "name": "stdout",
     "output_type": "stream",
     "text": [
      "9\n",
      "20\n"
     ]
    }
   ],
   "source": [
    "# Static Method\n",
    "class Math:\n",
    "    @staticmethod\n",
    "    def add(a, b):\n",
    "        return a + b\n",
    "    \n",
    "    @staticmethod\n",
    "    def multiply(a, b):\n",
    "        return a * b\n",
    "    \n",
    "m = Math() # Why this is ?????????????????????????????????\n",
    "print(m.add(5, 4))\n",
    "print(m.multiply(5, 4))\n",
    "    "
   ]
  },
  {
   "cell_type": "code",
   "execution_count": 23,
   "id": "5eb95473",
   "metadata": {},
   "outputs": [
    {
     "name": "stdout",
     "output_type": "stream",
     "text": [
      "{'google', 'microsoft'}\n"
     ]
    }
   ],
   "source": [
    "x = {\"apple\", \"banana\", \"cherry\"}\n",
    "y = {\"google\", \"microsoft\", \"apple\"}\n",
    "\n",
    "z = y.difference(x) \n",
    "\n",
    "print(z)\n"
   ]
  },
  {
   "cell_type": "code",
   "execution_count": null,
   "id": "5c8f46d2",
   "metadata": {},
   "outputs": [],
   "source": []
  },
  {
   "cell_type": "code",
   "execution_count": 4,
   "id": "73ca0f29",
   "metadata": {},
   "outputs": [
    {
     "name": "stdout",
     "output_type": "stream",
     "text": [
      "\n",
      "Options:\n",
      "1. Add Student\n",
      "2. View Records\n",
      "3. Exit\n",
      "Invalid choice. Please try again.\n",
      "\n",
      "Options:\n",
      "1. Add Student\n",
      "2. View Records\n",
      "3. Exit\n",
      "Invalid choice. Please try again.\n",
      "\n",
      "Options:\n",
      "1. Add Student\n",
      "2. View Records\n",
      "3. Exit\n"
     ]
    },
    {
     "ename": "ValueError",
     "evalue": "invalid literal for int() with base 10: ''",
     "output_type": "error",
     "traceback": [
      "\u001b[31m---------------------------------------------------------------------------\u001b[39m",
      "\u001b[31mValueError\u001b[39m                                Traceback (most recent call last)",
      "\u001b[36mCell\u001b[39m\u001b[36m \u001b[39m\u001b[32mIn[4]\u001b[39m\u001b[32m, line 38\u001b[39m\n\u001b[32m     36\u001b[39m \u001b[38;5;28;01mif\u001b[39;00m choice == \u001b[33m\"\u001b[39m\u001b[33m1\u001b[39m\u001b[33m\"\u001b[39m:\n\u001b[32m     37\u001b[39m     name = \u001b[38;5;28minput\u001b[39m(\u001b[33m\"\u001b[39m\u001b[33mEnter name: \u001b[39m\u001b[33m\"\u001b[39m)\n\u001b[32m---> \u001b[39m\u001b[32m38\u001b[39m     marks = \u001b[38;5;28;43mint\u001b[39;49m\u001b[43m(\u001b[49m\u001b[38;5;28;43minput\u001b[39;49m\u001b[43m(\u001b[49m\u001b[33;43m\"\u001b[39;49m\u001b[33;43mEnter marks: \u001b[39;49m\u001b[33;43m\"\u001b[39;49m\u001b[43m)\u001b[49m\u001b[43m)\u001b[49m\n\u001b[32m     39\u001b[39m     remarks = \u001b[38;5;28minput\u001b[39m(\u001b[33m\"\u001b[39m\u001b[33mEnter remarks: \u001b[39m\u001b[33m\"\u001b[39m)\n\u001b[32m     40\u001b[39m     add_student(name, marks, remarks)\n",
      "\u001b[31mValueError\u001b[39m: invalid literal for int() with base 10: ''"
     ]
    }
   ],
   "source": [
    "import sqlite3\n",
    "\n",
    "# Connect to database (or create if it doesn't exist)\n",
    "conn = sqlite3.connect(\"students.db\")\n",
    "cursor = conn.cursor()\n",
    "\n",
    "# Create table if not exists\n",
    "cursor.execute('''\n",
    "    CREATE TABLE IF NOT EXISTS students (\n",
    "        serial_no INTEGER PRIMARY KEY AUTOINCREMENT,\n",
    "        name TEXT NOT NULL,\n",
    "        marks INTEGER NOT NULL,\n",
    "        remarks TEXT\n",
    "    )\n",
    "''')\n",
    "conn.commit()\n",
    "\n",
    "# Function to add a student record\n",
    "def add_student(name, marks, remarks):\n",
    "    cursor.execute(\"INSERT INTO students (name, marks, remarks) VALUES (?, ?, ?)\", (name, marks, remarks))\n",
    "    conn.commit()\n",
    "    print(\"Student record added successfully!\")\n",
    "\n",
    "# Function to retrieve all records\n",
    "def fetch_students():\n",
    "    cursor.execute(\"SELECT * FROM students\")\n",
    "    records = cursor.fetchall()\n",
    "    for record in records:\n",
    "        print(record)\n",
    "\n",
    "# Main interaction\n",
    "while True:\n",
    "    print(\"\\nOptions:\\n1. Add Student\\n2. View Records\\n3. Exit\")\n",
    "    choice = input(\"Enter choice: \")\n",
    "\n",
    "    if choice == \"1\":\n",
    "        name = input(\"Enter name: \")\n",
    "        marks = int(input(\"Enter marks: \"))\n",
    "        remarks = input(\"Enter remarks: \")\n",
    "        add_student(name, marks, remarks)\n",
    "\n",
    "    elif choice == \"2\":\n",
    "        fetch_students()\n",
    "\n",
    "    elif choice == \"3\":\n",
    "        print(\"Exiting program.\")\n",
    "        break\n",
    "\n",
    "    else:\n",
    "        print(\"Invalid choice. Please try again.\")\n",
    "\n",
    "# Close database connection\n",
    "conn.close()"
   ]
  }
 ],
 "metadata": {
  "kernelspec": {
   "display_name": "Python 3",
   "language": "python",
   "name": "python3"
  },
  "language_info": {
   "codemirror_mode": {
    "name": "ipython",
    "version": 3
   },
   "file_extension": ".py",
   "mimetype": "text/x-python",
   "name": "python",
   "nbconvert_exporter": "python",
   "pygments_lexer": "ipython3",
   "version": "3.13.3"
  }
 },
 "nbformat": 4,
 "nbformat_minor": 5
}
