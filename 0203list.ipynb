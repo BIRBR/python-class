{
 "cells": [
  {
   "cell_type": "markdown",
   "id": "ed7bf672-cd92-455d-8388-a997af6ea63f",
   "metadata": {},
   "source": [
    "## List Practice 208/02/03 Saturday"
   ]
  },
  {
   "cell_type": "code",
   "execution_count": 1,
   "id": "576d05b6-e512-4def-97aa-1b0544031189",
   "metadata": {},
   "outputs": [],
   "source": [
    "mylist = [\"apple\", \"banana\", \"Cherry\"]"
   ]
  },
  {
   "cell_type": "raw",
   "id": "ea8efb0a-1fd1-46a7-9b63-42f064b847be",
   "metadata": {},
   "source": [
    "List\n",
    "Lists are used to store multiple items in a single variable.\n",
    "\n",
    "Lists are one of 4 built-in data types in Python used to store collections of data, the other 3 are Tuple, Set, and Dictionary, all with different qualities and usage.\n",
    "\n",
    "Lists are created using square brackets:"
   ]
  },
  {
   "cell_type": "markdown",
   "id": "cba742a8-b7c8-4f97-becd-4e14f0d711b6",
   "metadata": {},
   "source": [
    "### Examples"
   ]
  },
  {
   "cell_type": "code",
   "execution_count": 2,
   "id": "bc5f0e4f-00fa-4133-aebe-1358ebdc7e4f",
   "metadata": {},
   "outputs": [
    {
     "name": "stdout",
     "output_type": "stream",
     "text": [
      "['apple', 'banana', 'Cherry']\n"
     ]
    }
   ],
   "source": [
    "thislist = [\"apple\", \"banana\", \"Cherry\"]\n",
    "print(thislist)\n"
   ]
  },
  {
   "cell_type": "raw",
   "id": "9738a9f4-459e-41d9-9b33-812d1945b1e5",
   "metadata": {},
   "source": [
    "List Items\n",
    "List items are ordered, changeable, and allow duplicate values.\n",
    "\n",
    "List items are indexed, the first item has index [0], the second item has index [1] etc."
   ]
  },
  {
   "cell_type": "raw",
   "id": "564b84a9-4983-4812-9419-2704f5ebf7d7",
   "metadata": {},
   "source": [
    "List Items\n",
    "List items are ordered, changeable, and allow duplicate values.\n",
    "\n",
    "List items are indexed, the first item has index [0], the second item has index [1] etc.\n",
    "\n",
    "Ordered\n",
    "When we say that lists are ordered, it means that the items have a defined order, and that order will not change.\n",
    "\n",
    "If you add new items to a list, the new items will be placed at the end of the list.\n",
    "\n",
    "Note: There are some list methods that will change the order, but in general: the order of the items will not change.\n",
    "\n",
    "Changeable\n",
    "The list is changeable, meaning that we can change, add, and remove items in a list after it has been created.\n",
    "\n",
    "Allow Duplicates\n",
    "Since lists are indexed, lists can have items with the same value:\n",
    "\n",
    "Example\n",
    "Lists allow duplicate values:"
   ]
  },
  {
   "cell_type": "code",
   "execution_count": 3,
   "id": "428e824d-9817-410b-acd6-376304907825",
   "metadata": {},
   "outputs": [
    {
     "name": "stdout",
     "output_type": "stream",
     "text": [
      "['apple', 'banana', 'cherry', 'apple', 'banana', 'cherry']\n"
     ]
    }
   ],
   "source": [
    "thislist = [\"apple\", \"banana\", \"cherry\", \"apple\", \"banana\", \"cherry\"]\n",
    "print(thislist)"
   ]
  },
  {
   "cell_type": "raw",
   "id": "2fdd1fd9-e3d0-4ff6-9724-58c2560fd54b",
   "metadata": {},
   "source": [
    "List Length\n",
    "To determine how many items a list has, use the len() function:\n",
    "\n",
    "Example\n",
    "Print the number of items in the list:"
   ]
  },
  {
   "cell_type": "code",
   "execution_count": 4,
   "id": "dae979dc-ae66-46dd-b2a7-b858a9b2a5f2",
   "metadata": {},
   "outputs": [
    {
     "name": "stdout",
     "output_type": "stream",
     "text": [
      "6\n"
     ]
    }
   ],
   "source": [
    "thislist = [\"apple\", \"banana\", \"cherry\", \"apple\", \"banana\", \"cherry\"]\n",
    "print(len(thislist))"
   ]
  },
  {
   "cell_type": "raw",
   "id": "08f34bb3-3d4a-4d85-a956-7a721918c3cd",
   "metadata": {},
   "source": [
    "List Items - Data Types\n",
    "List items can be of any data type:\n",
    "\n",
    "Example\n",
    "String, int and boolean data types:List Items - Data Types\n",
    "List items can be of any data type:\n",
    "\n",
    "Example\n",
    "String, int and boolean data types:"
   ]
  },
  {
   "cell_type": "code",
   "execution_count": 6,
   "id": "ad315a0a-53cd-46b9-8fd8-e13c7abfd480",
   "metadata": {},
   "outputs": [
    {
     "name": "stdout",
     "output_type": "stream",
     "text": [
      "['apple', 'banana', 'Cherry']\n",
      "[1, 5, 7, 9]\n",
      "['True', 'Fasle', 'False']\n"
     ]
    }
   ],
   "source": [
    "list1 = [\"apple\", \"banana\", \"Cherry\"]\n",
    "list2 = [1, 5, 7, 9]\n",
    "list3 = [\"True\", \"Fasle\", \"False\"]\n",
    "print(list1)\n",
    "print(list2)\n",
    "print(list3)"
   ]
  },
  {
   "cell_type": "code",
   "execution_count": null,
   "id": "28b5ab17-8a4d-4d70-be5f-d548ae0188aa",
   "metadata": {},
   "outputs": [],
   "source": [
    "A list can contain different data types:\n",
    "\n",
    "Example\n",
    "A list with strings, integers and boolean values:"
   ]
  },
  {
   "cell_type": "code",
   "execution_count": 8,
   "id": "e1862618-6306-4b90-9d08-fd2d3003cf44",
   "metadata": {},
   "outputs": [
    {
     "name": "stdout",
     "output_type": "stream",
     "text": [
      "['abc', 34, True, 40, 'Male']\n"
     ]
    }
   ],
   "source": [
    "list1 = [\"abc\", 34, True, 40, \"Male\"]\n",
    "print(list1)"
   ]
  },
  {
   "cell_type": "raw",
   "id": "0d4d0ee9-6fd1-4433-a689-5476c220cfa3",
   "metadata": {},
   "source": [
    "type()\n",
    "From Python's perspective, lists are defined as objects with the data type 'list':\n",
    "\n",
    "<class 'list'>\n",
    "Example\n",
    "What is the data type of a list?"
   ]
  },
  {
   "cell_type": "code",
   "execution_count": 9,
   "id": "848777ff-408b-465c-a740-6f3047ce4ad8",
   "metadata": {},
   "outputs": [
    {
     "name": "stdout",
     "output_type": "stream",
     "text": [
      "<class 'list'>\n"
     ]
    }
   ],
   "source": [
    "list1 = [\"abc\", 34, True, 40, \"Male\"]\n",
    "print(type(list1))"
   ]
  },
  {
   "cell_type": "code",
   "execution_count": 9,
   "id": "3ba22027-3a6c-4b77-a093-1c0c9ff5c937",
   "metadata": {},
   "outputs": [
    {
     "name": "stdout",
     "output_type": "stream",
     "text": [
      "<class 'list'>\n"
     ]
    }
   ],
   "source": [
    "list1 = [\"abc\", 34, True, 40, \"Male\"]\n",
    "print(type(list1))"
   ]
  },
  {
   "cell_type": "raw",
   "id": "cd281bfa-3706-4ec6-a70f-fdd000d9ac8c",
   "metadata": {},
   "source": [
    "The list() Constructor\n",
    "It is also possible to use the list() constructor when creating a new list.\n",
    "\n",
    "Example\n",
    "Using the list() constructor to make a List:"
   ]
  },
  {
   "cell_type": "code",
   "execution_count": 10,
   "id": "a5bd2446-23dd-4512-8c26-275fcd0ab5fb",
   "metadata": {},
   "outputs": [
    {
     "name": "stdout",
     "output_type": "stream",
     "text": [
      "['abc', 34, True, 40, 'Male']\n"
     ]
    }
   ],
   "source": [
    "thislist = list((\"abc\", 34, True, 40, \"Male\")) # double round brackets\n",
    "print(thislist)"
   ]
  },
  {
   "cell_type": "raw",
   "id": "5bb61dc1-c58f-4574-abaf-5a916d51c915",
   "metadata": {},
   "source": [
    "Python Collections (Arrays)\n",
    "There are four collection data types in the Python programming language:\n",
    "List is a collection which is ordered and changeable. Allows duplicate members.\n",
    "Tuple is a collection which is ordered and unchangeable. Allows duplicate members.\n",
    "Set is a collection which is unordered, unchangeable*, and unindexed. No duplicate members.\n",
    "Dictionary is a collection which is ordered** and changeable. No duplicate members.\n",
    "*Set items are unchangeable, but you can remove and/or add items whenever you like.\n",
    "\n",
    "**As of Python version 3.7, dictionaries are ordered. In Python 3.6 and earlier, dictionaries are unordered.\n",
    "\n",
    "When choosing a collection type, it is useful to understand the properties of that type. Choosing the right type for a particular data set could mean retention of meaning, and, it could mean an increase in efficiency or security."
   ]
  },
  {
   "cell_type": "code",
   "execution_count": null,
   "id": "cc8815d6-d36e-4c57-bde3-a72f40b422a0",
   "metadata": {},
   "outputs": [],
   "source": [
    "# This exersize example only"
   ]
  },
  {
   "cell_type": "code",
   "execution_count": 11,
   "id": "20df6ff7-ee13-472b-ab17-4a5f9ec69db6",
   "metadata": {},
   "outputs": [
    {
     "name": "stdout",
     "output_type": "stream",
     "text": [
      "abc\n",
      "34\n",
      "True\n",
      "40\n",
      "Male\n"
     ]
    }
   ],
   "source": [
    "for x in [\"abc\", 34, True, 40, \"Male\"]:\n",
    "    print(x)"
   ]
  },
  {
   "cell_type": "code",
   "execution_count": 15,
   "id": "bef46f71-8fbd-4bfb-9e5f-4e6d06374005",
   "metadata": {},
   "outputs": [
    {
     "name": "stdout",
     "output_type": "stream",
     "text": [
      "Apple\n",
      "Banana\n",
      "Cherry\n"
     ]
    },
    {
     "data": {
      "text/plain": [
       "[None, None, None]"
      ]
     },
     "execution_count": 15,
     "metadata": {},
     "output_type": "execute_result"
    }
   ],
   "source": [
    "[print(x) for x in [\"Apple\", \"Banana\", \"Cherry\"]]"
   ]
  },
  {
   "cell_type": "code",
   "execution_count": 16,
   "id": "ea4678ac-0a83-4add-840f-0314edf0e0e3",
   "metadata": {},
   "outputs": [
    {
     "name": "stdout",
     "output_type": "stream",
     "text": [
      "['banana']\n"
     ]
    }
   ],
   "source": [
    "fruits = ['apple', 'banana', 'cherry']\n",
    "newlist = [x for x in fruits if x == 'banana']\n",
    "print(newlist)"
   ]
  },
  {
   "cell_type": "code",
   "execution_count": 19,
   "id": "d0cafc91-9cad-4aaf-9e50-6713ced1e20f",
   "metadata": {},
   "outputs": [
    {
     "name": "stdout",
     "output_type": "stream",
     "text": [
      "['apple', 'banana', 'cherry']\n"
     ]
    }
   ],
   "source": [
    "fruits = ['apple', 'banana', 'cherry']\n",
    "newlist = [x for x in fruits]\n",
    "print(newlist)"
   ]
  },
  {
   "cell_type": "code",
   "execution_count": null,
   "id": "eb4f1f64-7be9-4fd9-878a-551ed0ae930d",
   "metadata": {},
   "outputs": [],
   "source": []
  }
 ],
 "metadata": {
  "kernelspec": {
   "display_name": "Python 3 (ipykernel)",
   "language": "python",
   "name": "python3"
  },
  "language_info": {
   "codemirror_mode": {
    "name": "ipython",
    "version": 3
   },
   "file_extension": ".py",
   "mimetype": "text/x-python",
   "name": "python",
   "nbconvert_exporter": "python",
   "pygments_lexer": "ipython3",
   "version": "3.13.3"
  }
 },
 "nbformat": 4,
 "nbformat_minor": 5
}
