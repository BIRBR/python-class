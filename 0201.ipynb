{
 "cells": [
  {
   "cell_type": "markdown",
   "id": "cce90f63-8bb0-4b85-81a1-6ae49546cd6e",
   "metadata": {},
   "source": [
    "# Home work given Yesterday 2082/01/32"
   ]
  },
  {
   "cell_type": "code",
   "execution_count": 7,
   "id": "bc5c89de-4c92-421c-acd0-8bb0addee3ca",
   "metadata": {},
   "outputs": [
    {
     "name": "stdin",
     "output_type": "stream",
     "text": [
      "Enter your guess (0-100):  20\n"
     ]
    },
    {
     "name": "stdout",
     "output_type": "stream",
     "text": [
      "Goal is : 76 Guess another number:\n"
     ]
    },
    {
     "name": "stdin",
     "output_type": "stream",
     "text": [
      "Enter your guess (0-100):  6\n"
     ]
    },
    {
     "name": "stdout",
     "output_type": "stream",
     "text": [
      "Goal is : 76 Guess another number:\n"
     ]
    },
    {
     "name": "stdin",
     "output_type": "stream",
     "text": [
      "Enter your guess (0-100):  50\n"
     ]
    },
    {
     "name": "stdout",
     "output_type": "stream",
     "text": [
      "Goal is : 76 Guess another number:\n"
     ]
    },
    {
     "name": "stdin",
     "output_type": "stream",
     "text": [
      "Enter your guess (0-100):  78\n"
     ]
    },
    {
     "name": "stdout",
     "output_type": "stream",
     "text": [
      "Your guess is greater than the goal.\n"
     ]
    },
    {
     "name": "stdin",
     "output_type": "stream",
     "text": [
      "Enter your guess (0-100):  60\n"
     ]
    },
    {
     "name": "stdout",
     "output_type": "stream",
     "text": [
      "Goal is : 76 Guess another number:\n"
     ]
    },
    {
     "name": "stdin",
     "output_type": "stream",
     "text": [
      "Enter your guess (0-100):  100\n"
     ]
    },
    {
     "name": "stdout",
     "output_type": "stream",
     "text": [
      "Your guess is greater than the goal.\n"
     ]
    },
    {
     "ename": "KeyboardInterrupt",
     "evalue": "Interrupted by user",
     "output_type": "error",
     "traceback": [
      "\u001b[31m---------------------------------------------------------------------------\u001b[39m",
      "\u001b[31mKeyboardInterrupt\u001b[39m                         Traceback (most recent call last)",
      "\u001b[36mCell\u001b[39m\u001b[36m \u001b[39m\u001b[32mIn[7]\u001b[39m\u001b[32m, line 19\u001b[39m\n\u001b[32m     17\u001b[39m         \u001b[38;5;28;01melse\u001b[39;00m:  \n\u001b[32m     18\u001b[39m             \u001b[38;5;28mprint\u001b[39m(\u001b[33m\"\u001b[39m\u001b[33mYour guess is greater than the goal.\u001b[39m\u001b[33m\"\u001b[39m)  \u001b[38;5;66;03m# If guess is higher, inform the user and end loop\u001b[39;00m\n\u001b[32m---> \u001b[39m\u001b[32m19\u001b[39m \u001b[43mguess_game\u001b[49m\u001b[43m(\u001b[49m\u001b[43m)\u001b[49m \u001b[38;5;66;03m# Call the function to start the game\u001b[39;00m\n",
      "\u001b[36mCell\u001b[39m\u001b[36m \u001b[39m\u001b[32mIn[7]\u001b[39m\u001b[32m, line 8\u001b[39m, in \u001b[36mguess_game\u001b[39m\u001b[34m()\u001b[39m\n\u001b[32m      6\u001b[39m \u001b[38;5;28;01mwhile\u001b[39;00m \u001b[38;5;28;01mTrue\u001b[39;00m:  \u001b[38;5;66;03m# Start an infinite loop to keep the game running\u001b[39;00m\n\u001b[32m      7\u001b[39m     \u001b[38;5;28;01mtry\u001b[39;00m:\n\u001b[32m----> \u001b[39m\u001b[32m8\u001b[39m         guess = \u001b[38;5;28mint\u001b[39m(\u001b[38;5;28;43minput\u001b[39;49m\u001b[43m(\u001b[49m\u001b[33;43m\"\u001b[39;49m\u001b[33;43mEnter your guess (0-100): \u001b[39;49m\u001b[33;43m\"\u001b[39;49m\u001b[43m)\u001b[49m)  \u001b[38;5;66;03m# Get user input and convert it to an integer\u001b[39;00m\n\u001b[32m      9\u001b[39m     \u001b[38;5;28;01mexcept\u001b[39;00m \u001b[38;5;167;01mValueError\u001b[39;00m:  \n\u001b[32m     10\u001b[39m         \u001b[38;5;28mprint\u001b[39m(\u001b[33m\"\u001b[39m\u001b[33mInvalid input! Please enter a valid number.\u001b[39m\u001b[33m\"\u001b[39m)  \u001b[38;5;66;03m# Handle invalid input\u001b[39;00m\n",
      "\u001b[36mFile \u001b[39m\u001b[32m~\\AppData\\Local\\Packages\\PythonSoftwareFoundation.Python.3.13_qbz5n2kfra8p0\\LocalCache\\local-packages\\Python313\\site-packages\\ipykernel\\kernelbase.py:1282\u001b[39m, in \u001b[36mKernel.raw_input\u001b[39m\u001b[34m(self, prompt)\u001b[39m\n\u001b[32m   1280\u001b[39m     msg = \u001b[33m\"\u001b[39m\u001b[33mraw_input was called, but this frontend does not support input requests.\u001b[39m\u001b[33m\"\u001b[39m\n\u001b[32m   1281\u001b[39m     \u001b[38;5;28;01mraise\u001b[39;00m StdinNotImplementedError(msg)\n\u001b[32m-> \u001b[39m\u001b[32m1282\u001b[39m \u001b[38;5;28;01mreturn\u001b[39;00m \u001b[38;5;28;43mself\u001b[39;49m\u001b[43m.\u001b[49m\u001b[43m_input_request\u001b[49m\u001b[43m(\u001b[49m\n\u001b[32m   1283\u001b[39m \u001b[43m    \u001b[49m\u001b[38;5;28;43mstr\u001b[39;49m\u001b[43m(\u001b[49m\u001b[43mprompt\u001b[49m\u001b[43m)\u001b[49m\u001b[43m,\u001b[49m\n\u001b[32m   1284\u001b[39m \u001b[43m    \u001b[49m\u001b[38;5;28;43mself\u001b[39;49m\u001b[43m.\u001b[49m\u001b[43m_parent_ident\u001b[49m\u001b[43m[\u001b[49m\u001b[33;43m\"\u001b[39;49m\u001b[33;43mshell\u001b[39;49m\u001b[33;43m\"\u001b[39;49m\u001b[43m]\u001b[49m\u001b[43m,\u001b[49m\n\u001b[32m   1285\u001b[39m \u001b[43m    \u001b[49m\u001b[38;5;28;43mself\u001b[39;49m\u001b[43m.\u001b[49m\u001b[43mget_parent\u001b[49m\u001b[43m(\u001b[49m\u001b[33;43m\"\u001b[39;49m\u001b[33;43mshell\u001b[39;49m\u001b[33;43m\"\u001b[39;49m\u001b[43m)\u001b[49m\u001b[43m,\u001b[49m\n\u001b[32m   1286\u001b[39m \u001b[43m    \u001b[49m\u001b[43mpassword\u001b[49m\u001b[43m=\u001b[49m\u001b[38;5;28;43;01mFalse\u001b[39;49;00m\u001b[43m,\u001b[49m\n\u001b[32m   1287\u001b[39m \u001b[43m\u001b[49m\u001b[43m)\u001b[49m\n",
      "\u001b[36mFile \u001b[39m\u001b[32m~\\AppData\\Local\\Packages\\PythonSoftwareFoundation.Python.3.13_qbz5n2kfra8p0\\LocalCache\\local-packages\\Python313\\site-packages\\ipykernel\\kernelbase.py:1325\u001b[39m, in \u001b[36mKernel._input_request\u001b[39m\u001b[34m(self, prompt, ident, parent, password)\u001b[39m\n\u001b[32m   1322\u001b[39m \u001b[38;5;28;01mexcept\u001b[39;00m \u001b[38;5;167;01mKeyboardInterrupt\u001b[39;00m:\n\u001b[32m   1323\u001b[39m     \u001b[38;5;66;03m# re-raise KeyboardInterrupt, to truncate traceback\u001b[39;00m\n\u001b[32m   1324\u001b[39m     msg = \u001b[33m\"\u001b[39m\u001b[33mInterrupted by user\u001b[39m\u001b[33m\"\u001b[39m\n\u001b[32m-> \u001b[39m\u001b[32m1325\u001b[39m     \u001b[38;5;28;01mraise\u001b[39;00m \u001b[38;5;167;01mKeyboardInterrupt\u001b[39;00m(msg) \u001b[38;5;28;01mfrom\u001b[39;00m\u001b[38;5;250m \u001b[39m\u001b[38;5;28;01mNone\u001b[39;00m\n\u001b[32m   1326\u001b[39m \u001b[38;5;28;01mexcept\u001b[39;00m \u001b[38;5;167;01mException\u001b[39;00m:\n\u001b[32m   1327\u001b[39m     \u001b[38;5;28mself\u001b[39m.log.warning(\u001b[33m\"\u001b[39m\u001b[33mInvalid Message:\u001b[39m\u001b[33m\"\u001b[39m, exc_info=\u001b[38;5;28;01mTrue\u001b[39;00m)\n",
      "\u001b[31mKeyboardInterrupt\u001b[39m: Interrupted by user"
     ]
    }
   ],
   "source": [
    "###### import random  # Import the random module to generate a random number\n",
    "\n",
    "def guess_game():  \n",
    "    goal = random.randint(0, 100)  # Generate a random number between 0 and 100\n",
    "\n",
    "    while True:  # Start an infinite loop to keep the game running\n",
    "        try:\n",
    "            guess = int(input(\"Enter your guess (0-100): \"))  # Get user input and convert it to an integer\n",
    "        except ValueError:  \n",
    "            print(\"Invalid input! Please enter a valid number.\")  # Handle invalid input\n",
    "            continue  \n",
    "        if guess == goal:  \n",
    "            print(\"You won the game, Congratulations!!!\")  # If guess matches, print winning message and end loop\n",
    "            break  \n",
    "        elif guess < goal:  \n",
    "            print(\"Goal is :\", goal,  \"Guess another number:\") # If guess is lower, prompt to try again\n",
    "        else:  \n",
    "            print(\"Your guess is greater than the goal.\")  # If guess is higher, inform the user and end loop\n",
    "guess_game() # Call the function to start the game\n"
   ]
  },
  {
   "cell_type": "markdown",
   "id": "964bf4af-215c-4e46-b380-bd518e1d1797",
   "metadata": {},
   "source": [
    "# examples of how to use ‘def’ in Python\n"
   ]
  },
  {
   "cell_type": "markdown",
   "id": "2578824a-8814-4957-8fff-d7ffaa69851f",
   "metadata": {},
   "source": [
    "## 1. Hello, World! Function"
   ]
  },
  {
   "cell_type": "code",
   "execution_count": 5,
   "id": "d7bfe6ad-f254-48f6-a6e7-348309c4bb24",
   "metadata": {},
   "outputs": [
    {
     "name": "stdout",
     "output_type": "stream",
     "text": [
      "Hello, World.\n"
     ]
    }
   ],
   "source": [
    "def say_hello():\n",
    "    print(\"Hello, World.\")\n",
    "say_hello()\n",
    "    "
   ]
  },
  {
   "cell_type": "markdown",
   "id": "35a57269-73a6-4a3d-b39f-17838d4aea5b",
   "metadata": {},
   "source": [
    "## 2. Add two Numbers"
   ]
  },
  {
   "cell_type": "code",
   "execution_count": 17,
   "id": "7160a5ac-3f75-4388-a1f0-6853fd15f707",
   "metadata": {},
   "outputs": [
    {
     "name": "stdout",
     "output_type": "stream",
     "text": [
      "The sum is: 7\n"
     ]
    }
   ],
   "source": [
    "def add_numbers(a, b):\n",
    "    return a + b\n",
    "\n",
    "# Calling the function\n",
    "result = add_numbers(3, 4)\n",
    "print(\"The sum is:\", result)"
   ]
  },
  {
   "cell_type": "code",
   "execution_count": 21,
   "id": "148b300d-e509-4781-a4df-6f48234cd0b7",
   "metadata": {},
   "outputs": [
    {
     "name": "stdout",
     "output_type": "stream",
     "text": [
      "The sum is : 12\n"
     ]
    }
   ],
   "source": [
    "def add_numbers(a, b):\n",
    "    return a * b\n",
    "result = add_numbers(3, 4)\n",
    "print(\"The sum is :\", result)\n",
    "    "
   ]
  },
  {
   "cell_type": "code",
   "execution_count": 22,
   "id": "62d80ade-6c1c-4aba-b924-7e1140fb64c0",
   "metadata": {},
   "outputs": [
    {
     "name": "stdout",
     "output_type": "stream",
     "text": [
      "The sum is : 0.75\n"
     ]
    }
   ],
   "source": [
    "def add_numbers(a, b):\n",
    "    return a / b\n",
    "result = add_numbers(3, 4)\n",
    "print(\"The sum is :\", result)\n",
    "    "
   ]
  },
  {
   "cell_type": "markdown",
   "id": "96b5ac59-59c0-49b6-8391-c739126b876b",
   "metadata": {},
   "source": [
    "## 3. Greeting a Person"
   ]
  },
  {
   "cell_type": "code",
   "execution_count": 3,
   "id": "655d2a7c-d87a-4436-8f10-a36cb602c860",
   "metadata": {},
   "outputs": [
    {
     "name": "stdout",
     "output_type": "stream",
     "text": [
      "Hellow, Hari!\n"
     ]
    }
   ],
   "source": [
    "def greet(name):\n",
    "    print(f\"Hellow, {name}!\") # f is missed before \"Hellow\", {name} print directly Hellow, {name}!\n",
    "greet(\"Hari\")\n",
    "    "
   ]
  },
  {
   "cell_type": "markdown",
   "id": "a6ada5d2-36f8-4a67-a258-e745c802f9a1",
   "metadata": {},
   "source": [
    "## 4. Finding the Largest Number"
   ]
  },
  {
   "cell_type": "code",
   "execution_count": 29,
   "id": "121b71a4-f261-4bad-8997-60f584e76d45",
   "metadata": {},
   "outputs": [
    {
     "name": "stdout",
     "output_type": "stream",
     "text": [
      "Largest number is :  7\n"
     ]
    }
   ],
   "source": [
    "def find_largest_number(a, b, c):\n",
    "    if a > b and a > c:\n",
    "        return a\n",
    "    elif b> a and b > c:\n",
    "        return b\n",
    "    else:\n",
    "        return c\n",
    "largest = find_largest_number(3, 5, 7)\n",
    "print(\"Largest number is : \", largest)\n",
    "        \n",
    "    \n",
    "    "
   ]
  },
  {
   "cell_type": "markdown",
   "id": "7fab488d-6f37-4fbe-9a67-ff943924b478",
   "metadata": {},
   "source": [
    "##5. Checking if a Number is Even"
   ]
  },
  {
   "cell_type": "markdown",
   "id": "cf1fe205-39b2-48f3-8205-08917996db96",
   "metadata": {},
   "source": [
    "## 5. Checking if a Number is Even"
   ]
  },
  {
   "cell_type": "code",
   "execution_count": 32,
   "id": "0cae40d8-adb3-47ac-a68b-fd2dd066b047",
   "metadata": {},
   "outputs": [
    {
     "name": "stdout",
     "output_type": "stream",
     "text": [
      "Is 4 even?:  True\n",
      "Is 7 even?:  False\n"
     ]
    }
   ],
   "source": [
    "def is_even(number):\n",
    "    return number % 2 == 0\n",
    "print(\"Is 4 even?: \", is_even(4))\n",
    "print(\"Is 7 even?: \", is_even(7))\n",
    "    \n",
    "    "
   ]
  },
  {
   "cell_type": "markdown",
   "id": "1b93ce06-0bbb-4b70-a276-1d1ca52c0021",
   "metadata": {},
   "source": [
    "## 6. Counting Down"
   ]
  },
  {
   "cell_type": "code",
   "execution_count": 34,
   "id": "90c87166-9d8c-4ab7-a4ab-f92e1e9a7ffb",
   "metadata": {},
   "outputs": [
    {
     "name": "stdout",
     "output_type": "stream",
     "text": [
      "5\n",
      "4\n",
      "3\n",
      "2\n",
      "1\n",
      "0\n"
     ]
    }
   ],
   "source": [
    "def countdown(n):\n",
    "    while n >=0:\n",
    "        print(n)\n",
    "        n -=1\n",
    "countdown(5)\n",
    "        "
   ]
  },
  {
   "cell_type": "markdown",
   "id": "e62322cb-6d7a-43a4-937b-1bba77fc0566",
   "metadata": {},
   "source": [
    "## 7. Drawing a Square (using Turtle graphics)"
   ]
  },
  {
   "cell_type": "code",
   "execution_count": null,
   "id": "fd624ac1-018e-44b4-8781-83ecac81f313",
   "metadata": {},
   "outputs": [],
   "source": [
    "import turtle\n",
    "\n",
    "def draw_square():\n",
    "    for _ in range(4):\n",
    "        turtle.forward(100)\n",
    "        turtle.right(90)\n",
    "\n",
    "# Calling the function\n",
    "turtle.speed(1)\n",
    "draw_square()\n",
    "turtle.done()"
   ]
  },
  {
   "cell_type": "code",
   "execution_count": 6,
   "id": "df8dca5e-1ee6-4bf7-baf2-09c7836d0114",
   "metadata": {},
   "outputs": [
    {
     "name": "stdout",
     "output_type": "stream",
     "text": [
      "Goal is : 5 Guess another number:\n"
     ]
    }
   ],
   "source": [
    "goal = 5\n",
    "print(\"Goal is :\", goal,  \"Guess another number:\")"
   ]
  },
  {
   "cell_type": "markdown",
   "id": "7d2ae5e2-e5e7-4dd5-a60e-c59c49f5f045",
   "metadata": {},
   "source": [
    "## Function exersize"
   ]
  },
  {
   "cell_type": "code",
   "execution_count": 4,
   "id": "ff79cea0-ee53-4e06-ad52-7ee5d4f8bd42",
   "metadata": {},
   "outputs": [],
   "source": [
    "def my_info(*args, **kwargs):\n",
    "    print(\"positional arguments:\")\n",
    "    print(args)\n",
    "    print(\"Keyword arguments:\")\n",
    "    print(kwargs)\n",
    "    for item in kwargs:\n",
    "        print(f\"{item}: {kwargs[item]}\")\n",
    "    "
   ]
  },
  {
   "cell_type": "code",
   "execution_count": null,
   "id": "b2688967-8ce9-4525-a56e-d1e31a239ab1",
   "metadata": {},
   "outputs": [],
   "source": [
    "def my_info(*args, **kwargs):  # Defines a function that takes any number of positional and keyword arguments.\n",
    "    print(\"positional arguments:\")  # Prints a heading for positional arguments.\n",
    "    print(args)  # Prints all positional arguments as a tuple.\n",
    "\n",
    "    print(\"Keyword arguments:\")  # Prints a heading for keyword arguments.\n",
    "    print(kwargs)  # Prints all keyword arguments as a dictionary.\n",
    "\n",
    "    for item in kwargs:  # Loops through each key in the keyword arguments dictionary.\n",
    "        print(f\"{item}: {kwargs[item]}\")  # Prints the key along with its corresponding value.\n"
   ]
  },
  {
   "cell_type": "code",
   "execution_count": 10,
   "id": "862474b6-3401-448f-8ff3-8dd58b759e1d",
   "metadata": {},
   "outputs": [
    {
     "name": "stdout",
     "output_type": "stream",
     "text": [
      "positional arguments:\n",
      "('Kathmandu', 'Nepal', 1)\n",
      "Keyword arguments:\n",
      "{'color': 'black', 'name': 'Ram', 'age': 21, 'sex': 'Mail', 'height': '6Feet'}\n",
      "color: black\n",
      "name: Ram\n",
      "age: 21\n",
      "sex: Mail\n",
      "height: 6Feet\n"
     ]
    }
   ],
   "source": [
    "my_info(\"Kathmandu\", \"Nepal\", 1, color=\"black\", name=\"Ram\", age =21, sex=\"Mail\", height=\"6Feet\")"
   ]
  },
  {
   "cell_type": "raw",
   "id": "07558e3a-891a-471c-a2fc-ee34107a29b2",
   "metadata": {},
   "source": [
    "# Function naming and call (), indexing box big, to printy format string {} "
   ]
  },
  {
   "cell_type": "markdown",
   "id": "7e02a304-058c-4ef4-91fb-35d256d9d033",
   "metadata": {},
   "source": [
    "### Positional Arguement"
   ]
  },
  {
   "cell_type": "code",
   "execution_count": 11,
   "id": "8d020a4f-2601-4799-91ed-0147b2c4967a",
   "metadata": {},
   "outputs": [
    {
     "name": "stdout",
     "output_type": "stream",
     "text": [
      "Hello, Alice! You are 25 years old.\n"
     ]
    }
   ],
   "source": [
    "def greet(name, age):\n",
    "    print(f\"Hello, {name}! You are {age} years old.\")\n",
    "\n",
    "greet(\"Alice\", 25)  # Positional arguments: \"Alice\" -> name, 25 -> age\n"
   ]
  },
  {
   "cell_type": "markdown",
   "id": "2b0c462b-1aca-48c7-b024-97f7959f0c45",
   "metadata": {},
   "source": [
    "### Keyword Argument"
   ]
  },
  {
   "cell_type": "code",
   "execution_count": 12,
   "id": "5214d56b-bce6-4adb-b7ce-c56e66353d90",
   "metadata": {},
   "outputs": [
    {
     "name": "stdout",
     "output_type": "stream",
     "text": [
      "Hello, Alice! You are 25 years old.\n"
     ]
    }
   ],
   "source": [
    "def greet(name, age):\n",
    "    print(f\"Hello, {name}! You are {age} years old.\")\n",
    "\n",
    "greet(age=25, name=\"Alice\")  # Keyword arguments: age=25, name=\"Alice\"\n"
   ]
  },
  {
   "cell_type": "markdown",
   "id": "c375a283-ecce-43ca-9375-be079f024c05",
   "metadata": {},
   "source": [
    "# List \n",
    "`also called dynamic array"
   ]
  },
  {
   "cell_type": "code",
   "execution_count": 15,
   "id": "3c353202-a6ff-4c96-9b66-0af839ef6d7b",
   "metadata": {},
   "outputs": [
    {
     "name": "stdout",
     "output_type": "stream",
     "text": [
      "1\n",
      "6\n",
      "3\n",
      "8\n",
      "5\n"
     ]
    }
   ],
   "source": [
    "list1 = [1, 6, 3, 8, 5]\n",
    "for i in list1:\n",
    "    print(i)"
   ]
  },
  {
   "cell_type": "code",
   "execution_count": 61,
   "id": "fd76bf74-f552-4fca-bb5b-4a6df44f4f6b",
   "metadata": {},
   "outputs": [
    {
     "data": {
      "text/plain": [
       "['__add__',\n",
       " '__class__',\n",
       " '__class_getitem__',\n",
       " '__contains__',\n",
       " '__delattr__',\n",
       " '__delitem__',\n",
       " '__dir__',\n",
       " '__doc__',\n",
       " '__eq__',\n",
       " '__format__',\n",
       " '__ge__',\n",
       " '__getattribute__',\n",
       " '__getitem__',\n",
       " '__getstate__',\n",
       " '__gt__',\n",
       " '__hash__',\n",
       " '__iadd__',\n",
       " '__imul__',\n",
       " '__init__',\n",
       " '__init_subclass__',\n",
       " '__iter__',\n",
       " '__le__',\n",
       " '__len__',\n",
       " '__lt__',\n",
       " '__mul__',\n",
       " '__ne__',\n",
       " '__new__',\n",
       " '__reduce__',\n",
       " '__reduce_ex__',\n",
       " '__repr__',\n",
       " '__reversed__',\n",
       " '__rmul__',\n",
       " '__setattr__',\n",
       " '__setitem__',\n",
       " '__sizeof__',\n",
       " '__str__',\n",
       " '__subclasshook__',\n",
       " 'append',\n",
       " 'clear',\n",
       " 'copy',\n",
       " 'count',\n",
       " 'extend',\n",
       " 'index',\n",
       " 'insert',\n",
       " 'pop',\n",
       " 'remove',\n",
       " 'reverse',\n",
       " 'sort']"
      ]
     },
     "execution_count": 61,
     "metadata": {},
     "output_type": "execute_result"
    }
   ],
   "source": [
    "dir(list)"
   ]
  },
  {
   "cell_type": "code",
   "execution_count": 17,
   "id": "d193641d-1397-442c-b708-1952e0e33a32",
   "metadata": {},
   "outputs": [],
   "source": [
    "# sort\n",
    "list1.sort()"
   ]
  },
  {
   "cell_type": "code",
   "execution_count": 24,
   "id": "8a6f8f02-cd1d-4c58-bebb-5ace44e4a412",
   "metadata": {},
   "outputs": [],
   "source": [
    "list1=[1, 6, 3,8 , 5]"
   ]
  },
  {
   "cell_type": "code",
   "execution_count": 30,
   "id": "a7d665ef-8c8e-4d41-9590-2b65bb384b01",
   "metadata": {},
   "outputs": [
    {
     "name": "stdout",
     "output_type": "stream",
     "text": [
      "[1, 6, 3, 8, 5, 20, 'Hellow']\n",
      "[8, 6, 5, 3, 1]\n"
     ]
    }
   ],
   "source": [
    "# list1_cp=list1.copy()\n",
    "print(list1)\n",
    "print(list1_cp)"
   ]
  },
  {
   "cell_type": "code",
   "execution_count": 34,
   "id": "012cb2f8-f469-4c89-a4d9-f821fda3e047",
   "metadata": {},
   "outputs": [
    {
     "data": {
      "text/plain": [
       "[1, 3, 5, 6, 8]"
      ]
     },
     "execution_count": 34,
     "metadata": {},
     "output_type": "execute_result"
    }
   ],
   "source": [
    "# reverse\n",
    "list1_cp.reverse()\n",
    "list1_cp # print(list1_cp)"
   ]
  },
  {
   "cell_type": "code",
   "execution_count": 40,
   "id": "b364b0cb-d088-4e46-b5eb-0a956948b7d7",
   "metadata": {},
   "outputs": [
    {
     "data": {
      "text/plain": [
       "[1, 3, 5, 6, 8]"
      ]
     },
     "execution_count": 40,
     "metadata": {},
     "output_type": "execute_result"
    }
   ],
   "source": [
    "list1.append(20)\n",
    "list1_cp"
   ]
  },
  {
   "cell_type": "code",
   "execution_count": 41,
   "id": "a2e4b3ee-ae08-47d4-a02e-7a08fe6c0d45",
   "metadata": {},
   "outputs": [
    {
     "data": {
      "text/plain": [
       "['Hellow', 20, 5, 8, 3, 6, 1, 20, 'Hellow', 20, 'Hellow', 20, 20]"
      ]
     },
     "execution_count": 41,
     "metadata": {},
     "output_type": "execute_result"
    }
   ],
   "source": [
    "list1"
   ]
  },
  {
   "cell_type": "code",
   "execution_count": 42,
   "id": "9a9225e4-8416-4299-8781-abc75c72f185",
   "metadata": {},
   "outputs": [
    {
     "data": {
      "text/plain": [
       "[1, 3, 5, 6, 8]"
      ]
     },
     "execution_count": 42,
     "metadata": {},
     "output_type": "execute_result"
    }
   ],
   "source": [
    "list1.append(\"Hellow\")\n",
    "list1_cp"
   ]
  },
  {
   "cell_type": "code",
   "execution_count": 43,
   "id": "34c071a8-6a72-451f-b700-48c7a6734f08",
   "metadata": {},
   "outputs": [
    {
     "data": {
      "text/plain": [
       "[]"
      ]
     },
     "execution_count": 43,
     "metadata": {},
     "output_type": "execute_result"
    }
   ],
   "source": [
    "l = list()\n",
    "l"
   ]
  },
  {
   "cell_type": "code",
   "execution_count": 45,
   "id": "114a0803-701c-4aa1-9db9-92c46ac81d75",
   "metadata": {},
   "outputs": [],
   "source": [
    "a = [1, 3, 4]\n",
    "b = [\"a\", \"b\"]"
   ]
  },
  {
   "cell_type": "code",
   "execution_count": 46,
   "id": "c1b7c4f5-c847-4f41-a612-2509a1d252da",
   "metadata": {},
   "outputs": [
    {
     "data": {
      "text/plain": [
       "[[1, 3, 4], ['a', 'b']]"
      ]
     },
     "execution_count": 46,
     "metadata": {},
     "output_type": "execute_result"
    }
   ],
   "source": [
    "l.append(a)\n",
    "l.append(b)\n",
    "l"
   ]
  },
  {
   "cell_type": "code",
   "execution_count": 47,
   "id": "025b1d49-b794-4ef7-8d77-c206961d924a",
   "metadata": {},
   "outputs": [
    {
     "data": {
      "text/plain": [
       "[[1, 3, 4], ['a', 'b'], 1, 3, 4, 'a', 'b']"
      ]
     },
     "execution_count": 47,
     "metadata": {},
     "output_type": "execute_result"
    }
   ],
   "source": [
    "l.extend(a)\n",
    "l.extend(b)\n",
    "l"
   ]
  },
  {
   "cell_type": "code",
   "execution_count": 49,
   "id": "487f8e4b-b131-418e-b6bf-9a8f24739b71",
   "metadata": {},
   "outputs": [
    {
     "data": {
      "text/plain": [
       "[[1, 3, 4], ['a', 'b'], 1, 3, 4, 'a', 'b', 0, 1, 2, 3, 4, 5]"
      ]
     },
     "execution_count": 49,
     "metadata": {},
     "output_type": "execute_result"
    }
   ],
   "source": [
    "# from start to 5th\n",
    "l.extend(range(6))\n",
    "l"
   ]
  },
  {
   "cell_type": "code",
   "execution_count": 55,
   "id": "aa74ff5e-d1fa-4325-8128-20c10da1245b",
   "metadata": {
    "scrolled": true
   },
   "outputs": [
    {
     "ename": "ValueError",
     "evalue": "9 is not in list",
     "output_type": "error",
     "traceback": [
      "\u001b[31m---------------------------------------------------------------------------\u001b[39m",
      "\u001b[31mValueError\u001b[39m                                Traceback (most recent call last)",
      "\u001b[36mCell\u001b[39m\u001b[36m \u001b[39m\u001b[32mIn[55]\u001b[39m\u001b[32m, line 1\u001b[39m\n\u001b[32m----> \u001b[39m\u001b[32m1\u001b[39m \u001b[43ml\u001b[49m\u001b[43m.\u001b[49m\u001b[43mindex\u001b[49m\u001b[43m(\u001b[49m\u001b[32;43m9\u001b[39;49m\u001b[43m)\u001b[49m\n",
      "\u001b[31mValueError\u001b[39m: 9 is not in list"
     ]
    }
   ],
   "source": [
    "# no index\n",
    "l.index(9)\n"
   ]
  },
  {
   "cell_type": "code",
   "execution_count": 56,
   "id": "877878d0-fc13-4a1c-8734-cc1bf9a4d934",
   "metadata": {},
   "outputs": [
    {
     "data": {
      "text/plain": [
       "[[1, 3, 4], ['a', 'b'], 1, 'new data', 3, 4, 'a', 'b', 0, 1, 2, 3, 4, 5]"
      ]
     },
     "execution_count": 56,
     "metadata": {},
     "output_type": "execute_result"
    }
   ],
   "source": [
    "# Insert in the middile\n",
    "l.insert(3, \"new data\")\n",
    "l"
   ]
  },
  {
   "cell_type": "code",
   "execution_count": 57,
   "id": "fcac99f4-d096-41b8-8e46-12f4381b3fde",
   "metadata": {},
   "outputs": [
    {
     "data": {
      "text/plain": [
       "[[1, 3, 4], ['a', 'b'], 1, 'new data', 3, 4, 'a', 'b', 0, 1, 2, 3, 4]"
      ]
     },
     "execution_count": 57,
     "metadata": {},
     "output_type": "execute_result"
    }
   ],
   "source": [
    "# pop deletes last index, append appends in the last\n",
    "l.pop()\n",
    "l"
   ]
  },
  {
   "cell_type": "code",
   "execution_count": 58,
   "id": "c9a97a63-83fe-4b0c-b3ad-a8e06dc66dad",
   "metadata": {},
   "outputs": [
    {
     "data": {
      "text/plain": [
       "[[1, 3, 4], ['a', 'b'], 1, 3, 4, 'a', 'b', 0, 1, 2, 3, 4]"
      ]
     },
     "execution_count": 58,
     "metadata": {},
     "output_type": "execute_result"
    }
   ],
   "source": [
    "# third index remove\n",
    "l.pop(3)\n",
    "l"
   ]
  },
  {
   "cell_type": "code",
   "execution_count": 60,
   "id": "409887ef-2f09-47ce-9aea-31fd71135dc2",
   "metadata": {},
   "outputs": [
    {
     "data": {
      "text/plain": [
       "[[1, 3, 4], ['a', 'b'], 3, 4, 'a', 'b', 1, 2, 3, 4]"
      ]
     },
     "execution_count": 60,
     "metadata": {},
     "output_type": "execute_result"
    }
   ],
   "source": [
    "# first no remove\n",
    "l.remove(1)\n",
    "l"
   ]
  },
  {
   "cell_type": "code",
   "execution_count": 62,
   "id": "cc2f7c55-21d2-4537-b1de-438f70214dcd",
   "metadata": {},
   "outputs": [],
   "source": [
    "# extend garera list hataune"
   ]
  },
  {
   "cell_type": "code",
   "execution_count": 63,
   "id": "ef0e95e0-39d5-44e4-ad98-82c79a1e71c3",
   "metadata": {},
   "outputs": [
    {
     "data": {
      "text/plain": [
       "2"
      ]
     },
     "execution_count": 63,
     "metadata": {},
     "output_type": "execute_result"
    }
   ],
   "source": [
    "l.count(3) # how many 3?\n"
   ]
  },
  {
   "cell_type": "code",
   "execution_count": 67,
   "id": "48538397-8193-4a63-8aff-e0f74ce3101d",
   "metadata": {},
   "outputs": [
    {
     "ename": "ValueError",
     "evalue": "list.remove(x): x not in list",
     "output_type": "error",
     "traceback": [
      "\u001b[31m---------------------------------------------------------------------------\u001b[39m",
      "\u001b[31mValueError\u001b[39m                                Traceback (most recent call last)",
      "\u001b[36mCell\u001b[39m\u001b[36m \u001b[39m\u001b[32mIn[67]\u001b[39m\u001b[32m, line 1\u001b[39m\n\u001b[32m----> \u001b[39m\u001b[32m1\u001b[39m \u001b[43ml\u001b[49m\u001b[43m.\u001b[49m\u001b[43mremove\u001b[49m\u001b[43m(\u001b[49m\u001b[33;43m'\u001b[39;49m\u001b[33;43ma\u001b[39;49m\u001b[33;43m'\u001b[39;49m\u001b[43m)\u001b[49m\n\u001b[32m      2\u001b[39m l.remove(\u001b[33m'\u001b[39m\u001b[33mb\u001b[39m\u001b[33m'\u001b[39m)\n",
      "\u001b[31mValueError\u001b[39m: list.remove(x): x not in list"
     ]
    }
   ],
   "source": [
    "l.remove('a')\n",
    "l.remove('b')\n"
   ]
  },
  {
   "cell_type": "code",
   "execution_count": 65,
   "id": "2578bf7b-ecdd-4588-9769-2d8763cea3cc",
   "metadata": {},
   "outputs": [
    {
     "ename": "TypeError",
     "evalue": "'<' not supported between instances of 'list' and 'int'",
     "output_type": "error",
     "traceback": [
      "\u001b[31m---------------------------------------------------------------------------\u001b[39m",
      "\u001b[31mTypeError\u001b[39m                                 Traceback (most recent call last)",
      "\u001b[36mCell\u001b[39m\u001b[36m \u001b[39m\u001b[32mIn[65]\u001b[39m\u001b[32m, line 1\u001b[39m\n\u001b[32m----> \u001b[39m\u001b[32m1\u001b[39m \u001b[43ml\u001b[49m\u001b[43m.\u001b[49m\u001b[43msort\u001b[49m\u001b[43m(\u001b[49m\u001b[43mreverse\u001b[49m\u001b[43m \u001b[49m\u001b[43m=\u001b[49m\u001b[43m \u001b[49m\u001b[38;5;28;43;01mTrue\u001b[39;49;00m\u001b[43m)\u001b[49m\n\u001b[32m      2\u001b[39m l\n",
      "\u001b[31mTypeError\u001b[39m: '<' not supported between instances of 'list' and 'int'"
     ]
    }
   ],
   "source": [
    "l.sort(reverse = True)\n",
    "l"
   ]
  },
  {
   "cell_type": "code",
   "execution_count": 68,
   "id": "cc4ef1c3-b8b7-41c8-b592-9369eb853082",
   "metadata": {},
   "outputs": [
    {
     "data": {
      "text/plain": [
       "[[1, 3, 4], ['a', 'b'], 4, 4, 3, 3, 2]"
      ]
     },
     "execution_count": 68,
     "metadata": {},
     "output_type": "execute_result"
    }
   ],
   "source": [
    "del l[-1]\n",
    "l"
   ]
  },
  {
   "cell_type": "code",
   "execution_count": 70,
   "id": "f8c7cd20-8653-4e81-8920-f07f3cd41b2a",
   "metadata": {},
   "outputs": [
    {
     "data": {
      "text/plain": [
       "3"
      ]
     },
     "execution_count": 70,
     "metadata": {},
     "output_type": "execute_result"
    }
   ],
   "source": [
    "# l multipies 3 times\n",
    "l1 = 1 * 3\n",
    "l1"
   ]
  },
  {
   "cell_type": "code",
   "execution_count": 71,
   "id": "a183bd2a-0a67-426b-af09-edc5ab3e40cb",
   "metadata": {},
   "outputs": [
    {
     "data": {
      "text/plain": [
       "[]"
      ]
     },
     "execution_count": 71,
     "metadata": {},
     "output_type": "execute_result"
    }
   ],
   "source": [
    "l.clear()\n",
    "l"
   ]
  },
  {
   "cell_type": "code",
   "execution_count": 72,
   "id": "3ed931c5-b491-4f51-bd92-bf8a358a8c1b",
   "metadata": {},
   "outputs": [
    {
     "data": {
      "text/plain": [
       "3"
      ]
     },
     "execution_count": 72,
     "metadata": {},
     "output_type": "execute_result"
    }
   ],
   "source": [
    "l1"
   ]
  },
  {
   "cell_type": "code",
   "execution_count": 76,
   "id": "968ce945-a780-4a0b-9aed-75771addfa05",
   "metadata": {},
   "outputs": [
    {
     "ename": "TypeError",
     "evalue": "'int' object does not support item deletion",
     "output_type": "error",
     "traceback": [
      "\u001b[31m---------------------------------------------------------------------------\u001b[39m",
      "\u001b[31mTypeError\u001b[39m                                 Traceback (most recent call last)",
      "\u001b[36mCell\u001b[39m\u001b[36m \u001b[39m\u001b[32mIn[76]\u001b[39m\u001b[32m, line 1\u001b[39m\n\u001b[32m----> \u001b[39m\u001b[32m1\u001b[39m \u001b[38;5;28;01mdel\u001b[39;00m \u001b[43ml1\u001b[49m\u001b[43m[\u001b[49m\u001b[32;43m1\u001b[39;49m\u001b[43m:\u001b[49m\u001b[43m:\u001b[49m\u001b[32;43m2\u001b[39;49m\u001b[43m]\u001b[49m\n\u001b[32m      2\u001b[39m l1\n",
      "\u001b[31mTypeError\u001b[39m: 'int' object does not support item deletion"
     ]
    }
   ],
   "source": [
    "del l1[1::2]\n",
    "l1"
   ]
  },
  {
   "cell_type": "code",
   "execution_count": 77,
   "id": "b6359095-a4ea-4166-9e0d-d3a30717fb75",
   "metadata": {},
   "outputs": [
    {
     "name": "stdout",
     "output_type": "stream",
     "text": [
      "list is empty\n"
     ]
    }
   ],
   "source": [
    "l = []\n",
    "if not l:\n",
    "    print(\"list is empty\")\n",
    "    "
   ]
  },
  {
   "cell_type": "code",
   "execution_count": 81,
   "id": "4a8a3c9b-8b77-4031-956b-4084c120ba37",
   "metadata": {},
   "outputs": [
    {
     "data": {
      "text/plain": [
       "True"
      ]
     },
     "execution_count": 81,
     "metadata": {},
     "output_type": "execute_result"
    }
   ],
   "source": [
    "lst = [\"one\", 2, \"Three\", 4]\n",
    "\"one\" in lst\n",
    "\"two\" in lst\n",
    "4 in lst"
   ]
  },
  {
   "cell_type": "code",
   "execution_count": 82,
   "id": "15fc303f-cfae-47c5-8150-e6dfdfcdf9cc",
   "metadata": {},
   "outputs": [
    {
     "data": {
      "text/plain": [
       "4"
      ]
     },
     "execution_count": 82,
     "metadata": {},
     "output_type": "execute_result"
    }
   ],
   "source": [
    "len(lst)"
   ]
  },
  {
   "cell_type": "code",
   "execution_count": 83,
   "id": "e0a4bf8f-9197-46c6-8435-8ae3b4a9dd62",
   "metadata": {},
   "outputs": [
    {
     "name": "stdout",
     "output_type": "stream",
     "text": [
      "one\n",
      "2\n",
      "Three\n",
      "4\n"
     ]
    }
   ],
   "source": [
    "for l in lst:\n",
    "    print(l)\n"
   ]
  },
  {
   "cell_type": "code",
   "execution_count": 84,
   "id": "33b0916d-436b-4de6-ae33-0c07aae19ec7",
   "metadata": {},
   "outputs": [
    {
     "name": "stdout",
     "output_type": "stream",
     "text": [
      "one\n",
      "2\n",
      "Three\n",
      "4\n"
     ]
    }
   ],
   "source": [
    "for i in range(len(lst)):\n",
    "    print(lst[i])"
   ]
  },
  {
   "cell_type": "code",
   "execution_count": 86,
   "id": "5c06fe4e-15a4-411c-8c02-b72939bc19b5",
   "metadata": {},
   "outputs": [
    {
     "data": {
      "text/plain": [
       "['one', 2, 'Three', 4, 'one', 2, 5, 6]"
      ]
     },
     "execution_count": 86,
     "metadata": {},
     "output_type": "execute_result"
    }
   ],
   "source": [
    "lst.extend([\"one\", 2, 5, 6])\n",
    "lst"
   ]
  },
  {
   "cell_type": "code",
   "execution_count": 90,
   "id": "d28afd0d-b43d-444d-a4ea-b581cb599b57",
   "metadata": {},
   "outputs": [
    {
     "data": {
      "text/plain": [
       "{2, 4, 5, 6, 'Three', 'one'}"
      ]
     },
     "execution_count": 90,
     "metadata": {},
     "output_type": "execute_result"
    }
   ],
   "source": [
    "s = set(lst) # set elimanates duplicate\n",
    "s"
   ]
  },
  {
   "cell_type": "code",
   "execution_count": 91,
   "id": "c7d296ff-f564-4628-8826-632b60cd75e2",
   "metadata": {},
   "outputs": [
    {
     "data": {
      "text/plain": [
       "[2, 4, 5, 6, 'one', 'Three']"
      ]
     },
     "execution_count": 91,
     "metadata": {},
     "output_type": "execute_result"
    }
   ],
   "source": [
    "new_lst = list(s)\n",
    "new_lst"
   ]
  },
  {
   "cell_type": "code",
   "execution_count": 92,
   "id": "636189f5-c182-496b-8b6f-fc288a759f04",
   "metadata": {},
   "outputs": [
    {
     "data": {
      "text/plain": [
       "[2, 4, 5, 6, 'one', 'Three']"
      ]
     },
     "execution_count": 92,
     "metadata": {},
     "output_type": "execute_result"
    }
   ],
   "source": [
    "lst = list(set(lst))\n",
    "lst"
   ]
  },
  {
   "cell_type": "markdown",
   "id": "d0cb99cb-de2b-49e9-9837-b8762ea841d5",
   "metadata": {},
   "source": [
    "## home ewo"
   ]
  },
  {
   "cell_type": "code",
   "execution_count": null,
   "id": "527bc9a1-d6df-4b35-80db-178c72c14620",
   "metadata": {},
   "outputs": [],
   "source": [
    "# multi dimestional list herera aune\n",
    "# Set, Tupple herer aune\n",
    "# set tupple list difference\n",
    "# dictionary ?"
   ]
  },
  {
   "cell_type": "code",
   "execution_count": 9,
   "id": "6e93b06f-9aa1-4a5e-a575-1902d85cc70a",
   "metadata": {},
   "outputs": [
    {
     "name": "stdout",
     "output_type": "stream",
     "text": [
      "[0, 1]\n"
     ]
    }
   ],
   "source": [
    "newlist = [x for x in range(2) if x < 5]\n",
    "\n",
    "print(newlist)\n"
   ]
  },
  {
   "cell_type": "code",
   "execution_count": null,
   "id": "2b79b32b-7324-4daa-850c-18188a323beb",
   "metadata": {},
   "outputs": [],
   "source": []
  }
 ],
 "metadata": {
  "kernelspec": {
   "display_name": "Python 3 (ipykernel)",
   "language": "python",
   "name": "python3"
  },
  "language_info": {
   "codemirror_mode": {
    "name": "ipython",
    "version": 3
   },
   "file_extension": ".py",
   "mimetype": "text/x-python",
   "name": "python",
   "nbconvert_exporter": "python",
   "pygments_lexer": "ipython3",
   "version": "3.13.3"
  }
 },
 "nbformat": 4,
 "nbformat_minor": 5
}
