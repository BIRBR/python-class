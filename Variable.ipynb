{
 "cells": [
  {
   "cell_type": "markdown",
   "id": "ab7428f2-c869-4290-975d-b30245d05274",
   "metadata": {},
   "source": [
    "## Keywords, identifiers and variables"
   ]
  },
  {
   "cell_type": "code",
   "execution_count": null,
   "id": "ecc50274-ea1f-4209-ad85-2a049b4a7081",
   "metadata": {},
   "outputs": [],
   "source": [
    "# Keywords : Reserved words that have speacific meean\n",
    "\n",
    "Identifiers: User define names to represt=net variable, function, class o any object\n"
   ]
  },
  {
   "cell_type": "code",
   "execution_count": 1,
   "id": "025a3e96-8296-450c-884a-3234fab95174",
   "metadata": {},
   "outputs": [
    {
     "name": "stdout",
     "output_type": "stream",
     "text": [
      "['False', 'None', 'True', 'and', 'as', 'assert', 'async', 'await', 'break', 'class', 'continue', 'def', 'del', 'elif', 'else', 'except', 'finally', 'for', 'from', 'global', 'if', 'import', 'in', 'is', 'lambda', 'nonlocal', 'not', 'or', 'pass', 'raise', 'return', 'try', 'while', 'with', 'yield']\n"
     ]
    },
    {
     "data": {
      "text/plain": [
       "35"
      ]
     },
     "execution_count": 1,
     "metadata": {},
     "output_type": "execute_result"
    }
   ],
   "source": [
    "# There are 33 kewords in python, to display all the idnetifires do as follows\n",
    "import keyword # imports keywords\n",
    "print(keyword.kwlist) # Lists keywords in the screen\n",
    "len(keyword.kwlist) # total numbers of keyworkds\n"
   ]
  },
  {
   "cell_type": "code",
   "execution_count": 3,
   "id": "ce9c96d1-706e-46bf-9e02-d9c59ff6a13a",
   "metadata": {
    "scrolled": true
   },
   "outputs": [],
   "source": [
    "# idendtyfire namiong convention\n",
    "#- lowercase (a t z) and u/c (A to Z) letters\n",
    "#-digits (0 to 9)\n",
    "#-Undescore (_)\n",
    "#-can not start with digit ; should not use kewyword as identifier\n",
    "#-can not use special charactor as idntifiere\n",
    "# Variable : represents an entitiy whose valeu can change"
   ]
  },
  {
   "cell_type": "code",
   "execution_count": 5,
   "id": "286c1e07-e95b-47b9-be27-716448ecced6",
   "metadata": {},
   "outputs": [
    {
     "name": "stdout",
     "output_type": "stream",
     "text": [
      "hari\n"
     ]
    }
   ],
   "source": [
    "name = \"hari\"\n",
    "print(name)"
   ]
  },
  {
   "cell_type": "code",
   "execution_count": 9,
   "id": "bde04fae-0bb5-4e59-97e4-1b8c58cc4f58",
   "metadata": {},
   "outputs": [],
   "source": [
    "# 3name = \"Ram\" cannot use name3 = Ram can be used\n",
    "\n"
   ]
  },
  {
   "cell_type": "code",
   "execution_count": 4,
   "id": "e6be9819-5724-4432-8e50-136308b15c34",
   "metadata": {},
   "outputs": [
    {
     "name": "stdout",
     "output_type": "stream",
     "text": [
      "Ram\n"
     ]
    }
   ],
   "source": [
    "name3 = \"Ram\"\n",
    "print(name3)"
   ]
  },
  {
   "cell_type": "code",
   "execution_count": 10,
   "id": "93ca940f-e2ca-4ac8-a655-20490b1d7308",
   "metadata": {},
   "outputs": [
    {
     "name": "stdout",
     "output_type": "stream",
     "text": [
      "3 4 5 6\n"
     ]
    }
   ],
   "source": [
    "# can be assigned may identifier at once\n",
    "a, b, c, d= (3, 4, 5, 6)\n",
    "print(a, b, c,d)"
   ]
  },
  {
   "cell_type": "code",
   "execution_count": 14,
   "id": "629f2222-ce95-44c5-a6ee-cea95d34a552",
   "metadata": {},
   "outputs": [
    {
     "data": {
      "text/plain": [
       "str"
      ]
     },
     "execution_count": 14,
     "metadata": {},
     "output_type": "execute_result"
    }
   ],
   "source": [
    "# type (identifier) displays the type of identifier: string, int, float, boolian, uple, list etc\n",
    "type(name)"
   ]
  },
  {
   "cell_type": "code",
   "execution_count": 15,
   "id": "ef4b6c5b-661e-4beb-b2f0-2e21492da7df",
   "metadata": {},
   "outputs": [
    {
     "name": "stdout",
     "output_type": "stream",
     "text": [
      "<class 'int'>\n"
     ]
    }
   ],
   "source": [
    "num=6\n",
    "print(type(num))"
   ]
  },
  {
   "cell_type": "code",
   "execution_count": 16,
   "id": "eae618a9-e1ca-4637-a8d3-f6bd43b79830",
   "metadata": {},
   "outputs": [
    {
     "name": "stdout",
     "output_type": "stream",
     "text": [
      "<class 'float'>\n"
     ]
    }
   ],
   "source": [
    "num1=6.2\n",
    "print(type(num1))"
   ]
  },
  {
   "cell_type": "code",
   "execution_count": 17,
   "id": "4885fed8-47da-4c02-88ba-806ee5790b2e",
   "metadata": {},
   "outputs": [
    {
     "name": "stdout",
     "output_type": "stream",
     "text": [
      "<class 'int'>\n"
     ]
    }
   ],
   "source": [
    "name=7\n",
    "print(type(name))"
   ]
  },
  {
   "cell_type": "code",
   "execution_count": 20,
   "id": "76dee56c-21c6-4dc6-850c-3bd6c4ce0411",
   "metadata": {},
   "outputs": [
    {
     "name": "stdout",
     "output_type": "stream",
     "text": [
      "<class 'bool'>\n"
     ]
    }
   ],
   "source": [
    "print(type(True))"
   ]
  },
  {
   "cell_type": "code",
   "execution_count": 12,
   "id": "f0142354-f393-4e78-a018-84570d9132a0",
   "metadata": {},
   "outputs": [
    {
     "name": "stdout",
     "output_type": "stream",
     "text": [
      "<class 'bool'>\n"
     ]
    }
   ],
   "source": [
    "print(type(False))"
   ]
  },
  {
   "cell_type": "code",
   "execution_count": 21,
   "id": "826127fb-8c96-48c6-80d9-aefb3540e972",
   "metadata": {},
   "outputs": [
    {
     "name": "stdout",
     "output_type": "stream",
     "text": [
      "<class 'tuple'>\n"
     ]
    }
   ],
   "source": [
    "numers=(3, 4,5,6)\n",
    "print(type(numers))"
   ]
  },
  {
   "cell_type": "code",
   "execution_count": 22,
   "id": "55f8b8d3-d7ee-44c2-9c89-e8b09392c9a3",
   "metadata": {},
   "outputs": [
    {
     "name": "stdout",
     "output_type": "stream",
     "text": [
      "<class 'set'>\n"
     ]
    }
   ],
   "source": [
    "numers={3, 4,5,6}\n",
    "print(type(numers))"
   ]
  },
  {
   "cell_type": "code",
   "execution_count": 38,
   "id": "1549b533-16ee-4ff1-b565-c2a543c2005a",
   "metadata": {},
   "outputs": [
    {
     "name": "stdout",
     "output_type": "stream",
     "text": [
      "<class 'dict'>\n"
     ]
    }
   ],
   "source": [
    "numbers = {\n",
    "    3: \"Three\",\n",
    "    4: \"Four\",\n",
    "    5: \"five\"\n",
    "}\n",
    "# Key: vlaue pari\n",
    "print(type(numbers))"
   ]
  },
  {
   "cell_type": "code",
   "execution_count": 39,
   "id": "9fa2cf1a-3964-43a8-9ded-a53567d116e9",
   "metadata": {},
   "outputs": [
    {
     "name": "stdout",
     "output_type": "stream",
     "text": [
      "<class 'list'>\n"
     ]
    }
   ],
   "source": [
    "numers=[3, 4,5,6]\n",
    "print(type(numers))"
   ]
  },
  {
   "cell_type": "code",
   "execution_count": 52,
   "id": "3f70ebd1-ec8a-4125-8136-e1d5edc5c023",
   "metadata": {},
   "outputs": [
    {
     "data": {
      "text/plain": [
       "'Three'"
      ]
     },
     "execution_count": 52,
     "metadata": {},
     "output_type": "execute_result"
    }
   ],
   "source": [
    "numbers[3]"
   ]
  },
  {
   "cell_type": "code",
   "execution_count": 40,
   "id": "b16cdf4b-d915-4cd7-bec5-44568d626f07",
   "metadata": {},
   "outputs": [
    {
     "data": {
      "text/plain": [
       "'Skill TRaining Nepal'"
      ]
     },
     "execution_count": 40,
     "metadata": {},
     "output_type": "execute_result"
    }
   ],
   "source": [
    "stn = \"Skill TRaining Nepal\"\n",
    "stn"
   ]
  },
  {
   "cell_type": "code",
   "execution_count": 41,
   "id": "abac8929-6060-4082-8011-945e052752d1",
   "metadata": {},
   "outputs": [
    {
     "name": "stdout",
     "output_type": "stream",
     "text": [
      "S\n"
     ]
    }
   ],
   "source": [
    "# print(identifier[index]:extract the string of specified index: indexing is 0 from first left to successive numbers, if counted from right start from -1\n",
    "print(stn[0])"
   ]
  },
  {
   "cell_type": "code",
   "execution_count": 44,
   "id": "bd1bd5b5-088e-41df-8342-dc88678c205f",
   "metadata": {},
   "outputs": [
    {
     "name": "stdout",
     "output_type": "stream",
     "text": [
      "S\n",
      "20\n",
      "l\n",
      "k\n"
     ]
    }
   ],
   "source": [
    "print(stn[0])\n",
    "print(len(stn))\n",
    "print(stn[-1])\n",
    "print(stn[-19])"
   ]
  },
  {
   "cell_type": "code",
   "execution_count": 45,
   "id": "1d4806b7-fd61-4128-823d-a3eb897b83c6",
   "metadata": {},
   "outputs": [
    {
     "data": {
      "text/plain": [
       "'TRaining'"
      ]
     },
     "execution_count": 45,
     "metadata": {},
     "output_type": "execute_result"
    }
   ],
   "source": [
    "stn[6:14]"
   ]
  },
  {
   "cell_type": "code",
   "execution_count": 46,
   "id": "4d8f8943-f4c6-4f79-a374-1a555ec8986e",
   "metadata": {},
   "outputs": [
    {
     "data": {
      "text/plain": [
       "' Nepal'"
      ]
     },
     "execution_count": 46,
     "metadata": {},
     "output_type": "execute_result"
    }
   ],
   "source": [
    "stn[14:]"
   ]
  },
  {
   "cell_type": "code",
   "execution_count": 47,
   "id": "ec61b8c9-5051-4b37-8f02-de18f51912eb",
   "metadata": {},
   "outputs": [],
   "source": [
    "nep=stn[0:6]"
   ]
  },
  {
   "cell_type": "code",
   "execution_count": 48,
   "id": "d1620b41-b9f6-4de3-ab5b-ae105f278944",
   "metadata": {},
   "outputs": [
    {
     "name": "stdout",
     "output_type": "stream",
     "text": [
      "Skill \n"
     ]
    }
   ],
   "source": [
    "print(nep)"
   ]
  },
  {
   "cell_type": "code",
   "execution_count": null,
   "id": "c7f7af32-3975-4a70-8725-74a029b93757",
   "metadata": {},
   "outputs": [],
   "source": [
    "print(it"
   ]
  }
 ],
 "metadata": {
  "kernelspec": {
   "display_name": "Python 3 (ipykernel)",
   "language": "python",
   "name": "python3"
  },
  "language_info": {
   "codemirror_mode": {
    "name": "ipython",
    "version": 3
   },
   "file_extension": ".py",
   "mimetype": "text/x-python",
   "name": "python",
   "nbconvert_exporter": "python",
   "pygments_lexer": "ipython3",
   "version": "3.13.3"
  }
 },
 "nbformat": 4,
 "nbformat_minor": 5
}
