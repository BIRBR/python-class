{
 "cells": [
  {
   "cell_type": "markdown",
   "id": "09d55f89-8b7a-45c9-bf9c-68b60b5ed8ed",
   "metadata": {},
   "source": [
    "# While Loop"
   ]
  },
  {
   "cell_type": "code",
   "execution_count": 24,
   "id": "0907e0a6-91f2-4b74-b1e0-e3490278c6eb",
   "metadata": {},
   "outputs": [
    {
     "name": "stdin",
     "output_type": "stream",
     "text": [
      "Enter your guess (0-100):  1\n"
     ]
    },
    {
     "name": "stdout",
     "output_type": "stream",
     "text": [
      "Your guess is lower than the goal by 61.\n"
     ]
    },
    {
     "name": "stdin",
     "output_type": "stream",
     "text": [
      "Enter your guess (0-100):  70\n"
     ]
    },
    {
     "name": "stdout",
     "output_type": "stream",
     "text": [
      "Your guess is greater than the goal, do you want to play again?\n"
     ]
    },
    {
     "name": "stdin",
     "output_type": "stream",
     "text": [
      "Enter 'Yes' to play again or 'No' to exit:  y\n",
      "Enter your guess (0-100):  29\n"
     ]
    },
    {
     "name": "stdout",
     "output_type": "stream",
     "text": [
      "Your guess is lower than the goal by 33.\n"
     ]
    },
    {
     "name": "stdin",
     "output_type": "stream",
     "text": [
      "Enter your guess (0-100):  45\n"
     ]
    },
    {
     "name": "stdout",
     "output_type": "stream",
     "text": [
      "Your guess is lower than the goal by 17.\n"
     ]
    },
    {
     "name": "stdin",
     "output_type": "stream",
     "text": [
      "Enter your guess (0-100):  67\n"
     ]
    },
    {
     "name": "stdout",
     "output_type": "stream",
     "text": [
      "Your guess is greater than the goal, do you want to play again?\n"
     ]
    },
    {
     "name": "stdin",
     "output_type": "stream",
     "text": [
      "Enter 'Yes' to play again or 'No' to exit:  no\n"
     ]
    }
   ],
   "source": [
    "import random  # Import the random module to generate a random number\n",
    "\n",
    "def guess_game():  # Define the function for the guessing game\n",
    "    goal = random.randint(0, 100)  # Generate a random number between 0 and 100\n",
    "\n",
    "    while True:  # Start an infinite loop to keep the game running until the user wins or exits\n",
    "        try:\n",
    "            guess = int(input(\"Enter your guess (0-100): \"))  # Get user input and convert it to an integer\n",
    "        except ValueError:  # Handle cases where the input is not a valid number\n",
    "            print(\"Invalid input. Please enter an integer.\")  # Inform the user about the invalid input\n",
    "            continue  # Restart the loop\n",
    "\n",
    "        if guess == goal:  # Check if the guess is correct\n",
    "            print(\"You won the game, Congratulations!!!\")  # Print the winning message\n",
    "            break  # Exit the loop since the game is won\n",
    "        elif guess < goal:  # If the guess is lower than the goal\n",
    "            print(f\"Your guess is lower than the goal by {goal - guess}.\")  # Show the difference between the guess and goal\n",
    "        else:  # If the guess is greater than the goal\n",
    "            print(\"Your guess is greater than the goal, do you want to play again?\")  # Ask if the user wants to continue\n",
    "            choice = input(\"Enter 'Yes' to play again or 'No' to exit: \").strip().lower()  # Get user input and standardize it\n",
    "            if choice == \"no\":  # If the user chooses 'No'\n",
    "                break  # Exit the loop and end the game\n",
    "\n",
    "guess_game()  # Call the function to start the game\n",
    "\n"
   ]
  },
  {
   "cell_type": "markdown",
   "id": "a6b5cb8e-262d-4f0b-883c-2e139579d7c3",
   "metadata": {},
   "source": [
    "# Homework for tomorrow:20820201 "
   ]
  },
  {
   "cell_type": "code",
   "execution_count": 18,
   "id": "8dd737fc-b8f0-4394-be46-79bea47bc28c",
   "metadata": {
    "scrolled": true
   },
   "outputs": [],
   "source": [
    "# # WAP Make a guessing game : \n",
    "# # There is a random number say flag(vairable)\n",
    "# take a number input from user(guess)\n",
    "# if guess is equal to flag \n",
    "# display your answer is correct and stop program\n",
    "# if guess is less than fleg\n",
    "# display guess is higher than flag\n",
    "# if guess is higher than floag\n",
    "# display guess lower and continue\n",
    "\n",
    "# CTRl + / = all line #"
   ]
  },
  {
   "cell_type": "code",
   "execution_count": 50,
   "id": "797b4ae6-a3a5-4e36-85f5-4d670cbe63fa",
   "metadata": {},
   "outputs": [
    {
     "name": "stdin",
     "output_type": "stream",
     "text": [
      "Guess a number to hit :  10\n"
     ]
    },
    {
     "ename": "TypeError",
     "evalue": "'<' not supported between instances of 'float' and 'str'",
     "output_type": "error",
     "traceback": [
      "\u001b[31m---------------------------------------------------------------------------\u001b[39m",
      "\u001b[31mTypeError\u001b[39m                                 Traceback (most recent call last)",
      "\u001b[36mCell\u001b[39m\u001b[36m \u001b[39m\u001b[32mIn[50]\u001b[39m\u001b[32m, line 9\u001b[39m\n\u001b[32m      7\u001b[39m     \u001b[38;5;28mprint\u001b[39m(\u001b[33m\"\u001b[39m\u001b[33mYou won the game, Condgratulation!!!\u001b[39m\u001b[33m\"\u001b[39m) \n\u001b[32m      8\u001b[39m     \u001b[38;5;28;01mbreak\u001b[39;00m\n\u001b[32m----> \u001b[39m\u001b[32m9\u001b[39m \u001b[38;5;28;01mif\u001b[39;00m \u001b[43mrandom_number\u001b[49m\u001b[43m \u001b[49m\u001b[43m<\u001b[49m\u001b[43m \u001b[49m\u001b[43mnum\u001b[49m:\n\u001b[32m     10\u001b[39m     Print(\u001b[33mf\u001b[39m\u001b[33m\"\u001b[39m\u001b[33mYour goal was: \u001b[39m\u001b[38;5;132;01m{\u001b[39;00mrandom_number\u001b[38;5;132;01m}\u001b[39;00m\u001b[33m, Guess another number:\u001b[39m\u001b[33m\"\u001b[39m)    \n",
      "\u001b[31mTypeError\u001b[39m: '<' not supported between instances of 'float' and 'str'"
     ]
    }
   ],
   "source": [
    "import random\n",
    "random_number = random.uniform(0, 100)\n",
    "# print(int(random_number))\n",
    "num =(input(\"Guess a number to hit : \"))\n",
    "while True:\n",
    "    if random_number == num:\n",
    "        print(\"You won the game, Condgratulation!!!\") \n",
    "        break\n",
    "    if random_number < num:\n",
    "        Print(f\"Your goal was: {random_number}, Guess another number:\")    \n"
   ]
  },
  {
   "cell_type": "code",
   "execution_count": 48,
   "id": "4fe063ec-608b-47e8-b6ff-cf2d34c5f31b",
   "metadata": {},
   "outputs": [
    {
     "name": "stdout",
     "output_type": "stream",
     "text": [
      "Your goal was: 5, Guess another number:\n"
     ]
    }
   ],
   "source": [
    "random_number = 5\n",
    "print(f\"Your goal was: {random_number}, Guess another number:\")\n"
   ]
  },
  {
   "cell_type": "markdown",
   "id": "4a83211e-767e-468e-bfbe-3f7caaca8fff",
   "metadata": {},
   "source": [
    "# Fucntion"
   ]
  },
  {
   "cell_type": "raw",
   "id": "bee94458-6314-4d43-9158-74c383f74862",
   "metadata": {},
   "source": [
    "# it is ablock of resusable code that performs specific \n",
    "# > task and can take input(parameter) and return output\n",
    "# > define sunig def keyworkd\n",
    "# > def function_name(parameters(optional)):\n",
    "# > body of function\n",
    "# > return somthing (option)\n",
    "# > function declaration\n",
    "# > function definition\n",
    "# > function calling\n"
   ]
  },
  {
   "cell_type": "code",
   "execution_count": null,
   "id": "d6be314d-fad4-42ec-b9b1-807307f33dd8",
   "metadata": {},
   "outputs": [],
   "source": []
  },
  {
   "cell_type": "code",
   "execution_count": 25,
   "id": "6b05fd44-9cbc-4244-8221-71b379bf39f4",
   "metadata": {},
   "outputs": [],
   "source": [
    "# definition of function\n",
    "def say_hello_world():\n",
    "    print(\"Hello World!\")\n",
    "    "
   ]
  },
  {
   "cell_type": "code",
   "execution_count": null,
   "id": "8066734c-0799-4176-a5b3-b909d02d50ce",
   "metadata": {},
   "outputs": [],
   "source": [
    "# no parameter, no return"
   ]
  },
  {
   "cell_type": "code",
   "execution_count": 26,
   "id": "677f4b35-9df9-4cee-9033-b28cb8c21ed6",
   "metadata": {},
   "outputs": [
    {
     "name": "stdout",
     "output_type": "stream",
     "text": [
      "Hello World!\n"
     ]
    }
   ],
   "source": [
    "# calling function\n",
    "say_hello_world()"
   ]
  },
  {
   "cell_type": "code",
   "execution_count": 28,
   "id": "9a95df08-e049-4206-a3e4-4f698c015298",
   "metadata": {},
   "outputs": [],
   "source": [
    "def greet(name): # name parametert\n",
    "    print(f\"Hello, {name}\")"
   ]
  },
  {
   "cell_type": "code",
   "execution_count": 29,
   "id": "ce5ca6f4-c2eb-468e-85e1-cbee183d6551",
   "metadata": {},
   "outputs": [
    {
     "name": "stdout",
     "output_type": "stream",
     "text": [
      "Hello, Ram\n"
     ]
    }
   ],
   "source": [
    "greet(\"Ram\") # Ram arguement"
   ]
  },
  {
   "cell_type": "code",
   "execution_count": 30,
   "id": "6896b864-afe2-4bc9-83c5-a3d7f011fbf3",
   "metadata": {},
   "outputs": [
    {
     "name": "stdout",
     "output_type": "stream",
     "text": [
      "Hello, Shyam\n"
     ]
    }
   ],
   "source": [
    "greet(\"Shyam\")"
   ]
  },
  {
   "cell_type": "code",
   "execution_count": 31,
   "id": "03bacb35-7a3c-46fb-83f6-82ff173bda63",
   "metadata": {},
   "outputs": [],
   "source": [
    "# parameter and return both\n"
   ]
  },
  {
   "cell_type": "code",
   "execution_count": 38,
   "id": "d945dd4c-fe2c-40ab-bb3e-f0aaced025af",
   "metadata": {},
   "outputs": [],
   "source": [
    "def sum(a, b):\n",
    "    s = a + b\n",
    "    return s"
   ]
  },
  {
   "cell_type": "code",
   "execution_count": 33,
   "id": "15eb152e-84c7-4388-ab4b-93a8d245df6e",
   "metadata": {},
   "outputs": [
    {
     "name": "stdout",
     "output_type": "stream",
     "text": [
      "7\n"
     ]
    }
   ],
   "source": [
    "s = sum(3, 4)\n",
    "print(s)"
   ]
  },
  {
   "cell_type": "code",
   "execution_count": 34,
   "id": "b66ac86c-47d6-49ee-85b2-1dbadd01f4c6",
   "metadata": {},
   "outputs": [
    {
     "name": "stdout",
     "output_type": "stream",
     "text": [
      "11\n"
     ]
    }
   ],
   "source": [
    "print(sum(5, 6))"
   ]
  },
  {
   "cell_type": "code",
   "execution_count": 36,
   "id": "53de5c2b-ee94-42c5-bec7-5bb9e3576e1d",
   "metadata": {},
   "outputs": [
    {
     "name": "stdout",
     "output_type": "stream",
     "text": [
      "11.899999999999999\n"
     ]
    }
   ],
   "source": [
    "print(sum(5.6, 6.3))"
   ]
  },
  {
   "cell_type": "code",
   "execution_count": 37,
   "id": "55945f87-b1aa-460e-bffc-89396f67cd6a",
   "metadata": {},
   "outputs": [
    {
     "data": {
      "text/plain": [
       "57"
      ]
     },
     "execution_count": 37,
     "metadata": {},
     "output_type": "execute_result"
    }
   ],
   "source": [
    "sum(55, 2)"
   ]
  },
  {
   "cell_type": "code",
   "execution_count": 39,
   "id": "9a9ccd70-34ae-4464-b7e5-777a3adeb0ad",
   "metadata": {},
   "outputs": [],
   "source": [
    "# passing three nuber and their multiplication"
   ]
  },
  {
   "cell_type": "code",
   "execution_count": 45,
   "id": "5dfab6ac-6d70-48fb-8e3a-65957462d166",
   "metadata": {},
   "outputs": [],
   "source": [
    "def mul(a, b, c):\n",
    "    s = a * b * c\n",
    "    return s"
   ]
  },
  {
   "cell_type": "code",
   "execution_count": 47,
   "id": "6310870d-bfc7-41c5-8014-5b889b3330e5",
   "metadata": {},
   "outputs": [
    {
     "name": "stdout",
     "output_type": "stream",
     "text": [
      "24\n"
     ]
    }
   ],
   "source": [
    "s = mul(2, 3, 4)\n",
    "print(s)"
   ]
  },
  {
   "cell_type": "code",
   "execution_count": 48,
   "id": "da26d4e8-5618-4050-beb6-bf097aab6f47",
   "metadata": {},
   "outputs": [
    {
     "name": "stdout",
     "output_type": "stream",
     "text": [
      "120\n"
     ]
    }
   ],
   "source": [
    "s = mul(4, 5, 6)\n",
    "print(s)"
   ]
  },
  {
   "cell_type": "code",
   "execution_count": 49,
   "id": "259895c8-0b17-43a8-a881-97a31ee478ad",
   "metadata": {},
   "outputs": [],
   "source": [
    "# s= mul(3, 4) got error\n",
    "# done by defoult arguemtn\n"
   ]
  },
  {
   "cell_type": "code",
   "execution_count": 56,
   "id": "45047def-4203-483b-91e8-86bbf0b35a34",
   "metadata": {},
   "outputs": [],
   "source": [
    "def multiply(a, b=1, c=1):\n",
    "    return a * b * c"
   ]
  },
  {
   "cell_type": "code",
   "execution_count": 57,
   "id": "67360a1c-5e69-486d-88f2-83d8070680bb",
   "metadata": {},
   "outputs": [
    {
     "data": {
      "text/plain": [
       "27"
      ]
     },
     "execution_count": 57,
     "metadata": {},
     "output_type": "execute_result"
    }
   ],
   "source": [
    "    multiply(3, 3, 3)"
   ]
  },
  {
   "cell_type": "code",
   "execution_count": 58,
   "id": "3eed17d9-31ce-4bc0-9034-b4d9b5635a89",
   "metadata": {},
   "outputs": [
    {
     "data": {
      "text/plain": [
       "20"
      ]
     },
     "execution_count": 58,
     "metadata": {},
     "output_type": "execute_result"
    }
   ],
   "source": [
    "multiply(4, 5)"
   ]
  },
  {
   "cell_type": "code",
   "execution_count": 59,
   "id": "1e4d085b-b50c-4ce2-8822-d7bea0caea88",
   "metadata": {},
   "outputs": [
    {
     "data": {
      "text/plain": [
       "5"
      ]
     },
     "execution_count": 59,
     "metadata": {},
     "output_type": "execute_result"
    }
   ],
   "source": [
    "multiply(5) # got error if b=1 not mentioned"
   ]
  },
  {
   "cell_type": "code",
   "execution_count": 3,
   "id": "04182143-1523-4c31-9ed0-c86126b09173",
   "metadata": {},
   "outputs": [],
   "source": [
    "def display_info(name, age, *args):\n",
    "    print(f\"Name: {name}\")\n",
    "    print(f\"Age : {age}\")"
   ]
  },
  {
   "cell_type": "markdown",
   "id": "66728a8f-2a0b-4694-baef-17c2de6915ec",
   "metadata": {},
   "source": [
    "name = \"Hari\"\n",
    "age = 20\n",
    "adress = \"Kathmandu\"\n",
    "working = \"Not Yet\""
   ]
  },
  {
   "cell_type": "code",
   "execution_count": null,
   "id": "c7da621e-49dd-4c4a-b185-afa624b78e34",
   "metadata": {},
   "outputs": [],
   "source": [
    "# homework for tomorrow"
   ]
  },
  {
   "cell_type": "code",
   "execution_count": 27,
   "id": "e08536dc-4fab-4cdc-99b6-460204e901d5",
   "metadata": {},
   "outputs": [
    {
     "name": "stdin",
     "output_type": "stream",
     "text": [
      "Enter a number:  5\n"
     ]
    },
    {
     "name": "stdout",
     "output_type": "stream",
     "text": [
      "You entered: 5\n"
     ]
    }
   ],
   "source": [
    "try:\n",
    "    num = int(input(\"Enter a number: \"))  # Tries to convert input to an integer\n",
    "    print(f\"You entered: {num}\")\n",
    "except ValueError:  # Handles cases where input is not a valid number\n",
    "    print(\"Invalid input! Please enter a valid number.\")\n"
   ]
  },
  {
   "cell_type": "code",
   "execution_count": 31,
   "id": "902cbfa1-e9c6-44f0-967d-255b82e11c0c",
   "metadata": {},
   "outputs": [
    {
     "name": "stdin",
     "output_type": "stream",
     "text": [
      "Enter a string :  10\n"
     ]
    },
    {
     "name": "stdout",
     "output_type": "stream",
     "text": [
      "you enter a intiger: 10\n"
     ]
    }
   ],
   "source": [
    "try:\n",
    "    string = str(input(\"Enter a string : \"))\n",
    "    print(f\"you enter a intiger: {string}\")\n",
    "except ValueError:\n",
    "    print(\"Invalid input ! Please enter a NUMBER.\")\n",
    "          \n",
    "    "
   ]
  },
  {
   "cell_type": "code",
   "execution_count": null,
   "id": "a8106a91-e160-4d49-aa60-f9cdde8a9d67",
   "metadata": {},
   "outputs": [],
   "source": []
  }
 ],
 "metadata": {
  "kernelspec": {
   "display_name": "Python 3 (ipykernel)",
   "language": "python",
   "name": "python3"
  },
  "language_info": {
   "codemirror_mode": {
    "name": "ipython",
    "version": 3
   },
   "file_extension": ".py",
   "mimetype": "text/x-python",
   "name": "python",
   "nbconvert_exporter": "python",
   "pygments_lexer": "ipython3",
   "version": "3.13.3"
  }
 },
 "nbformat": 4,
 "nbformat_minor": 5
}
