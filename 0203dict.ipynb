{
 "cells": [
  {
   "cell_type": "markdown",
   "id": "e1dda21f-5419-47e6-8d0e-6a9db348c6b1",
   "metadata": {},
   "source": [
    "### Dictionary Practice 2082/02/03 Saturday"
   ]
  },
  {
   "cell_type": "raw",
   "id": "262d8f66-27cf-4c9d-804e-0821febf9362",
   "metadata": {},
   "source": [
    "Python has a set of built-in methods that you can use on dictionaries.\n",
    "\n",
    "Method\tDescription\n",
    "clear()\tRemoves all the elements from the dictionary\n",
    "copy()\tReturns a copy of the dictionary\n",
    "fromkeys()\tReturns a dictionary with the specified keys and value\n",
    "get()\tReturns the value of the specified key\n",
    "items()\tReturns a list containing a tuple for each key value pair\n",
    "keys()\tReturns a list containing the dictionary's keys\n",
    "pop()\tRemoves the element with the specified key\n",
    "popitem()\tRemoves the last inserted key-value pair\n",
    "setdefault()\tReturns the value of the specified key. If the key does not exist: insert the key, with the specified value\n",
    "update()\tUpdates the dictionary with the specified key-value pairs\n",
    "values()\tReturns a list of all the values in the dictionary\n",
    "Learn more about dictionaries in our Python Dictionaries Tutorial.\n",
    "\n"
   ]
  },
  {
   "cell_type": "code",
   "execution_count": 1,
   "id": "a908ba2f-372e-47ed-9dce-190c9d3cb3a9",
   "metadata": {},
   "outputs": [],
   "source": [
    "thisdict = {\n",
    "    \"brand\": \"Ford\",\n",
    "    \"model\": \"Mustung\",\n",
    "    \"year\": 1964\n",
    "}\n",
    "    "
   ]
  },
  {
   "cell_type": "raw",
   "id": "0de31f31-0a68-407d-b2e7-a80d1e5b8964",
   "metadata": {},
   "source": [
    "Dictionary\n",
    "Dictionaries are used to store data values in key:value pairs.\n",
    "\n",
    "A dictionary is a collection which is ordered*, changeable and do not allow duplicates.\n",
    "\n",
    "As of Python version 3.7, dictionaries are ordered. In Python 3.6 and earlier, dictionaries are unordered.\n",
    "\n",
    "Dictionaries are written with curly brackets, and have keys and values:\n",
    "\n",
    "ExampleGet your own Python Server\n",
    "Create and print a dictionary:\n",
    "\n",
    "thisdict = {\n",
    "  \"brand\": \"Ford\",\n",
    "  \"model\": \"Mustang\",\n",
    "  \"year\": 1964\n",
    "}\n",
    "print(thisdict)\n",
    "Dictionary Items\n",
    "Dictionary items are ordered, changeable, and do not allow duplicates.\n",
    "\n",
    "Dictionary items are presented in key:value pairs, and can be referred to by using the key name.\n",
    "\n",
    "Example\n",
    "Print the \"brand\" value of the dictionary:"
   ]
  },
  {
   "cell_type": "code",
   "execution_count": 2,
   "id": "990243d9-f5a6-4a12-815c-aee29f96360f",
   "metadata": {},
   "outputs": [
    {
     "name": "stdout",
     "output_type": "stream",
     "text": [
      "Ford\n"
     ]
    }
   ],
   "source": [
    "thisdict = {\n",
    "  \"brand\": \"Ford\",\n",
    "  \"model\": \"Mustang\",\n",
    "  \"year\": 1964\n",
    "}\n",
    "print(thisdict[\"brand\"])"
   ]
  },
  {
   "cell_type": "raw",
   "id": "2c1da61d-7f9f-4767-895d-d2523bb7495f",
   "metadata": {},
   "source": [
    "Ordered or Unordered?\n",
    "As of Python version 3.7, dictionaries are ordered. In Python 3.6 and earlier, dictionaries are unordered.\n",
    "\n",
    "When we say that dictionaries are ordered, it means that the items have a defined order, and that order will not change.\n",
    "\n",
    "Unordered means that the items do not have a defined order, you cannot refer to an item by using an index.\n",
    "\n",
    "Changeable\n",
    "Dictionaries are changeable, meaning that we can change, add or remove items after the dictionary has been created.\n",
    "\n",
    "Duplicates Not Allowed\n",
    "Dictionaries cannot have two items with the same key:\n",
    "\n",
    "Example\n",
    "Duplicate values will overwrite existing values:"
   ]
  },
  {
   "cell_type": "code",
   "execution_count": 3,
   "id": "f9ab961f-8c45-4549-8c8d-a8ffd37ed032",
   "metadata": {},
   "outputs": [
    {
     "name": "stdout",
     "output_type": "stream",
     "text": [
      "{'brand': 'Ford', 'model': 'Mustang', 'year': 2020}\n"
     ]
    }
   ],
   "source": [
    "thisdict = {\n",
    "  \"brand\": \"Ford\",\n",
    "  \"model\": \"Mustang\",\n",
    "  \"year\": 1964,\n",
    "    \"year\": 2020\n",
    "}\n",
    "print(thisdict)"
   ]
  },
  {
   "cell_type": "raw",
   "id": "022e38d8-940a-43ce-a426-3b56b399edc9",
   "metadata": {},
   "source": [
    "Dictionary Length\n",
    "To determine how many items a dictionary has, use the len() function:\n",
    "\n",
    "Example\n",
    "Print the number of items in the dictionary:"
   ]
  },
  {
   "cell_type": "code",
   "execution_count": 12,
   "id": "e624d32c-5d60-4c62-b1d5-0741bf6fb007",
   "metadata": {},
   "outputs": [
    {
     "name": "stdout",
     "output_type": "stream",
     "text": [
      "{'brand': 'Ford', 'model': 'Mustang', 'mear': 1964, 'gear': 2020, 'tear': 2022, 'year': 2023}\n"
     ]
    }
   ],
   "source": [
    "thisdict = {\n",
    "  \"brand\": \"Ford\",\n",
    "  \"model\": \"Mustang\",\n",
    "  \"mear\": 1964,\n",
    "  \"gear\": 2020,\n",
    "  \"tear\": 2022,\n",
    "    \"year\":2023\n",
    "}\n",
    "print(thisdict)\n",
    "# print(len(thisdict))"
   ]
  },
  {
   "cell_type": "raw",
   "id": "07b47ead-9ce7-475c-b251-072ae0465655",
   "metadata": {},
   "source": [
    "Dictionary Length\n",
    "To determine how many items a dictionary has, use the len() function:\n",
    "\n",
    "Example\n",
    "Print the number of items in the dictionary:"
   ]
  },
  {
   "cell_type": "code",
   "execution_count": 13,
   "id": "1f0259f0-15f6-4228-8952-8808050bc9c4",
   "metadata": {},
   "outputs": [
    {
     "name": "stdout",
     "output_type": "stream",
     "text": [
      "6\n"
     ]
    }
   ],
   "source": [
    "print(len(thisdict))"
   ]
  },
  {
   "cell_type": "raw",
   "id": "7489c270-c09d-440d-b41d-17425e716ea5",
   "metadata": {},
   "source": [
    "Dictionary Items - Data Types\n",
    "The values in dictionary items can be of any data type:\n",
    "\n",
    "Example\n",
    "String, int, boolean, and list data types:"
   ]
  },
  {
   "cell_type": "code",
   "execution_count": 14,
   "id": "a35ac9f8-60eb-4a36-bf5b-a56415cc7400",
   "metadata": {},
   "outputs": [
    {
     "name": "stdout",
     "output_type": "stream",
     "text": [
      "<class 'dict'>\n"
     ]
    }
   ],
   "source": [
    "thisdict = {\n",
    "  \"brand\": \"Ford\",\n",
    "  \"electric\": False,\n",
    "  \"year\": 1964,\n",
    "  \"colors\": [\"red\", \"white\", \"blue\"]\n",
    "}\n",
    "print(type(thisdict))"
   ]
  },
  {
   "cell_type": "raw",
   "id": "0ff27aa5-6b8b-4ecc-853c-bcb7acef1dfe",
   "metadata": {},
   "source": [
    "The dict() Constructor\n",
    "It is also possible to use the dict() constructor to make a dictionary.\n",
    "\n",
    "Example\n",
    "Using the dict() method to make a dictionary:\n"
   ]
  },
  {
   "cell_type": "code",
   "execution_count": 15,
   "id": "700b29ae-43dd-4e65-acba-27d5656e7c60",
   "metadata": {},
   "outputs": [
    {
     "name": "stdout",
     "output_type": "stream",
     "text": [
      "{'name': 'John', 'age': 36, 'country': 'Norway'}\n"
     ]
    }
   ],
   "source": [
    "thisdict = dict(name = \"John\", age = 36, country = \"Norway\")\n",
    "print(thisdict)"
   ]
  },
  {
   "cell_type": "code",
   "execution_count": null,
   "id": "6518a022-e7ea-448b-8703-53332174210c",
   "metadata": {},
   "outputs": [],
   "source": []
  }
 ],
 "metadata": {
  "kernelspec": {
   "display_name": "Python 3 (ipykernel)",
   "language": "python",
   "name": "python3"
  },
  "language_info": {
   "codemirror_mode": {
    "name": "ipython",
    "version": 3
   },
   "file_extension": ".py",
   "mimetype": "text/x-python",
   "name": "python",
   "nbconvert_exporter": "python",
   "pygments_lexer": "ipython3",
   "version": "3.13.3"
  }
 },
 "nbformat": 4,
 "nbformat_minor": 5
}
