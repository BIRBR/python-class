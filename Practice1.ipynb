{
 "cells": [
  {
   "cell_type": "markdown",
   "id": "ada598f5-6b4b-4486-9b63-77e8d0df3415",
   "metadata": {},
   "source": [
    "# This is New Practice Class"
   ]
  },
  {
   "cell_type": "code",
   "execution_count": 3,
   "id": "90547635-6907-483f-bb17-20bae5abf271",
   "metadata": {},
   "outputs": [
    {
     "name": "stdout",
     "output_type": "stream",
     "text": [
      "A brown fox quickly jumps over the lazy dog\n"
     ]
    }
   ],
   "source": [
    "Main_string = \"A brown fox quickly jumps over the lazy dog\"\n",
    "print(Main_string)"
   ]
  },
  {
   "cell_type": "code",
   "execution_count": 4,
   "id": "a33622cb-ecc4-4e5a-b2b4-98c2ca44441b",
   "metadata": {},
   "outputs": [
    {
     "name": "stdout",
     "output_type": "stream",
     "text": [
      "43\n"
     ]
    }
   ],
   "source": [
    "print(len(Main_string)) # counts and displays total number of strings"
   ]
  },
  {
   "cell_type": "code",
   "execution_count": 5,
   "id": "41379b35-28a3-47f0-a0b5-e0c7ecc6a060",
   "metadata": {},
   "outputs": [
    {
     "name": "stdout",
     "output_type": "stream",
     "text": [
      "A\n"
     ]
    }
   ],
   "source": [
    "print(Main_string[0]) # extract the 1st string from leftmost "
   ]
  },
  {
   "cell_type": "code",
   "execution_count": 6,
   "id": "d4048a66-45fd-4794-8132-3eb360d4f53d",
   "metadata": {},
   "outputs": [
    {
     "name": "stdout",
     "output_type": "stream",
     "text": [
      "rown\n"
     ]
    }
   ],
   "source": [
    "print(Main_string[3:7]) # extract the string within first number of index to last number of index"
   ]
  },
  {
   "cell_type": "code",
   "execution_count": 7,
   "id": "1ace1cb8-2410-439e-bc74-705935c64f02",
   "metadata": {},
   "outputs": [
    {
     "name": "stdout",
     "output_type": "stream",
     "text": [
      "g\n"
     ]
    }
   ],
   "source": [
    "print(Main_string[-1]) # rightmost letter is -1 index too"
   ]
  },
  {
   "cell_type": "code",
   "execution_count": 10,
   "id": "086916b3-e9f7-425b-8191-669f26e99fa2",
   "metadata": {},
   "outputs": [
    {
     "name": "stdout",
     "output_type": "stream",
     "text": [
      "lazy do\n"
     ]
    }
   ],
   "source": [
    "print(Main_string[-8:-1]) # not allowed right to left"
   ]
  },
  {
   "cell_type": "markdown",
   "id": "05ca0683-c597-4417-a667-7a3dcb6cab63",
   "metadata": {},
   "source": [
    "# Dictionarty Practice"
   ]
  },
  {
   "cell_type": "code",
   "execution_count": 15,
   "id": "f05df207-64fa-4be1-847f-c98773a7d633",
   "metadata": {},
   "outputs": [
    {
     "name": "stdout",
     "output_type": "stream",
     "text": [
      "<class 'dict'>\n"
     ]
    }
   ],
   "source": [
    "numbers = {\n",
    "    1: \"One\",\n",
    "    2: \"Two\",\n",
    "    3: \"Three\",\n",
    "    4: \"Four\",\n",
    "}\n",
    "print(type(numbers))"
   ]
  },
  {
   "cell_type": "code",
   "execution_count": 16,
   "id": "599b29ff-1843-4eba-b4ad-849f21949ba4",
   "metadata": {},
   "outputs": [
    {
     "name": "stdout",
     "output_type": "stream",
     "text": [
      "{1: 'One', 2: 'Two', 3: 'Three', 4: 'Four'}\n"
     ]
    }
   ],
   "source": [
    "print(numbers)"
   ]
  },
  {
   "cell_type": "code",
   "execution_count": 17,
   "id": "09377eba-e60e-4ff2-9b07-891f2bf12e42",
   "metadata": {},
   "outputs": [
    {
     "data": {
      "text/plain": [
       "'One'"
      ]
     },
     "execution_count": 17,
     "metadata": {},
     "output_type": "execute_result"
    }
   ],
   "source": [
    "numbers[1]"
   ]
  },
  {
   "cell_type": "code",
   "execution_count": 18,
   "id": "d8f56279-658d-4227-ad76-17e422fdaf6f",
   "metadata": {},
   "outputs": [
    {
     "data": {
      "text/plain": [
       "'Two'"
      ]
     },
     "execution_count": 18,
     "metadata": {},
     "output_type": "execute_result"
    }
   ],
   "source": [
    "numbers[2]"
   ]
  },
  {
   "cell_type": "code",
   "execution_count": 19,
   "id": "8247bddd-76e5-4baa-a12f-20a88ff91e7a",
   "metadata": {},
   "outputs": [
    {
     "data": {
      "text/plain": [
       "'Four'"
      ]
     },
     "execution_count": 19,
     "metadata": {},
     "output_type": "execute_result"
    }
   ],
   "source": [
    "numbers[3]\n",
    "numbers[4]"
   ]
  },
  {
   "cell_type": "code",
   "execution_count": 20,
   "id": "2f2bb2fb-bd27-48de-9274-7b275955d082",
   "metadata": {},
   "outputs": [
    {
     "name": "stdout",
     "output_type": "stream",
     "text": [
      "<class 'list'>\n"
     ]
    }
   ],
   "source": [
    "numbers = [3, 4, 5, 6]\n",
    "print(type(numbers))"
   ]
  },
  {
   "cell_type": "code",
   "execution_count": 21,
   "id": "a3f27c5c-982c-48fc-b8d6-fa14b022b72a",
   "metadata": {},
   "outputs": [
    {
     "name": "stdout",
     "output_type": "stream",
     "text": [
      "<class 'list'>\n"
     ]
    }
   ],
   "source": [
    "print(type(numbers))"
   ]
  },
  {
   "cell_type": "code",
   "execution_count": 22,
   "id": "1562726f-6b9e-45cb-a9ec-18e4e1aaa28a",
   "metadata": {},
   "outputs": [
    {
     "name": "stdout",
     "output_type": "stream",
     "text": [
      "<class 'tuple'>\n"
     ]
    }
   ],
   "source": [
    "numbers = (3, 4, 5)\n",
    "print(type(numbers))"
   ]
  },
  {
   "cell_type": "code",
   "execution_count": 23,
   "id": "9adfc008-af5d-46a2-bbaa-fb2cf5aa2bd4",
   "metadata": {},
   "outputs": [
    {
     "name": "stdout",
     "output_type": "stream",
     "text": [
      "<class 'set'>\n"
     ]
    }
   ],
   "source": [
    "numbers = {3, 4,5,6}\n",
    "print(type(numbers))"
   ]
  },
  {
   "cell_type": "code",
   "execution_count": 26,
   "id": "28b64609-1481-47fc-aa2e-ad12eb64572d",
   "metadata": {},
   "outputs": [
    {
     "name": "stdout",
     "output_type": "stream",
     "text": [
      "['False', 'None', 'True', 'and', 'as', 'assert', 'async', 'await', 'break', 'class', 'continue', 'def', 'del', 'elif', 'else', 'except', 'finally', 'for', 'from', 'global', 'if', 'import', 'in', 'is', 'lambda', 'nonlocal', 'not', 'or', 'pass', 'raise', 'return', 'try', 'while', 'with', 'yield']\n"
     ]
    }
   ],
   "source": [
    "import keyword\n",
    "keyword.kwlist\n",
    "print(keyword.kwlist)"
   ]
  },
  {
   "cell_type": "code",
   "execution_count": 29,
   "id": "39e165f8-e05f-4519-bbc7-cc30b033909c",
   "metadata": {},
   "outputs": [
    {
     "name": "stdout",
     "output_type": "stream",
     "text": [
      "35\n"
     ]
    }
   ],
   "source": [
    "print(len(keyword.kwlist))"
   ]
  },
  {
   "cell_type": "code",
   "execution_count": 30,
   "id": "3cb4b489-5080-4e5f-9e9c-ae75967cad1c",
   "metadata": {},
   "outputs": [
    {
     "name": "stdout",
     "output_type": "stream",
     "text": [
      "['False', 'None', 'True', 'and', 'as', 'assert', 'async', 'await', 'break', 'class', 'continue', 'def', 'del', 'elif', 'else', 'except', 'finally', 'for', 'from', 'global', 'if', 'import', 'in', 'is', 'lambda', 'nonlocal', 'not', 'or', 'pass', 'raise', 'return', 'try', 'while', 'with', 'yield']\n",
      "35\n"
     ]
    }
   ],
   "source": [
    "import keyword\n",
    "keyword.kwlist\n",
    "print(keyword.kwlist)\n",
    "print(len(keyword.kwlist))"
   ]
  },
  {
   "cell_type": "code",
   "execution_count": 31,
   "id": "dd98a9f8-5651-4325-8f68-88e21ca54cf0",
   "metadata": {},
   "outputs": [
    {
     "name": "stdout",
     "output_type": "stream",
     "text": [
      "3 5 8 7\n"
     ]
    }
   ],
   "source": [
    "a, b, c, d = 3, 5, 8, 7\n",
    "print(a, b, c, d)"
   ]
  },
  {
   "cell_type": "code",
   "execution_count": null,
   "id": "bbb8e619-eca7-4f33-b4ea-15598b2a0653",
   "metadata": {},
   "outputs": [],
   "source": []
  }
 ],
 "metadata": {
  "kernelspec": {
   "display_name": "Python 3 (ipykernel)",
   "language": "python",
   "name": "python3"
  },
  "language_info": {
   "codemirror_mode": {
    "name": "ipython",
    "version": 3
   },
   "file_extension": ".py",
   "mimetype": "text/x-python",
   "name": "python",
   "nbconvert_exporter": "python",
   "pygments_lexer": "ipython3",
   "version": "3.13.3"
  }
 },
 "nbformat": 4,
 "nbformat_minor": 5
}
