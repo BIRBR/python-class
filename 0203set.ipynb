{
 "cells": [
  {
   "cell_type": "markdown",
   "id": "66dbd6f7-f9ca-46b2-bebf-59cb88070593",
   "metadata": {},
   "source": [
    "### SetPractice 2082/02/03 Saturday"
   ]
  },
  {
   "cell_type": "code",
   "execution_count": 1,
   "id": "5d4d189f-67e4-45fb-9b53-ac8843b9a3e9",
   "metadata": {},
   "outputs": [
    {
     "name": "stdout",
     "output_type": "stream",
     "text": [
      "{'cherry', 'apple', 'banana'}\n"
     ]
    }
   ],
   "source": [
    "myset = {\"apple\", \"banana\", \"cherry\"}\n",
    "print(myset)"
   ]
  },
  {
   "cell_type": "markdown",
   "id": "cc3254ce-a900-40fa-9fd2-d3464916d302",
   "metadata": {},
   "source": [
    "### Undordered, Unchangeable, duplicate not allowed"
   ]
  },
  {
   "cell_type": "code",
   "execution_count": 2,
   "id": "b2b2fb8d-8947-4b22-b269-a26341050a12",
   "metadata": {},
   "outputs": [
    {
     "name": "stdout",
     "output_type": "stream",
     "text": [
      "{'cherry', 'apple', 'banana'}\n"
     ]
    }
   ],
   "source": [
    "myset = {\"apple\", \"banana\", \"cherry\", \"apple\"}\n",
    "print(myset)"
   ]
  },
  {
   "cell_type": "markdown",
   "id": "55add8b1-8754-43e3-b2e9-aac4005566b6",
   "metadata": {},
   "source": [
    "### True and 1 is considered as the same value\""
   ]
  },
  {
   "cell_type": "code",
   "execution_count": 3,
   "id": "50405a64-e44b-4164-bfbb-e8b42a1a2555",
   "metadata": {},
   "outputs": [
    {
     "name": "stdout",
     "output_type": "stream",
     "text": [
      "{'cherry', 2, True, 'apple', 'banana'}\n"
     ]
    }
   ],
   "source": [
    "myset = {\"apple\", \"banana\", \"cherry\", \"apple\", True, 1, 2}\n",
    "print(myset)"
   ]
  },
  {
   "cell_type": "markdown",
   "id": "e0f8fb36-ff91-4391-9193-f3e0fd727e95",
   "metadata": {},
   "source": [
    "### False and 0 is considered as the same value"
   ]
  },
  {
   "cell_type": "code",
   "execution_count": 4,
   "id": "d90f7a12-a520-41fc-8ed0-1f7b29d9b319",
   "metadata": {},
   "outputs": [
    {
     "name": "stdout",
     "output_type": "stream",
     "text": [
      "{False, 'cherry', True, 'apple', 'banana'}\n"
     ]
    }
   ],
   "source": [
    "myset = {\"apple\", \"banana\", \"cherry\", \"apple\", True, 1, False, 0}\n",
    "print(myset)"
   ]
  },
  {
   "cell_type": "markdown",
   "id": "876f2218-e6cb-4f8f-b7eb-dbda63111117",
   "metadata": {},
   "source": [
    "### Get the length of a set"
   ]
  },
  {
   "cell_type": "code",
   "execution_count": 5,
   "id": "d4d2a95d-fa36-445b-a001-c8f7c2ad11fb",
   "metadata": {},
   "outputs": [
    {
     "name": "stdout",
     "output_type": "stream",
     "text": [
      "5\n"
     ]
    }
   ],
   "source": [
    "myset = {\"apple\", \"banana\", \"cherry\", \"apple\", True, 1, False, 0}\n",
    "print(len(myset))"
   ]
  },
  {
   "cell_type": "markdown",
   "id": "30043eb0-4348-42ad-a496-b47769edad4a",
   "metadata": {},
   "source": [
    "### Data Types"
   ]
  },
  {
   "cell_type": "code",
   "execution_count": 6,
   "id": "9e869fc1-0d56-49b4-8b9e-13a06a84cdc5",
   "metadata": {},
   "outputs": [
    {
     "name": "stdout",
     "output_type": "stream",
     "text": [
      "<class 'set'>\n"
     ]
    }
   ],
   "source": [
    "myset = {\"apple\", \"banana\", \"cherry\", \"apple\", True, 1, False, 0}\n",
    "print(type(myset))"
   ]
  },
  {
   "cell_type": "raw",
   "id": "95109228-d6c4-43be-b418-02e89b8619a1",
   "metadata": {},
   "source": [
    "A set can contain different data types:\n",
    "\n",
    "Example\n",
    "A set with strings, integers and boolean values:\n"
   ]
  },
  {
   "cell_type": "code",
   "execution_count": 7,
   "id": "b4d71117-944e-45c8-a5b3-11da1117f8c9",
   "metadata": {},
   "outputs": [
    {
     "name": "stdout",
     "output_type": "stream",
     "text": [
      "{True, 34, 'male', 'abc', 40}\n"
     ]
    }
   ],
   "source": [
    "set1 = {\"abc\", 34, True, 40, \"male\"}\n",
    "print(set1)\n"
   ]
  },
  {
   "cell_type": "raw",
   "id": "28b4aea3-88a2-4c31-aed3-f5398460590e",
   "metadata": {},
   "source": [
    "The set() Constructor\n",
    "It is also possible to use the set() constructor to make a set.\n",
    "\n",
    "Example\n",
    "Using the set() constructor to make a set:\n"
   ]
  },
  {
   "cell_type": "code",
   "execution_count": 8,
   "id": "938b6186-1d24-42bc-8bff-29a2c9d03d40",
   "metadata": {},
   "outputs": [
    {
     "name": "stdout",
     "output_type": "stream",
     "text": [
      "{'cherry', 'apple', 'banana'}\n"
     ]
    }
   ],
   "source": [
    "\n",
    "thisset = set((\"apple\", \"banana\", \"cherry\")) # note the double round-brackets\n",
    "print(thisset)"
   ]
  },
  {
   "cell_type": "raw",
   "id": "719a43ba-9ae9-452f-850d-0306f3b742bf",
   "metadata": {},
   "source": [
    "Access Items\n",
    "You cannot access items in a set by referring to an index or a key.\n",
    "\n",
    "But you can loop through the set items using a for loop, or ask if a specified value is present in a set, by using the in keyword.\n",
    "\n",
    "ExampleGet your own Python Server\n",
    "Loop through the set, and print the values:"
   ]
  },
  {
   "cell_type": "code",
   "execution_count": 9,
   "id": "c1967657-3346-459c-b347-d023ebe9c674",
   "metadata": {},
   "outputs": [
    {
     "name": "stdout",
     "output_type": "stream",
     "text": [
      "cherry\n",
      "apple\n",
      "banana\n"
     ]
    }
   ],
   "source": [
    "thisset = {'cherry', 'apple', 'banana'}\n",
    "for x in thisset:\n",
    "    print(x)"
   ]
  },
  {
   "cell_type": "raw",
   "id": "4c3d293e-caf4-4bf8-91c1-d88e2b3a344d",
   "metadata": {},
   "source": [
    "Check if \"banana\" is NOT present in the set:\n"
   ]
  },
  {
   "cell_type": "code",
   "execution_count": 10,
   "id": "6f3486a8-8915-4357-a64f-4198e95c2c5c",
   "metadata": {},
   "outputs": [
    {
     "name": "stdout",
     "output_type": "stream",
     "text": [
      "False\n"
     ]
    }
   ],
   "source": [
    "thisset = {\"apple\", \"banana\", \"cherry\"}\n",
    "print(\"banana\" not in thisset)"
   ]
  },
  {
   "cell_type": "code",
   "execution_count": 12,
   "id": "7c01a25d-9cb8-4a56-b8d9-f42f9ceca7af",
   "metadata": {},
   "outputs": [
    {
     "name": "stdout",
     "output_type": "stream",
     "text": [
      "True\n"
     ]
    }
   ],
   "source": [
    "thisset = {\"apple\", \"banana\", \"cherry\"}\n",
    "print(\"kera\" not in thisset)"
   ]
  },
  {
   "cell_type": "code",
   "execution_count": 13,
   "id": "840b4567-3e27-4c8c-8a5c-e2a99de246a5",
   "metadata": {},
   "outputs": [],
   "source": [
    "# Once a set is created, you cannot change its items, but you can add new items."
   ]
  },
  {
   "cell_type": "raw",
   "id": "f59f0b47-6dd3-4ba5-b80e-a8be42ef9606",
   "metadata": {},
   "source": [
    "Add Items\n",
    "Once a set is created, you cannot change its items, but you can add new items.\n",
    "To add one item to a set use the add() method.\n",
    "ExampleGet your own Python Server\n",
    "Add an item to a set, using the add() method:\n"
   ]
  },
  {
   "cell_type": "code",
   "execution_count": 17,
   "id": "d69711cb-2d5c-435e-be45-395a23dc9bab",
   "metadata": {},
   "outputs": [
    {
     "name": "stdout",
     "output_type": "stream",
     "text": [
      "{'cherry', 'apple', 'banana', 'orange'}\n"
     ]
    }
   ],
   "source": [
    "thisset = {\"apple\", \"banana\", \"cherry\"}\n",
    "thisset.add(\"orange\")\n",
    "thisset.add(\"apple\")# no duplicate allowed\n",
    "print(thisset)"
   ]
  },
  {
   "cell_type": "raw",
   "id": "b0552e8f-f582-4845-b9e0-450a408082cb",
   "metadata": {},
   "source": [
    "Add Sets\n",
    "To add items from another set into the current set, use the update() method.\n",
    "Example\n",
    "Add elements from tropical into thisset:"
   ]
  },
  {
   "cell_type": "code",
   "execution_count": 18,
   "id": "6502623f-9fe8-4fe1-8de3-96e6b6134b36",
   "metadata": {},
   "outputs": [
    {
     "name": "stdout",
     "output_type": "stream",
     "text": [
      "{'cherry', 'apple', 'banana', 'pineaple', 'mango', 'papaya'}\n"
     ]
    }
   ],
   "source": [
    "thisset = {\"apple\", \"banana\", \"cherry\"}\n",
    "tropical = {\"pineaple\", \"mango\", \"papaya\"}\n",
    "thisset.update(tropical)\n",
    "print(thisset)"
   ]
  },
  {
   "cell_type": "raw",
   "id": "0a8c3937-cd7b-4274-bd93-21e3450f6933",
   "metadata": {},
   "source": [
    "Add Any Iterable\n",
    "The object in the update() method does not have to be a set, it can be any iterable object (tuples, lists, dictionaries etc.).\n",
    "Example\n",
    "Add elements of a list to at set:"
   ]
  },
  {
   "cell_type": "code",
   "execution_count": 19,
   "id": "4e881987-291a-4c2f-bf31-93fbfbc3e6e1",
   "metadata": {},
   "outputs": [
    {
     "name": "stdout",
     "output_type": "stream",
     "text": [
      "{'cherry', 'papaya', 'apple', 'banana', 'pineaple', 'mango'}\n"
     ]
    }
   ],
   "source": [
    "thisset = {\"apple\", \"banana\", \"cherry\"}\n",
    "tropical = [\"pineaple\", \"mango\", \"papaya\"]\n",
    "thisset.update(tropical)\n",
    "print(thisset)"
   ]
  },
  {
   "cell_type": "raw",
   "id": "9080da20-76bf-4d7f-959c-75c73d94cc78",
   "metadata": {},
   "source": [
    "Remove Item\n",
    "To remove an item in a set, use the remove(), or the discard() method.\n",
    "ExampleGet your own Python Server\n",
    "Remove \"banana\" by using the remove() method:"
   ]
  },
  {
   "cell_type": "code",
   "execution_count": 20,
   "id": "5b807c8c-b871-4931-88a9-614054ff4f61",
   "metadata": {},
   "outputs": [
    {
     "name": "stdout",
     "output_type": "stream",
     "text": [
      "{'cherry', 'apple'}\n"
     ]
    }
   ],
   "source": [
    "thisset = {\"apple\", \"banana\", \"cherry\"}\n",
    "thisset.discard(\"banana\")\n",
    "print(thisset)"
   ]
  },
  {
   "cell_type": "raw",
   "id": "7b093ab8-fa58-409a-a650-31bbd70e3c1a",
   "metadata": {},
   "source": [
    "Note: If the item to remove does not exist, discard() will NOT raise an error.\n",
    "You can also use the pop() method to remove an item, but this method will remove a random item, so you cannot be sure what item that gets removed.\n",
    "The return value of the pop() method is the removed item.\n",
    "Example\n",
    "Remove a random item by using the pop() method:"
   ]
  },
  {
   "cell_type": "code",
   "execution_count": 23,
   "id": "aa469d75-56a6-4da9-821e-eb9845bc9d07",
   "metadata": {},
   "outputs": [
    {
     "name": "stdout",
     "output_type": "stream",
     "text": [
      "cherry\n",
      "{'apple', 'banana'}\n"
     ]
    }
   ],
   "source": [
    "thisset = {\"apple\", \"banana\", \"cherry\"}\n",
    "x = thisset.pop()\n",
    "print(x)\n",
    "print(thisset)"
   ]
  },
  {
   "cell_type": "raw",
   "id": "44d94f82-9654-4058-8a5d-110964aa9345",
   "metadata": {},
   "source": [
    "Note: Sets are unordered, so when using the pop() method, you do not know which item that gets removed.\n",
    "Example\n",
    "The clear() method empties the set:"
   ]
  },
  {
   "cell_type": "code",
   "execution_count": 24,
   "id": "a1b9b149-9309-4803-8aa4-6182b8550ef6",
   "metadata": {},
   "outputs": [
    {
     "name": "stdout",
     "output_type": "stream",
     "text": [
      "set()\n"
     ]
    }
   ],
   "source": [
    "thisset = {\"apple\", \"banana\", \"cherry\"}\n",
    "thisset.clear()\n",
    "print(thisset)"
   ]
  },
  {
   "cell_type": "raw",
   "id": "4b601502-9fb9-481a-bcd9-547fc6a9237c",
   "metadata": {},
   "source": [
    "Example\n",
    "The del keyword will delete the set completely:\n"
   ]
  },
  {
   "cell_type": "code",
   "execution_count": 27,
   "id": "06417b5a-8cdd-4118-87cd-6f163fe79291",
   "metadata": {},
   "outputs": [
    {
     "ename": "NameError",
     "evalue": "name 'thisset' is not defined",
     "output_type": "error",
     "traceback": [
      "\u001b[31m---------------------------------------------------------------------------\u001b[39m",
      "\u001b[31mNameError\u001b[39m                                 Traceback (most recent call last)",
      "\u001b[36mCell\u001b[39m\u001b[36m \u001b[39m\u001b[32mIn[27]\u001b[39m\u001b[32m, line 5\u001b[39m\n\u001b[32m      1\u001b[39m thisset = {\u001b[33m\"\u001b[39m\u001b[33mapple\u001b[39m\u001b[33m\"\u001b[39m, \u001b[33m\"\u001b[39m\u001b[33mbanana\u001b[39m\u001b[33m\"\u001b[39m, \u001b[33m\"\u001b[39m\u001b[33mcherry\u001b[39m\u001b[33m\"\u001b[39m}\n\u001b[32m      3\u001b[39m \u001b[38;5;28;01mdel\u001b[39;00m thisset\n\u001b[32m----> \u001b[39m\u001b[32m5\u001b[39m \u001b[38;5;28mprint\u001b[39m(\u001b[43mthisset\u001b[49m)\n",
      "\u001b[31mNameError\u001b[39m: name 'thisset' is not defined"
     ]
    }
   ],
   "source": [
    "thisset = {\"apple\", \"banana\", \"cherry\"}\n",
    "\n",
    "del thisset\n",
    "\n",
    "print(thisset)# get error message cuz thisset will be delated"
   ]
  },
  {
   "cell_type": "raw",
   "id": "6e517858-758e-40e6-b9c0-bf6cd151c222",
   "metadata": {},
   "source": [
    "Loop Items\n",
    "You can loop through the set items by using a for loop:\n",
    "ExampleGet your own Python Server\n",
    "Loop through the set, and print the values:"
   ]
  },
  {
   "cell_type": "markdown",
   "id": "820f9049-976f-476b-a0c1-476dcc931347",
   "metadata": {},
   "source": [
    "# why??"
   ]
  },
  {
   "cell_type": "code",
   "execution_count": 1,
   "id": "140996fb-720f-4259-ba9e-3b35db10a94b",
   "metadata": {},
   "outputs": [
    {
     "name": "stdout",
     "output_type": "stream",
     "text": [
      "cherry\n",
      "apple\n",
      "banana\n"
     ]
    }
   ],
   "source": [
    "thisset = {\"apple\", \"banana\", \"cherry\"}\n",
    "for x in thisset:\n",
    "    print(x)"
   ]
  },
  {
   "cell_type": "raw",
   "id": "77c60ae1-ef1e-4b04-8223-fdb251e8ec1d",
   "metadata": {},
   "source": [
    "Join Sets\n",
    "There are several ways to join two or more sets in Python.\n",
    "The union() and update() methods joins all items from both sets.\n",
    "The intersection() method keeps ONLY the duplicates.\n",
    "The difference() method keeps the items from the first set that are not in the other set(s).\n",
    "The symmetric_difference() method keeps all items EXCEPT the duplicates.\n",
    "Union\n",
    "The union() method returns a new set with all items from both sets.\n",
    "ExampleGet your own Python Server\n",
    "Join set1 and set2 into a new set:"
   ]
  },
  {
   "cell_type": "code",
   "execution_count": 30,
   "id": "d1c80672-4901-4942-a8c0-b116ef502e21",
   "metadata": {},
   "outputs": [
    {
     "name": "stdout",
     "output_type": "stream",
     "text": [
      "{'a', 1, 2, 3, 'c', 'b'}\n"
     ]
    }
   ],
   "source": [
    "set1 = {\"a\", \"b\", \"c\"}\n",
    "set2 = {1, 2, 3}\n",
    "set3 = set1.union(set2)\n",
    "print(set3)"
   ]
  },
  {
   "cell_type": "raw",
   "id": "c21cb25f-c21d-4c0b-8c33-8d2cdd32b2fa",
   "metadata": {},
   "source": [
    "You can use the | operator instead of the union() method, and you will get the same result.\n",
    "Example\n",
    "Use | to join two sets:"
   ]
  },
  {
   "cell_type": "code",
   "execution_count": 31,
   "id": "9e86e601-5e49-49d4-808b-7bb35ca7046b",
   "metadata": {},
   "outputs": [
    {
     "name": "stdout",
     "output_type": "stream",
     "text": [
      "{'a', 1, 2, 3, 'c', 'b'}\n"
     ]
    }
   ],
   "source": [
    "set1 = {\"a\", \"b\", \"c\"}\n",
    "set2 = {1, 2, 3}\n",
    "set3 = set1 | set2\n",
    "print(set3)"
   ]
  },
  {
   "cell_type": "raw",
   "id": "cf5e6ed7-7f59-4da9-9a15-9044938b2d5c",
   "metadata": {},
   "source": [
    "Join Multiple Sets\n",
    "All the joining methods and operators can be used to join multiple sets.\n",
    "When using a method, just add more sets in the parentheses, separated by commas:\n",
    "Example\n",
    "Join multiple sets with the union() method:"
   ]
  },
  {
   "cell_type": "raw",
   "id": "3357889e-53c4-41f5-8aab-7ce86f8ea09a",
   "metadata": {},
   "source": [
    "When using the | operator, separate the sets with more | operators:\n",
    "Example\n",
    "Use | to join two sets:"
   ]
  },
  {
   "cell_type": "code",
   "execution_count": 34,
   "id": "0b9539db-e720-41fd-a71b-5412875db9a1",
   "metadata": {},
   "outputs": [
    {
     "name": "stdout",
     "output_type": "stream",
     "text": [
      "{'a', 1, 2, 3, 'bananas', 'cherry', 'c', 'Elena', 'b', 'apple', 'John'}\n"
     ]
    }
   ],
   "source": [
    "set1 = {\"a\", \"b\", \"c\"}\n",
    "set2 = {1, 2, 3}\n",
    "set3 = {\"John\", \"Elena\"}\n",
    "set4 = {\"apple\", \"bananas\", \"cherry\"}\n",
    "myset = set1 | set2 | set3 |set4\n",
    "print(myset)"
   ]
  },
  {
   "cell_type": "raw",
   "id": "b1ee7f02-66b1-4218-83b3-f794933630bb",
   "metadata": {},
   "source": [
    "Join a Set and a Tuple\n",
    "The union() method allows you to join a set with other data types, like lists or tuples.\n",
    "The result will be a set.\n",
    "Example\n",
    "Join a set with a tuple:"
   ]
  },
  {
   "cell_type": "code",
   "execution_count": 35,
   "id": "38899a56-1362-44be-88c2-05db177bc985",
   "metadata": {},
   "outputs": [
    {
     "name": "stdout",
     "output_type": "stream",
     "text": [
      "{'a', 2, 1, 3, 'c', 'b'}\n"
     ]
    }
   ],
   "source": [
    "x = {\"a\", \"b\", \"c\"}\n",
    "y = (1, 2, 3)\n",
    "z = x.union(y)\n",
    "print(z)"
   ]
  },
  {
   "cell_type": "raw",
   "id": "2a366399-15cb-4eb3-8915-592970757f26",
   "metadata": {},
   "source": [
    "Update\n",
    "The update() method inserts all items from one set into another.\n",
    "The update() changes the original set, and does not return a new set.\n",
    "Example\n",
    "The update() method inserts the items in set2 into set1:"
   ]
  },
  {
   "cell_type": "code",
   "execution_count": 36,
   "id": "d25395c4-19d8-4113-b934-45307b6de146",
   "metadata": {},
   "outputs": [
    {
     "name": "stdout",
     "output_type": "stream",
     "text": [
      "{'a', 1, 2, 3, 'c', 'b'}\n"
     ]
    }
   ],
   "source": [
    "set1 = {\"a\", \"b\" , \"c\"}\n",
    "set2 = {1, 2, 3}\n",
    "set1.update(set2)\n",
    "print(set1)"
   ]
  },
  {
   "cell_type": "raw",
   "id": "437ece52-5ac6-43c6-b3a4-dda4fdebd2b9",
   "metadata": {},
   "source": [
    "Intersection\n",
    "Keep ONLY the duplicates\n",
    "The intersection() method will return a new set, that only contains the items that are present in both sets.\n",
    "Example\n",
    "Join set1 and set2, but keep only the duplicates:\n"
   ]
  },
  {
   "cell_type": "code",
   "execution_count": 37,
   "id": "c6a7b64e-2b06-4e2f-9c56-2a8869906237",
   "metadata": {},
   "outputs": [
    {
     "name": "stdout",
     "output_type": "stream",
     "text": [
      "{'apple'}\n"
     ]
    }
   ],
   "source": [
    "set1 = {\"apple\", \"banana\", \"cherry\"}\n",
    "set2 = {\"google\", \"microsoft\", \"apple\"}\n",
    "set3 = set1.intersection(set2)\n",
    "print(set3)"
   ]
  },
  {
   "cell_type": "raw",
   "id": "56151f86-23b2-45bc-9a99-7bd031ab55f2",
   "metadata": {},
   "source": [
    "You can use the & operator instead of the intersection() method, and you will get the same result.\n",
    "Example\n",
    "Use & to join two sets:"
   ]
  },
  {
   "cell_type": "code",
   "execution_count": 38,
   "id": "fe2257ab-bf2e-4d48-88c0-7176652e9302",
   "metadata": {},
   "outputs": [
    {
     "name": "stdout",
     "output_type": "stream",
     "text": [
      "{'apple'}\n"
     ]
    }
   ],
   "source": [
    "set1 = {\"apple\", \"banana\", \"cherry\"}\n",
    "set2 = {\"google\", \"microsoft\", \"apple\"}\n",
    "set3 = set1 & set2\n",
    "print(set3)"
   ]
  },
  {
   "cell_type": "raw",
   "id": "8e6b152d-7257-429a-9709-341a71a5a19a",
   "metadata": {},
   "source": [
    "Note: The & operator only allows you to join sets with sets, and not with other data types like you can with the intersection() method.\n",
    "\n",
    "The intersection_update() method will also keep ONLY the duplicates, but it will change the original set instead of returning a new set.\n",
    "\n",
    "Example\n",
    "Keep the items that exist in both set1, and set2:"
   ]
  },
  {
   "cell_type": "code",
   "execution_count": 39,
   "id": "819c1bd8-c62e-498a-af80-90f5b2afe72a",
   "metadata": {},
   "outputs": [
    {
     "name": "stdout",
     "output_type": "stream",
     "text": [
      "{'apple'}\n"
     ]
    }
   ],
   "source": [
    "set1 = {\"apple\", \"banana\", \"cherry\"}\n",
    "set2 = {\"google\", \"microsoft\", \"apple\"}\n",
    "set1.intersection_update(set2)\n",
    "print(set1)"
   ]
  },
  {
   "cell_type": "raw",
   "id": "9ce563ed-699d-4b5d-a561-d20ed230f51b",
   "metadata": {},
   "source": [
    "he values True and 1 are considered the same value. The same goes for False and 0.\n",
    "\n",
    "Example\n",
    "Join sets that contains the values True, False, 1, and 0, and see what is considered as duplicates:"
   ]
  },
  {
   "cell_type": "code",
   "execution_count": 40,
   "id": "6649ad6b-5a47-4e56-9c61-692282081d69",
   "metadata": {},
   "outputs": [
    {
     "name": "stdout",
     "output_type": "stream",
     "text": [
      "{False, 1, 'apple'}\n"
     ]
    }
   ],
   "source": [
    "set1 = {\"apple\", 1,  \"banana\", 0, \"cherry\"}\n",
    "set2 = {False, \"google\", 1, \"apple\", 2, True}\n",
    "set3 = set1.intersection(set2)\n",
    "print(set3)"
   ]
  },
  {
   "cell_type": "raw",
   "id": "865ff5a1-eb30-402c-8a62-22399255e366",
   "metadata": {},
   "source": [
    "Difference\n",
    "The difference() method will return a new set that will contain only the items from the first set that are not present in the other set.\n",
    "\n",
    "Example\n",
    "Keep all items from set1 that are not in set2:"
   ]
  },
  {
   "cell_type": "code",
   "execution_count": 43,
   "id": "3b13b444-f536-451b-aa3f-4fb732062f2d",
   "metadata": {},
   "outputs": [
    {
     "name": "stdout",
     "output_type": "stream",
     "text": [
      "{'cherry', 'banana'}\n"
     ]
    }
   ],
   "source": [
    "set1 = {\"apple\", \"banana\", \"cherry\"}\n",
    "set2 = {\"google\", \"microsoft\", \"apple\"}\n",
    "\n",
    "set3 = set1.difference(set2)\n",
    "\n",
    "print(set3)"
   ]
  },
  {
   "cell_type": "raw",
   "id": "1ccd253c-932e-49ad-b2fd-a69bc20e5e04",
   "metadata": {},
   "source": [
    "You can use the - operator instead of the difference() method, and you will get the same result.\n",
    "\n",
    "Example\n",
    "Use - to join two sets:"
   ]
  },
  {
   "cell_type": "code",
   "execution_count": 44,
   "id": "cd5ff4e4-3d07-45b2-b18f-8a3c6fb43283",
   "metadata": {},
   "outputs": [
    {
     "name": "stdout",
     "output_type": "stream",
     "text": [
      "{'cherry', 'banana'}\n"
     ]
    }
   ],
   "source": [
    "\n",
    "set1 = {\"apple\", \"banana\", \"cherry\"}\n",
    "set2 = {\"google\", \"microsoft\", \"apple\"}\n",
    "\n",
    "set3 = set1 - set2\n",
    "print(set3)"
   ]
  },
  {
   "cell_type": "raw",
   "id": "51c7d663-9dd1-44d6-90ae-0b12933475a4",
   "metadata": {},
   "source": [
    "Note: The - operator only allows you to join sets with sets, and not with other data types like you can with the difference() method.\n",
    "\n",
    "The difference_update() method will also keep the items from the first set that are not in the other set, but it will change the original set instead of returning a new set.\n",
    "\n",
    "Example\n",
    "Use the difference_update() method to keep the items that are not present in both sets:"
   ]
  },
  {
   "cell_type": "code",
   "execution_count": 45,
   "id": "5dfd501f-7ec1-47dd-ae9e-a8f886d9e285",
   "metadata": {},
   "outputs": [
    {
     "name": "stdout",
     "output_type": "stream",
     "text": [
      "{'cherry', 'banana'}\n"
     ]
    }
   ],
   "source": [
    "set1 = {\"apple\", \"banana\", \"cherry\"}\n",
    "set2 = {\"google\", \"microsoft\", \"apple\"}\n",
    "set1.difference_update(set2)\n",
    "print(set1)"
   ]
  },
  {
   "cell_type": "raw",
   "id": "7ed75d69-f09f-4d08-9713-3de66650bfce",
   "metadata": {},
   "source": [
    "Symmetric Differences\n",
    "The symmetric_difference() method will keep only the elements that are NOT present in both sets.\n",
    "\n",
    "Example\n",
    "Keep the items that are not present in both sets:"
   ]
  },
  {
   "cell_type": "code",
   "execution_count": 47,
   "id": "807d95c2-edf6-4a84-bb79-acff034d742b",
   "metadata": {},
   "outputs": [
    {
     "name": "stdout",
     "output_type": "stream",
     "text": [
      "{'cherry', 'google', 'microsoft', 'banana'}\n"
     ]
    }
   ],
   "source": [
    "\n",
    "set1 = {\"apple\", \"banana\", \"cherry\"}\n",
    "set2 = {\"google\", \"microsoft\", \"apple\"}\n",
    "\n",
    "set3 = set1.symmetric_difference(set2)\n",
    "\n",
    "print(set3)"
   ]
  },
  {
   "cell_type": "raw",
   "id": "6f7bb86c-5942-4a8c-bb47-836a7709cdb8",
   "metadata": {},
   "source": [
    "You can use the ^ operator instead of the symmetric_difference() method, and you will get the same result.\n",
    "\n",
    "Example\n",
    "Use ^ to join two sets:"
   ]
  },
  {
   "cell_type": "code",
   "execution_count": 48,
   "id": "271ba622-76cd-4e58-bc74-f6f44a1308d9",
   "metadata": {},
   "outputs": [
    {
     "name": "stdout",
     "output_type": "stream",
     "text": [
      "{'cherry', 'google', 'microsoft', 'banana'}\n"
     ]
    }
   ],
   "source": [
    "\n",
    "set1 = {\"apple\", \"banana\", \"cherry\"}\n",
    "set2 = {\"google\", \"microsoft\", \"apple\"}\n",
    "\n",
    "set3 = set1 ^ set2\n",
    "print(set3)"
   ]
  },
  {
   "cell_type": "raw",
   "id": "93806dee-7a3e-4000-be02-b4dfd2b00213",
   "metadata": {},
   "source": [
    "Note: The ^ operator only allows you to join sets with sets, and not with other data types like you can with the symmetric_difference() method.\n",
    "\n",
    "The symmetric_difference_update() method will also keep all but the duplicates, but it will change the original set instead of returning a new set.\n",
    "\n",
    "Example\n",
    "Use the symmetric_difference_update() method to keep the items that are not present in both sets:\n"
   ]
  },
  {
   "cell_type": "code",
   "execution_count": 49,
   "id": "913e40f0-8546-47eb-8572-ef085b61dbe7",
   "metadata": {},
   "outputs": [
    {
     "name": "stdout",
     "output_type": "stream",
     "text": [
      "{'cherry', 'google', 'microsoft', 'banana'}\n"
     ]
    }
   ],
   "source": [
    "\n",
    "set1 = {\"apple\", \"banana\", \"cherry\"}\n",
    "set2 = {\"google\", \"microsoft\", \"apple\"}\n",
    "\n",
    "set1.symmetric_difference_update(set2)\n",
    "\n",
    "print(set1)"
   ]
  },
  {
   "cell_type": "raw",
   "id": "2d4f3903-2dd0-4efc-b764-21bf4235869e",
   "metadata": {},
   "source": [
    "\n",
    "set1 = {\"apple\", \"banana\", \"cherry\"}\n",
    "set2 = {\"google\", \"microsoft\", \"apple\"}\n",
    "\n",
    "set1.symmetric_difference_update(set2)\n",
    "\n",
    "print(set1)"
   ]
  },
  {
   "cell_type": "raw",
   "id": "9c8fe9b3-8bfb-46b7-a944-6cfd97a3fd1c",
   "metadata": {},
   "source": [
    "Set Methods\n",
    "Python has a set of built-in methods that you can use on sets.\n",
    "\n",
    "Method\tShortcut\tDescription\n",
    "add()\t \tAdds an element to the set\n",
    "clear()\t \tRemoves all the elements from the set\n",
    "copy()\t \tReturns a copy of the set\n",
    "difference()\t-\tReturns a set containing the difference between two or more sets\n",
    "difference_update()\t-=\tRemoves the items in this set that are also included in another, specified set\n",
    "discard()\t \tRemove the specified item\n",
    "intersection()\t&\tReturns a set, that is the intersection of two other sets\n",
    "intersection_update()\t&=\tRemoves the items in this set that are not present in other, specified set(s)\n",
    "isdisjoint()\t \tReturns whether two sets have a intersection or not\n",
    "issubset()\t<=\tReturns whether another set contains this set or not\n",
    " \t<\tReturns whether all items in this set is present in other, specified set(s)\n",
    "issuperset()\t>=\tReturns whether this set contains another set or not\n",
    " \t>\tReturns whether all items in other, specified set(s) is present in this set\n",
    "pop()\t \tRemoves an element from the set\n",
    "remove()\t \tRemoves the specified element\n",
    "symmetric_difference()\t^\tReturns a set with the symmetric differences of two sets\n",
    "symmetric_difference_update()\t^=\tInserts the symmetric differences from this set and another\n",
    "union()\t|\tReturn a set containing the union of sets\n",
    "update()\t|=\tUpdate the set with the union of this set and others\n"
   ]
  }
 ],
 "metadata": {
  "kernelspec": {
   "display_name": "Python 3 (ipykernel)",
   "language": "python",
   "name": "python3"
  },
  "language_info": {
   "codemirror_mode": {
    "name": "ipython",
    "version": 3
   },
   "file_extension": ".py",
   "mimetype": "text/x-python",
   "name": "python",
   "nbconvert_exporter": "python",
   "pygments_lexer": "ipython3",
   "version": "3.13.3"
  }
 },
 "nbformat": 4,
 "nbformat_minor": 5
}
