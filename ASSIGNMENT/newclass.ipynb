{
 "cells": [
  {
   "cell_type": "code",
   "execution_count": 10,
   "id": "59bafeed",
   "metadata": {},
   "outputs": [],
   "source": [
    "f= open(\"demofile.txt\", \"a\")\n",
    "# print(f.readline())\n",
    "# print(f.read(5))\n",
    "# for x in f:\n",
    "    # print (x)\n",
    "f.write(\"lorem ipsum katta gayo?\")\n",
    "f.close()\n",
    "\n"
   ]
  },
  {
   "cell_type": "code",
   "execution_count": null,
   "id": "73fdb973",
   "metadata": {},
   "outputs": [],
   "source": []
  }
 ],
 "metadata": {
  "kernelspec": {
   "display_name": "Python 3",
   "language": "python",
   "name": "python3"
  },
  "language_info": {
   "codemirror_mode": {
    "name": "ipython",
    "version": 3
   },
   "file_extension": ".py",
   "mimetype": "text/x-python",
   "name": "python",
   "nbconvert_exporter": "python",
   "pygments_lexer": "ipython3",
   "version": "3.13.3"
  }
 },
 "nbformat": 4,
 "nbformat_minor": 5
}
