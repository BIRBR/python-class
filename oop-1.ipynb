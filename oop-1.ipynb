{
 "cells": [
  {
   "cell_type": "code",
   "execution_count": 1,
   "id": "f431806d",
   "metadata": {},
   "outputs": [
    {
     "ename": "IndentationError",
     "evalue": "unexpected indent (643291762.py, line 8)",
     "output_type": "error",
     "traceback": [
      "  \u001b[36mCell\u001b[39m\u001b[36m \u001b[39m\u001b[32mIn[1]\u001b[39m\u001b[32m, line 8\u001b[39m\n\u001b[31m    \u001b[39m\u001b[31mdef say_hello(self):\u001b[39m\n    ^\n\u001b[31mIndentationError\u001b[39m\u001b[31m:\u001b[39m unexpected indent\n"
     ]
    }
   ],
   "source": [
    "#class with method and attribute\n",
    "class Person:\n",
    "    \"\"\"\n",
    "    This is a class person, which says hello for a poerson. # additional in original\n",
    "    \"\"\"\n",
    "    name = \"Sita\"\n",
    "a\n",
    "    def say_hello(self):\n",
    "        print(\"Hello, {self.name}\")\n",
    "    def __str__(self): # additional 2 a\n",
    "        return f\"Person object with name {self.name}\" # additional 2\n",
    "# creating object\n",
    "p=Person()\n",
    "p.say_hello()\n",
    "print(p)\n",
    "print(p.__class__)\n",
    "print(p.__doc__)"
   ]
  },
  {
   "cell_type": "code",
   "execution_count": 2,
   "id": "ccf5d111",
   "metadata": {},
   "outputs": [
    {
     "name": "stdout",
     "output_type": "stream",
     "text": [
      "Hello, {self.name}\n",
      "Person object with name Hari\n",
      "<class '__main__.Person'>\n",
      "\n",
      "This is a class person, which says hello for a poerson.\n",
      "\n",
      "Hello, {self.name}\n",
      "\n",
      "This is a class person, which says hello for a poerson.\n",
      "\n",
      "Person object with name Gopal\n",
      "I am destructur\n",
      "Person object with name A\n",
      "Person object with name B\n",
      "Person object with name C\n"
     ]
    }
   ],
   "source": [
    "#class with method and attribute, constructor and destructor\n",
    "class Person:\n",
    "    \"\"\"\n",
    "    This is a class person, which says hello for a poerson.\n",
    "    \"\"\"\n",
    "\n",
    "    def __init__(self, name):\n",
    "        self.name = name\n",
    "\n",
    "   # name = \"Sita\"\n",
    "    def say_hello(self):\n",
    "        print(\"Hello, {self.name}\")\n",
    "    def __str__(self): # additional 2 a\n",
    "        return f\"Person object with name {self.name}\" # additional 2\n",
    "    def __del__(self):\n",
    "        print(\"I am destructur\")\n",
    "# creating object\n",
    "p = Person(\"Hari\")\n",
    "p.say_hello()\n",
    "print(p)\n",
    "print(p.__class__)\n",
    "print(p.__doc__)\n",
    "p1 = Person(\"Gopal\")\n",
    "p1.say_hello()\n",
    "print(p1.__doc__)\n",
    "print(p1)\n",
    "## Make mulitple object\n",
    "Person = [Person(\"A\"), Person(\"B\"), Person(\"C\")]\n",
    "for p in Person:\n",
    "    print(p)"
   ]
  },
  {
   "cell_type": "code",
   "execution_count": 5,
   "id": "dc44b274",
   "metadata": {},
   "outputs": [],
   "source": [
    "# Class Assignment\n",
    "# Q. Write a class person\n",
    "# constructor -> name, age\n",
    "# Function greet -> Hello, my name is {name} and I am {age} years old.\n",
    "\n",
    "class Person:\n",
    "\n",
    "    def __init__(self, name, age):\n",
    "        self.name = name\n",
    "        self.age = age\n",
    "    def say_hello(self):\n",
    "        return f\"Hello my name is {self.name}, and I am {self.age} Years old\"\n"
   ]
  },
  {
   "cell_type": "code",
   "execution_count": null,
   "id": "81d21400",
   "metadata": {},
   "outputs": [
    {
     "name": "stdout",
     "output_type": "stream",
     "text": [
      "Hello my name is Hari, and I am 30 Years old\n"
     ]
    },
    {
     "ename": "TypeError",
     "evalue": "BankAccount() takes no arguments",
     "output_type": "error",
     "traceback": [
      "\u001b[31m---------------------------------------------------------------------------\u001b[39m",
      "\u001b[31mTypeError\u001b[39m                                 Traceback (most recent call last)",
      "\u001b[36mCell\u001b[39m\u001b[36m \u001b[39m\u001b[32mIn[2]\u001b[39m\u001b[32m, line 27\u001b[39m\n\u001b[32m     23\u001b[39m     \u001b[38;5;28;01mdef\u001b[39;00m\u001b[38;5;250m \u001b[39m\u001b[34mget_balance\u001b[39m(\u001b[38;5;28mself\u001b[39m):\n\u001b[32m     24\u001b[39m         \u001b[38;5;28;01mreturn\u001b[39;00m \u001b[38;5;28mself\u001b[39m.__balance\n\u001b[32m---> \u001b[39m\u001b[32m27\u001b[39m account = \u001b[43mBankAccount\u001b[49m\u001b[43m(\u001b[49m\u001b[32;43m100\u001b[39;49m\u001b[43m)\u001b[49m\n\u001b[32m     28\u001b[39m \u001b[38;5;28mprint\u001b[39m(\u001b[33mf\u001b[39m\u001b[33m\"\u001b[39m\u001b[33mBank Balance Rs. \u001b[39m\u001b[38;5;132;01m{\u001b[39;00maccount.get_balance()\u001b[38;5;132;01m}\u001b[39;00m\u001b[33m\"\u001b[39m)\n\u001b[32m     30\u001b[39m account = deposit(\u001b[32m1500\u001b[39m)\n",
      "\u001b[31mTypeError\u001b[39m: BankAccount() takes no arguments"
     ]
    }
   ],
   "source": [
    "class Person:\n",
    "\n",
    "    def __init__(self, name, age):\n",
    "        self.name = name\n",
    "        self.age = age\n",
    "    def greet(self):\n",
    "        return f\"Hello my name is {self.name}, and I am {self.age} Years old\"\n",
    "\n",
    "p = Person(\"Hari\", 30)\n",
    "print(p.greet())\n",
    "# Encapsulation\n",
    "# Bank accout\n",
    "class BankAccount:\n",
    "    def __int__(self, balance):\n",
    "        print(f\"Deposited Rs. {amount}\")\n",
    "        self. __balance += {amount}\n",
    "\n",
    "    \n",
    "    def withdraw(self, amount)\n",
    "        print(f\"withdra Rs. {amount}\")\n",
    "        self.__balance -= amount\n",
    "\n",
    "    def get_balance(self):\n",
    "        return self.__balance\n",
    "    \n",
    "    \n",
    "account = BankAccount(100)\n",
    "print(f\"Bank Balance Rs. {account.get_balance()}\")\n",
    "\n",
    "account = deposit(1500)\n",
    "print(f\"Bank Balance is Rs. {account.get_balance()}\")\n",
    "\n",
    "class Person:\n",
    "\n",
    "    def __init__(self, name, age):\n",
    "        self.name = name\n",
    "        self.age = age\n",
    "    def greet(self):\n",
    "        return f\"Hello my name is {self.name}, and I am {self.age} Years old\"\n",
    "\n",
    "p = Person(\"Hari\", 30)\n",
    "print(p.greet())\n",
    "\n",
    "\n",
    "\n",
    "\n",
    "\n",
    "\n",
    "\n",
    "\n",
    "\n",
    "\n"
   ]
  },
  {
   "cell_type": "code",
   "execution_count": null,
   "id": "5ab8d084",
   "metadata": {},
   "outputs": [
    {
     "name": "stdout",
     "output_type": "stream",
     "text": [
      "Bank Balance Rs. 100\n",
      "Deposited Rs. 1500\n",
      "Bank Balance is Rs. 1600\n",
      "withdraw Rs. 500\n",
      "Bank Balance is Rs. 1100\n"
     ]
    }
   ],
   "source": [
    "# Encapsulation\n",
    "# Bank accout\n",
    "a\n",
    "print(f\"Bank Balance is Rs. {account.get_balance()}\")"
   ]
  },
  {
   "cell_type": "code",
   "execution_count": null,
   "id": "8422797b",
   "metadata": {},
   "outputs": [],
   "source": []
  }
 ],
 "metadata": {
  "kernelspec": {
   "display_name": "Python 3",
   "language": "python",
   "name": "python3"
  },
  "language_info": {
   "codemirror_mode": {
    "name": "ipython",
    "version": 3
   },
   "file_extension": ".py",
   "mimetype": "text/x-python",
   "name": "python",
   "nbconvert_exporter": "python",
   "pygments_lexer": "ipython3",
   "version": "3.13.3"
  }
 },
 "nbformat": 4,
 "nbformat_minor": 5
}
