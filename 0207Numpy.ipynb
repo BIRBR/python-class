{
 "cells": [
  {
   "cell_type": "markdown",
   "id": "f6bc1e8c-f617-41a3-85f2-746b8ec6180c",
   "metadata": {},
   "source": [
    "### NumPy"
   ]
  },
  {
   "cell_type": "code",
   "execution_count": 1,
   "id": "0df1a5b3-2e36-406b-902d-66ba66b3b0d2",
   "metadata": {},
   "outputs": [],
   "source": [
    "# NumPY.org/doc/stable"
   ]
  },
  {
   "cell_type": "code",
   "execution_count": 2,
   "id": "1b775ba5-e651-48fe-8f0f-55885f8b3f5d",
   "metadata": {},
   "outputs": [],
   "source": [
    "# matplotlib lab for drawing, plotting, barchart etc"
   ]
  },
  {
   "cell_type": "code",
   "execution_count": 7,
   "id": "b6cfc7ae-a55c-4935-b7bb-deb9c42d5288",
   "metadata": {},
   "outputs": [],
   "source": [
    "import numpy as np # if not error no need to install: ! pip install numpy"
   ]
  },
  {
   "cell_type": "code",
   "execution_count": 9,
   "id": "90469e79-fce0-4399-8d14-3fb522cc42c3",
   "metadata": {
    "scrolled": true
   },
   "outputs": [],
   "source": [
    "arr = np.array([1, 3, 4, 5]) # array is same type list, list is different list"
   ]
  },
  {
   "cell_type": "code",
   "execution_count": 10,
   "id": "05ecb8fb-6d0b-4082-a256-27a0856a5d6a",
   "metadata": {},
   "outputs": [
    {
     "data": {
      "text/plain": [
       "array([1, 3, 4, 5])"
      ]
     },
     "execution_count": 10,
     "metadata": {},
     "output_type": "execute_result"
    }
   ],
   "source": [
    "arr"
   ]
  },
  {
   "cell_type": "code",
   "execution_count": 12,
   "id": "019cc352-d907-4c61-824f-28452eb1e55b",
   "metadata": {},
   "outputs": [
    {
     "name": "stdout",
     "output_type": "stream",
     "text": [
      "[1 3 4 5]\n"
     ]
    }
   ],
   "source": [
    "print(arr)"
   ]
  },
  {
   "cell_type": "code",
   "execution_count": 15,
   "id": "5619a231-2be1-4880-a29a-771a9656c490",
   "metadata": {},
   "outputs": [
    {
     "name": "stdout",
     "output_type": "stream",
     "text": [
      "[[1 2 3]\n",
      " [4 6 6]]\n"
     ]
    }
   ],
   "source": [
    "arr_2d = np.array([[1, 2, 3], [4, 6, 6]])\n",
    "print(arr_2d)"
   ]
  },
  {
   "cell_type": "code",
   "execution_count": 22,
   "id": "4c4b4e30-4f06-4e4f-94b4-6bf436137b03",
   "metadata": {},
   "outputs": [
    {
     "ename": "SyntaxError",
     "evalue": "closing parenthesis ']' does not match opening parenthesis '(' (2219262376.py, line 1)",
     "output_type": "error",
     "traceback": [
      "  \u001b[36mCell\u001b[39m\u001b[36m \u001b[39m\u001b[32mIn[22]\u001b[39m\u001b[32m, line 1\u001b[39m\n\u001b[31m    \u001b[39m\u001b[31marr_3d = np.array([[[1, 2, 3], [4, 6, 6]],[[6, 9, 6]],[3, 5, 8]]])\u001b[39m\n                                                                    ^\n\u001b[31mSyntaxError\u001b[39m\u001b[31m:\u001b[39m closing parenthesis ']' does not match opening parenthesis '('\n"
     ]
    }
   ],
   "source": [
    "arr_3d = np.array([[[1, 2, 3], [4, 6, 6]],[[6, 9, 6]],[3, 5, 8]]])\n",
    "print(arr_3d) # pachhi heramla"
   ]
  },
  {
   "cell_type": "code",
   "execution_count": 23,
   "id": "0ac2af1f-323f-4c2a-87af-e214134e63ee",
   "metadata": {},
   "outputs": [
    {
     "data": {
      "text/plain": [
       "(2, 3)"
      ]
     },
     "execution_count": 23,
     "metadata": {},
     "output_type": "execute_result"
    }
   ],
   "source": [
    "arr_2d.shape #result (2,3)"
   ]
  },
  {
   "cell_type": "code",
   "execution_count": 24,
   "id": "1de862b7-f925-4ba8-8fed-13bd41457ef4",
   "metadata": {},
   "outputs": [
    {
     "data": {
      "text/plain": [
       "6"
      ]
     },
     "execution_count": 24,
     "metadata": {},
     "output_type": "execute_result"
    }
   ],
   "source": [
    "arr_2d.size #result (2,3)"
   ]
  },
  {
   "cell_type": "code",
   "execution_count": 26,
   "id": "d8c1043a-ca19-4a52-904a-fba82f0d7e11",
   "metadata": {},
   "outputs": [
    {
     "data": {
      "text/plain": [
       "dtype('int64')"
      ]
     },
     "execution_count": 26,
     "metadata": {},
     "output_type": "execute_result"
    }
   ],
   "source": [
    "arr_2d.dtype #result (2,3)"
   ]
  },
  {
   "cell_type": "code",
   "execution_count": 28,
   "id": "d97004d3-5225-4cda-b9de-710a50455e21",
   "metadata": {},
   "outputs": [],
   "source": [
    "# add two array"
   ]
  },
  {
   "cell_type": "code",
   "execution_count": 29,
   "id": "3cd938b9-5a0b-44a1-bfec-949452c41705",
   "metadata": {},
   "outputs": [],
   "source": [
    "# slicing and indexing\n"
   ]
  },
  {
   "cell_type": "code",
   "execution_count": 31,
   "id": "b6e98262-61ae-4964-bc68-f43ced69d616",
   "metadata": {},
   "outputs": [
    {
     "name": "stdout",
     "output_type": "stream",
     "text": [
      "[3 4 5]\n"
     ]
    }
   ],
   "source": [
    "new_arr = arr[1:4]\n",
    "print(new_arr)"
   ]
  },
  {
   "cell_type": "code",
   "execution_count": 34,
   "id": "a1451957-fe38-45fe-aa91-8a339cbbf11c",
   "metadata": {},
   "outputs": [],
   "source": [
    "ele = arr_2d[1][1]"
   ]
  },
  {
   "cell_type": "code",
   "execution_count": 35,
   "id": "6f2b050c-b597-49af-91eb-d8c5f103f938",
   "metadata": {},
   "outputs": [
    {
     "name": "stdout",
     "output_type": "stream",
     "text": [
      "6\n"
     ]
    }
   ],
   "source": [
    "print(ele)"
   ]
  },
  {
   "cell_type": "code",
   "execution_count": 36,
   "id": "32050734-d3a0-4d4a-a673-71d1c026d067",
   "metadata": {},
   "outputs": [],
   "source": [
    "# array operation"
   ]
  },
  {
   "cell_type": "code",
   "execution_count": 37,
   "id": "9059196a-89b2-4010-8243-8b555a688d3d",
   "metadata": {},
   "outputs": [
    {
     "data": {
      "text/plain": [
       "array([5, 8, 6])"
      ]
     },
     "execution_count": 37,
     "metadata": {},
     "output_type": "execute_result"
    }
   ],
   "source": [
    "arr1 = np.array([1, 2, 3])\n",
    "arr2 = np.array([4, 6, 3])\n",
    "arr1 + arr2"
   ]
  },
  {
   "cell_type": "code",
   "execution_count": 38,
   "id": "b23c1f8e-35d0-4b34-99fb-fbfa6c6eaa26",
   "metadata": {},
   "outputs": [],
   "source": [
    "arr_sum = arr1 + arr2"
   ]
  },
  {
   "cell_type": "code",
   "execution_count": 39,
   "id": "bc83bebc-54c8-43f7-ae9c-27f82df7ad22",
   "metadata": {},
   "outputs": [
    {
     "name": "stdout",
     "output_type": "stream",
     "text": [
      "[5 8 6]\n"
     ]
    }
   ],
   "source": [
    "print(arr_sum)"
   ]
  },
  {
   "cell_type": "code",
   "execution_count": 40,
   "id": "3bcf4227-e66c-4da1-a91b-66830694f733",
   "metadata": {},
   "outputs": [
    {
     "data": {
      "text/plain": [
       "array([ 4, 12,  9])"
      ]
     },
     "execution_count": 40,
     "metadata": {},
     "output_type": "execute_result"
    }
   ],
   "source": [
    "arr1 = np.array([1, 2, 3,])\n",
    "arr2 = np.array([4, 6, 3])\n",
    "arr1 *arr2"
   ]
  },
  {
   "cell_type": "code",
   "execution_count": 41,
   "id": "2b888f74-c53a-4d76-b270-d10ba1a4b80f",
   "metadata": {},
   "outputs": [
    {
     "name": "stdout",
     "output_type": "stream",
     "text": [
      "[ 5 10 15]\n"
     ]
    }
   ],
   "source": [
    "print(arr1 * 5)"
   ]
  },
  {
   "cell_type": "code",
   "execution_count": 42,
   "id": "98476a81-0f5b-4469-88eb-e2e9eacd1228",
   "metadata": {},
   "outputs": [
    {
     "name": "stdout",
     "output_type": "stream",
     "text": [
      "[6 7 8]\n"
     ]
    }
   ],
   "source": [
    "print(arr1 + 5)"
   ]
  },
  {
   "cell_type": "code",
   "execution_count": 43,
   "id": "c64103f8-b3fa-4ae2-a53d-bdad24f5addc",
   "metadata": {},
   "outputs": [
    {
     "name": "stdout",
     "output_type": "stream",
     "text": [
      "[0.2 0.4 0.6]\n"
     ]
    }
   ],
   "source": [
    "print(arr1 / 5)"
   ]
  },
  {
   "cell_type": "code",
   "execution_count": 44,
   "id": "34be67ec-1307-4e65-9689-044745463e37",
   "metadata": {},
   "outputs": [],
   "source": [
    "# matrix calculation"
   ]
  },
  {
   "cell_type": "code",
   "execution_count": 49,
   "id": "78e2cf97-8f87-42b8-b104-44c81111006a",
   "metadata": {},
   "outputs": [],
   "source": [
    "mat1 = np.array([[2,3],[4,3]])\n",
    "mat2 = np.array([[6,1],[2,9]])"
   ]
  },
  {
   "cell_type": "code",
   "execution_count": 50,
   "id": "569cf31d-fff8-4c3c-84a8-bf6c0cd83215",
   "metadata": {},
   "outputs": [
    {
     "name": "stdout",
     "output_type": "stream",
     "text": [
      "[[ 8  4]\n",
      " [ 6 12]]\n"
     ]
    }
   ],
   "source": [
    "# addition\n",
    "mat_add = mat1 + mat2\n",
    "print(mat_add)"
   ]
  },
  {
   "cell_type": "code",
   "execution_count": 51,
   "id": "baf99893-da5e-4e70-9787-0ca8d3fe4fc4",
   "metadata": {},
   "outputs": [
    {
     "name": "stdout",
     "output_type": "stream",
     "text": [
      "[[-4  2]\n",
      " [ 2 -6]]\n"
     ]
    }
   ],
   "source": [
    "# Substraction\n",
    "mat_add = mat1 - mat2\n",
    "print(mat_add)"
   ]
  },
  {
   "cell_type": "code",
   "execution_count": 52,
   "id": "c79eac94-9623-4dab-89e5-4510b7c79997",
   "metadata": {},
   "outputs": [
    {
     "name": "stdout",
     "output_type": "stream",
     "text": [
      "[[ 6  9]\n",
      " [12  9]]\n"
     ]
    }
   ],
   "source": [
    "print(mat1 * 3)"
   ]
  },
  {
   "cell_type": "code",
   "execution_count": 54,
   "id": "7d84fb30-c0d3-4fc1-9b27-970ce561494a",
   "metadata": {},
   "outputs": [
    {
     "name": "stdout",
     "output_type": "stream",
     "text": [
      "[[18 29]\n",
      " [30 31]]\n"
     ]
    }
   ],
   "source": [
    "mat_mul = mat1 @ mat2 # matrix multiplication\n",
    "print(mat_mul)"
   ]
  },
  {
   "cell_type": "code",
   "execution_count": 55,
   "id": "20c3bdbe-5617-4832-a939-b44e64127dbc",
   "metadata": {},
   "outputs": [
    {
     "name": "stdout",
     "output_type": "stream",
     "text": [
      "[[18 29]\n",
      " [30 31]]\n"
     ]
    }
   ],
   "source": [
    "print(np.dot(mat1, mat2))"
   ]
  },
  {
   "cell_type": "code",
   "execution_count": 56,
   "id": "120029ee-9fc5-43fb-8fe3-919ec21be720",
   "metadata": {},
   "outputs": [
    {
     "name": "stdout",
     "output_type": "stream",
     "text": [
      "[[18 30]\n",
      " [29 31]]\n"
     ]
    }
   ],
   "source": [
    "print(mat_mul.T) # transpose"
   ]
  },
  {
   "cell_type": "code",
   "execution_count": 59,
   "id": "4f98f42b-1a1c-488e-bc13-0529992c5833",
   "metadata": {},
   "outputs": [
    {
     "name": "stdout",
     "output_type": "stream",
     "text": [
      "[[-0.09935897  0.09294872]\n",
      " [ 0.09615385 -0.05769231]]\n"
     ]
    }
   ],
   "source": [
    "print(np.linalg.inv(mat_mul)) # inverse"
   ]
  },
  {
   "cell_type": "code",
   "execution_count": 62,
   "id": "c7dbcad9-5123-43a4-85bc-d4aa9095fdcf",
   "metadata": {},
   "outputs": [
    {
     "name": "stdout",
     "output_type": "stream",
     "text": [
      "-6.0\n"
     ]
    }
   ],
   "source": [
    "print(np.linalg.det(mat1))"
   ]
  },
  {
   "cell_type": "code",
   "execution_count": 63,
   "id": "ca6eb7db-24de-411e-968d-542e6c493cba",
   "metadata": {},
   "outputs": [
    {
     "name": "stdout",
     "output_type": "stream",
     "text": [
      "EigResult(eigenvalues=array([-1.,  6.]), eigenvectors=array([[-0.70710678, -0.6       ],\n",
      "       [ 0.70710678, -0.8       ]]))\n"
     ]
    }
   ],
   "source": [
    "print(np.linalg.eig(mat1)) # Eigen Value"
   ]
  },
  {
   "cell_type": "code",
   "execution_count": 64,
   "id": "0b9a7203-3310-41f7-a989-fc67ef50e082",
   "metadata": {},
   "outputs": [],
   "source": [
    "#eigen values and eigen vector "
   ]
  },
  {
   "cell_type": "code",
   "execution_count": 65,
   "id": "f6a36a7c-2903-41e2-af3d-0221200f5bd6",
   "metadata": {},
   "outputs": [],
   "source": [
    "# vector calculation"
   ]
  },
  {
   "cell_type": "code",
   "execution_count": null,
   "id": "fce409a2-1a52-431c-985d-edc2bf1d985c",
   "metadata": {},
   "outputs": [],
   "source": []
  },
  {
   "cell_type": "code",
   "execution_count": 70,
   "id": "d71e9e65-3338-4edd-b6a4-ad82a3f3d533",
   "metadata": {},
   "outputs": [
    {
     "name": "stdout",
     "output_type": "stream",
     "text": [
      "v1 = [1 2 3]\n",
      "v2 = [3 4 5]\n"
     ]
    }
   ],
   "source": [
    "v1 = np.array([1, 2, 3])\n",
    "v2 = np.array([3, 4, 5])\n",
    "print(\"v1 =\", v1)\n",
    "print(\"v2 =\", v2)\n"
   ]
  },
  {
   "cell_type": "code",
   "execution_count": 72,
   "id": "c925da8d-9331-496b-8225-1ca864115097",
   "metadata": {},
   "outputs": [
    {
     "name": "stdout",
     "output_type": "stream",
     "text": [
      "26\n"
     ]
    }
   ],
   "source": [
    "dot_product = np.dot(v1, v2)\n",
    "print(dot_product)"
   ]
  },
  {
   "cell_type": "code",
   "execution_count": 71,
   "id": "93777f44-b3b9-41c9-b8c3-652b0d95f1eb",
   "metadata": {},
   "outputs": [
    {
     "name": "stdout",
     "output_type": "stream",
     "text": [
      "26\n"
     ]
    }
   ],
   "source": [
    "print(v1 @ v2)"
   ]
  },
  {
   "cell_type": "code",
   "execution_count": 73,
   "id": "58cd87df-1c68-4188-8869-af84efc85f96",
   "metadata": {},
   "outputs": [
    {
     "name": "stdout",
     "output_type": "stream",
     "text": [
      "26\n"
     ]
    }
   ],
   "source": [
    "cross_product = np.dot(v1, v2)\n",
    "print(cross_product)"
   ]
  },
  {
   "cell_type": "code",
   "execution_count": 74,
   "id": "14a5e9d2-5d99-4ec8-aca1-7739f78fcd6e",
   "metadata": {},
   "outputs": [
    {
     "ename": "SyntaxError",
     "evalue": "unmatched ')' (3518377645.py, line 4)",
     "output_type": "error",
     "traceback": [
      "  \u001b[36mCell\u001b[39m\u001b[36m \u001b[39m\u001b[32mIn[74]\u001b[39m\u001b[32m, line 4\u001b[39m\n\u001b[31m    \u001b[39m\u001b[31mi (10-12) -5-9) + k (4-6)\u001b[39m\n                  ^\n\u001b[31mSyntaxError\u001b[39m\u001b[31m:\u001b[39m unmatched ')'\n"
     ]
    }
   ],
   "source": [
    "i j k\n",
    "1 2 3 \n",
    "3 4 5 \n",
    "i (10-12) -5-9) + k (4-6)\n",
    "-2i+4j-2k\n",
    "[-2 4 -2] # this is manual calcualtion = abobe cross_propduct"
   ]
  },
  {
   "cell_type": "code",
   "execution_count": 75,
   "id": "3534508a-7262-46ce-9964-6946299436aa",
   "metadata": {},
   "outputs": [],
   "source": [
    "# solve linerar eqequiton Manual calculqtion\n",
    "# 2x + y = 5\n",
    "# x + y = 3\n",
    "# --------------\n",
    "# x = 2\n",
    "# y = 1\n"
   ]
  },
  {
   "cell_type": "code",
   "execution_count": 76,
   "id": "7b8a31ea-f9df-4b4c-9d6b-1c21d067dbcf",
   "metadata": {},
   "outputs": [],
   "source": [
    "# A * X = B\n",
    "# X = (A inv) B\n"
   ]
  },
  {
   "cell_type": "code",
   "execution_count": 81,
   "id": "5ad4c3e2-ac96-48bf-9c2e-ede571252e8f",
   "metadata": {},
   "outputs": [
    {
     "name": "stdout",
     "output_type": "stream",
     "text": [
      "Value of (x, y): [2. 1.]\n"
     ]
    }
   ],
   "source": [
    "A = np.array([[2, 1], [1, 1]])\n",
    "B = np.array([5, 3])\n",
    "X = np.linalg.solve(A, B)\n",
    "print(\"Value of (x, y):\", x)"
   ]
  },
  {
   "cell_type": "code",
   "execution_count": 82,
   "id": "870c6561-dd39-4dd2-8e46-4e21b999fc09",
   "metadata": {},
   "outputs": [],
   "source": [
    "# assingnmet + generat randuom number  fro numpy"
   ]
  },
  {
   "cell_type": "code",
   "execution_count": 83,
   "id": "320caf21-b882-4303-b216-f2d809d8bd3f",
   "metadata": {},
   "outputs": [
    {
     "data": {
      "text/plain": [
       "array([[-0.79416751,  0.34060568, -0.15822375],\n",
       "       [-0.53237126, -0.27814927,  0.21062548],\n",
       "       [ 0.62454979,  0.96416891, -0.57841148]])"
      ]
     },
     "execution_count": 83,
     "metadata": {},
     "output_type": "execute_result"
    }
   ],
   "source": [
    "np.random.randn(3, 3)"
   ]
  },
  {
   "cell_type": "code",
   "execution_count": null,
   "id": "3fd5507a-0e25-4c00-97c8-ddef1d450bd5",
   "metadata": {},
   "outputs": [],
   "source": []
  }
 ],
 "metadata": {
  "kernelspec": {
   "display_name": "Python 3 (ipykernel)",
   "language": "python",
   "name": "python3"
  },
  "language_info": {
   "codemirror_mode": {
    "name": "ipython",
    "version": 3
   },
   "file_extension": ".py",
   "mimetype": "text/x-python",
   "name": "python",
   "nbconvert_exporter": "python",
   "pygments_lexer": "ipython3",
   "version": "3.13.3"
  }
 },
 "nbformat": 4,
 "nbformat_minor": 5
}
