{
 "cells": [
  {
   "cell_type": "markdown",
   "id": "c8ec9fc3-502a-4a55-8629-095a9bd6cc80",
   "metadata": {},
   "source": [
    "# Handaling\n",
    "~read\n",
    "~ write\n",
    "~ normal file, binary file"
   ]
  },
  {
   "cell_type": "markdown",
   "id": "a6b221d4-9865-4700-ae53-ad506c613422",
   "metadata": {},
   "source": [
    "## modes of operations\n",
    "1. read only  (r)\n",
    "2. read only in binary (rb)\n",
    "3. Read and write (r+)\n",
    "4. Read and write in binary (rb+)\n",
    "5. Write (w)\n",
    "6. Write binary (wb)\n",
    "7. Write and read (w+)\n",
    "8. Append (a)\n",
    "9. Append in binary in bianry (ab)\n",
    "10. Append and read (a+)\n",
    "11. Append and read in binary (ab+)\n",
    "- open a file (bullet no comes in minus)\n",
    "- do operation\n",
    "- close file"
   ]
  },
  {
   "cell_type": "code",
   "execution_count": 4,
   "id": "2a27e3e7-7d0c-4af8-8f76-10a7afe979b9",
   "metadata": {},
   "outputs": [
    {
     "name": "stdout",
     "output_type": "stream",
     "text": [
      "Skill TRaninig Nepal\n",
      "Python Class\n"
     ]
    }
   ],
   "source": [
    "\n",
    "file = open(\"Hellow.txt\", \"r\")\n",
    "data = file.read()\n",
    "print(data)\n",
    "file.close()"
   ]
  },
  {
   "cell_type": "code",
   "execution_count": 6,
   "id": "8c861a5f-f7ad-4ae6-a80a-4ac61628968d",
   "metadata": {},
   "outputs": [
    {
     "name": "stdout",
     "output_type": "stream",
     "text": [
      "b'Skill TRaninig Nepal\\nPython Class'\n"
     ]
    }
   ],
   "source": [
    "# Binary in mode\n",
    "file = open(\"Hellow.txt\", \"rb\")\n",
    "data = file.read()\n",
    "print(data)\n",
    "file.close()"
   ]
  },
  {
   "cell_type": "code",
   "execution_count": 7,
   "id": "be659e8e-bf11-4a5d-99f7-c780127368a1",
   "metadata": {},
   "outputs": [],
   "source": [
    "# Write \n",
    "file = open(\"NewFile.txt\", \"w\")\n",
    "data = file.write(\"Hello, World!\")\n",
    "file.close()"
   ]
  },
  {
   "cell_type": "code",
   "execution_count": 10,
   "id": "f5ee6a71-d508-4b5b-b70f-72295759163e",
   "metadata": {},
   "outputs": [],
   "source": [
    "# Write in binary\n",
    "file = open(\"NewFile.txt\", \"wb\") # replace previous contents\n",
    "data = file.write(b\"Hello, World! binary file\")#b converts in binary\n",
    "file.close()"
   ]
  },
  {
   "cell_type": "code",
   "execution_count": 14,
   "id": "64987216-766f-440c-a578-3dcec13b2026",
   "metadata": {},
   "outputs": [],
   "source": [
    "# Write in binary\n",
    "file = open(\"NewFile.txt\", \"a\") # replace previous contents\n",
    "data = file.write(\"\\nThis Append mode Test\")\n",
    "file.close()"
   ]
  },
  {
   "cell_type": "markdown",
   "id": "1ab4bd56-79ed-4280-ac6a-0bb6d3d299c7",
   "metadata": {},
   "source": [
    "### Execpt Handling"
   ]
  },
  {
   "cell_type": "code",
   "execution_count": 16,
   "id": "c39b7c4b-d124-4037-8e4c-fb736e341364",
   "metadata": {},
   "outputs": [
    {
     "name": "stdout",
     "output_type": "stream",
     "text": [
      "The file does not exist\n"
     ]
    }
   ],
   "source": [
    "try:\n",
    "    file = open(\"H.txt\", \"r\")\n",
    "    data = file.read()\n",
    "    print(data)\n",
    "    file.close()\n",
    "except FileNotFoundError: # specific case\n",
    "    print(\"The file does not exist\")\n",
    "except Exception as e: # general case\n",
    "    print(\"Something wrong\", e)\n",
    "finally:\n",
    "    file.close()"
   ]
  },
  {
   "cell_type": "code",
   "execution_count": 17,
   "id": "02d67f60-cb7a-414f-8f05-334e32d5717a",
   "metadata": {},
   "outputs": [],
   "source": [
    "# With open does not need to close the file"
   ]
  },
  {
   "cell_type": "code",
   "execution_count": 19,
   "id": "75fd83b0-9c64-4703-b265-bb8ce387d74b",
   "metadata": {},
   "outputs": [
    {
     "name": "stdout",
     "output_type": "stream",
     "text": [
      "Hello, World! binary fileThis Append mode Testn\\This Append mode Test\n",
      "\n",
      "This Append mode Test\n",
      "\n"
     ]
    }
   ],
   "source": [
    "with open (\"Newfile.txt\", \"r\") as file:\n",
    "    data = file.readline()\n",
    "    print(data)\n",
    "    while len(data) > 0:\n",
    "        data = file.readline()\n",
    "        print(data) # no need to close"
   ]
  },
  {
   "cell_type": "code",
   "execution_count": null,
   "id": "26117939-cbc7-4f4b-8fd7-8c11c442e4a9",
   "metadata": {},
   "outputs": [],
   "source": [
    "# for loop method"
   ]
  },
  {
   "cell_type": "code",
   "execution_count": 22,
   "id": "ac698c8c-7590-4bc9-a4db-21e2f0ce323e",
   "metadata": {},
   "outputs": [
    {
     "name": "stdout",
     "output_type": "stream",
     "text": [
      "Hello, World! binary fileThis Append mode Testn\\This Append mode Test\n",
      "\n",
      "This Append mode Test\n"
     ]
    }
   ],
   "source": [
    "with open (\"Newfile.txt\", \"r\") as file:\n",
    "    for line in file:\n",
    "        print(line)"
   ]
  },
  {
   "cell_type": "code",
   "execution_count": null,
   "id": "cf2ce0ec-b624-4004-9db8-fc7dd18da760",
   "metadata": {},
   "outputs": [],
   "source": [
    "# open file, user name iput, change in upper all texts.\n",
    "# write a programe that : http://www.py4e.com/code3/words.txt"
   ]
  },
  {
   "cell_type": "code",
   "execution_count": 31,
   "id": "1c470e6f-91c4-4f18-a54e-cd15a33ff1e6",
   "metadata": {},
   "outputs": [
    {
     "name": "stdin",
     "output_type": "stream",
     "text": [
      "Enter a text ile name to open : words.txt\n"
     ]
    },
    {
     "name": "stdout",
     "output_type": "stream",
     "text": [
      "WRITING PROGRAMS OR PROGRAMMING IS A VERY CREATIVE\n",
      "AND REWARDING ACTIVITY  YOU CAN WRITE PROGRAMS FOR\n",
      "MANY REASONS RANGING FROM MAKING YOUR LIVING TO SOLVING\n",
      "A DIFFICULT DATA ANALYSIS PROBLEM TO HAVING FUN TO HELPING\n",
      "SOMEONE ELSE SOLVE A PROBLEM  THIS BOOK ASSUMES THAT\n",
      "{\\EM EVERYONE} NEEDS TO KNOW HOW TO PROGRAM AND THAT ONCE\n",
      "YOU KNOW HOW TO PROGRAM, YOU WILL FIGURE OUT WHAT YOU WANT\n",
      "TO DO WITH YOUR NEWFOUND SKILLS\n",
      "\n",
      "WE ARE SURROUNDED IN OUR DAILY LIVES WITH COMPUTERS RANGING\n",
      "FROM LAPTOPS TO CELL PHONES  WE CAN THINK OF THESE COMPUTERS\n",
      "AS OUR PERSONAL ASSISTANTS WHO CAN TAKE CARE OF MANY THINGS\n",
      "ON OUR BEHALF  THE HARDWARE IN OUR CURRENT-DAY COMPUTERS\n",
      "IS ESSENTIALLY BUILT TO CONTINUOUSLY ASK US THE QUESTION\n",
      "WHAT WOULD YOU LIKE ME TO DO NEXT\n",
      "\n",
      "OUR COMPUTERS ARE FAST AND HAVE VASTS AMOUNTS OF MEMORY AND\n",
      "COULD BE VERY HELPFUL TO US IF WE ONLY KNEW THE LANGUAGE TO\n",
      "SPEAK TO EXPLAIN TO THE COMPUTER WHAT WE WOULD LIKE IT TO\n",
      "DO NEXT IF WE KNEW THIS LANGUAGE WE COULD TELL THE\n",
      "COMPUTER TO DO TASKS ON OUR BEHALF THAT WERE REPTITIVE\n",
      "INTERESTINGLY, THE KINDS OF THINGS COMPUTERS CAN DO BEST\n",
      "ARE OFTEN THE KINDS OF THINGS THAT WE HUMANS FIND BORING\n",
      "AND MIND-NUMBING\n"
     ]
    }
   ],
   "source": [
    "fname = input(\"Enter a text ile name to open :\")\n",
    "if len(fname) <= 0:\n",
    "    fname = \"words.txt\"\n",
    "with open (fname, \"r\") as f:\n",
    "    for line in f:\n",
    "        line = line.strip()# if there extra spaces it will remove\n",
    "        line = line.upper()\n",
    "        print(line)"
   ]
  },
  {
   "cell_type": "raw",
   "id": "cfc0a073-791b-4106-99c8-603674ebec50",
   "metadata": {},
   "source": [
    "# Write code using find() and string slicing to extact the number at end of this line below. Convert the extacted vale to a floating point number and print it out\n",
    "text = \"X-DSPAM-Confidence: 0.8475\""
   ]
  },
  {
   "cell_type": "code",
   "execution_count": 7,
   "id": "e649bc2b-1932-4266-83ce-b34d83d8ba14",
   "metadata": {},
   "outputs": [
    {
     "name": "stdout",
     "output_type": "stream",
     "text": [
      "0.8475\n"
     ]
    }
   ],
   "source": [
    "text = \"X-DSPAM-Confidence : 0.8475\"\n",
    "position = text.find(\":\") \n",
    "number = text[position +1:]\n",
    "nummber = number.strip()\n",
    "number = float(number)\n",
    "print(number)\n"
   ]
  },
  {
   "cell_type": "code",
   "execution_count": 9,
   "id": "7fd41445-e691-4fd0-9b5e-75ce8e02427d",
   "metadata": {},
   "outputs": [
    {
     "name": "stdout",
     "output_type": "stream",
     "text": [
      " 0.1234987\n"
     ]
    }
   ],
   "source": [
    "text1 = \"Gantemula ko achar mitho : 0.1234987\"\n",
    "position = text1.find(\":\")\n",
    "number = text1[position +1:]\n",
    "print(number)"
   ]
  },
  {
   "cell_type": "code",
   "execution_count": null,
   "id": "fedac86b-1425-4df2-9ad7-640d68f47f08",
   "metadata": {},
   "outputs": [],
   "source": []
  }
 ],
 "metadata": {
  "kernelspec": {
   "display_name": "Python 3 (ipykernel)",
   "language": "python",
   "name": "python3"
  },
  "language_info": {
   "codemirror_mode": {
    "name": "ipython",
    "version": 3
   },
   "file_extension": ".py",
   "mimetype": "text/x-python",
   "name": "python",
   "nbconvert_exporter": "python",
   "pygments_lexer": "ipython3",
   "version": "3.13.3"
  }
 },
 "nbformat": 4,
 "nbformat_minor": 5
}
