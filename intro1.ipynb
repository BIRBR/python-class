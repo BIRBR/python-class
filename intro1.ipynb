{
 "cells": [
  {
   "cell_type": "markdown",
   "id": "d9e380bd-7d7d-44a0-8da8-ceb104e3f88c",
   "metadata": {},
   "source": [
    "Intro to python"
   ]
  },
  {
   "cell_type": "code",
   "execution_count": null,
   "id": "0ee449f4-a125-4b89-84bd-2a1e6bd022bc",
   "metadata": {},
   "outputs": [
    {
     "name": "stdout",
     "output_type": "stream",
     "text": [
      "hello word\n"
     ]
    }
   ],
   "source": [
    "print(\"hello word\")"
   ]
  },
  {
   "cell_type": "markdown",
   "id": "e2a27d41-97dc-442b-9fb9-5f8156df521d",
   "metadata": {},
   "source": []
  },
  {
   "cell_type": "code",
   "execution_count": 8,
   "id": "b20071c7",
   "metadata": {},
   "outputs": [
    {
     "name": "stdout",
     "output_type": "stream",
     "text": [
      "hello word\n"
     ]
    }
   ],
   "source": [
    "print(\"hello word\")"
   ]
  },
  {
   "cell_type": "code",
   "execution_count": 9,
   "id": "22de6fc5-3065-4a7c-9ef3-260aa709f390",
   "metadata": {},
   "outputs": [],
   "source": [
    "# for remarks\n"
   ]
  },
  {
   "cell_type": "raw",
   "id": "f4ac5632-181e-477b-aab2-cdc3a9484a75",
   "metadata": {},
   "source": [
    "my name is \"bbrai\""
   ]
  },
  {
   "cell_type": "code",
   "execution_count": 11,
   "id": "c8d32b2e-00ce-4f3f-9703-3f6b2d91538d",
   "metadata": {},
   "outputs": [
    {
     "name": "stdout",
     "output_type": "stream",
     "text": [
      "my name is \"rai\"\n"
     ]
    }
   ],
   "source": [
    "print('my name is \"rai\"')"
   ]
  },
  {
   "cell_type": "code",
   "execution_count": null,
   "id": "ce6ccd92-703f-428f-be6a-fcf8aaa368f6",
   "metadata": {},
   "outputs": [],
   "source": [
    "# write statement whoswe 0/is im manauy \"ram\"\n",
    "sprint(\"my name is\\\"ram"
   ]
  }
 ],
 "metadata": {
  "kernelspec": {
   "display_name": "Python 3 (ipykernel)",
   "language": "python",
   "name": "python3"
  },
  "language_info": {
   "codemirror_mode": {
    "name": "ipython",
    "version": 3
   },
   "file_extension": ".py",
   "mimetype": "text/x-python",
   "name": "python",
   "nbconvert_exporter": "python",
   "pygments_lexer": "ipython3",
   "version": "3.13.3"
  }
 },
 "nbformat": 4,
 "nbformat_minor": 5
}
