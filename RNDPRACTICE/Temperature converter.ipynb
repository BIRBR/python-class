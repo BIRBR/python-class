{
 "cells": [
  {
   "cell_type": "markdown",
   "id": "6ced382c-6623-4c1c-a4db-b8a1cb97e0fd",
   "metadata": {},
   "source": [
    "### Random Practice 2082/02/10"
   ]
  },
  {
   "cell_type": "code",
   "execution_count": null,
   "id": "94ee9136",
   "metadata": {
    "vscode": {
     "languageId": "plaintext"
    }
   },
   "outputs": [],
   "source": [
    "def convertToCelsius(fahrenheit):\n",
    "    celsius = (fahrenheit - 32) * 5/9\n",
    "    return celsius\n",
    "print(convertToCelsius(celsius(100))"
   ]
  },
  {
   "cell_type": "code",
   "execution_count": null,
   "id": "124f6fa7",
   "metadata": {
    "vscode": {
     "languageId": "plaintext"
    }
   },
   "outputs": [],
   "source": [
    "def convertToCelsius(fahrenheit):\n",
    "    celsius = (fahrenheit - 32) * 5/9\n",
    "    return celsius\n",
    "print(convertToCelsius(celsius(100))"
   ]
  },
  {
   "cell_type": "code",
   "execution_count": null,
   "id": "f70a31b8",
   "metadata": {
    "vscode": {
     "languageId": "plaintext"
    }
   },
   "outputs": [],
   "source": [
    "def convertToCelsius(fahrenheit):\n",
    "  celsius = (fahrenheit - 32) * 5 / 9\n",
    "  return celsius\n",
    "\n",
    "print(convertToCelsius(100))\n"
   ]
  },
  {
   "cell_type": "code",
   "execution_count": null,
   "id": "e5ce602d",
   "metadata": {
    "vscode": {
     "languageId": "plaintext"
    }
   },
   "outputs": [],
   "source": [
    "def convertToCelsius(fahrenheit):\n",
    "    celsius = (fahrenheit - 32) * 5 / 9\n",
    "    return round(celsius, 2)  # Rounds to 2 decimal places\n",
    "\n",
    "print(convertToCelsius(100))  # Output: 37.78"
   ]
  },
  {
   "cell_type": "code",
   "execution_count": null,
   "id": "4e962f68",
   "metadata": {
    "vscode": {
     "languageId": "plaintext"
    }
   },
   "outputs": [],
   "source": []
  }
 ],
 "metadata": {
  "kernelspec": {
   "display_name": "Python 3 (ipykernel)",
   "language": "python",
   "name": "python3"
  },
  "language_info": {
   "codemirror_mode": {
    "name": "ipython",
    "version": 3
   },
   "file_extension": ".py",
   "mimetype": "text/x-python",
   "name": "python",
   "nbconvert_exporter": "python",
   "pygments_lexer": "ipython3",
   "version": "3.13.3"
  }
 },
 "nbformat": 4,
 "nbformat_minor": 5
}
