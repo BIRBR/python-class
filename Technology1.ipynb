{
 "cells": [
  {
   "cell_type": "markdown",
   "id": "478b821f-3c42-4ce2-bf4a-d0cdf94747b4",
   "metadata": {},
   "source": [
    "### This is Practice at Home 2082/01/30 Class not attended due to Gaut 2nd day"
   ]
  },
  {
   "cell_type": "code",
   "execution_count": 1,
   "id": "fe4b028e-85bd-433b-b606-e4c2cc3b6f0f",
   "metadata": {},
   "outputs": [
    {
     "name": "stdout",
     "output_type": "stream",
     "text": [
      "Bir Bahadur Rai\n"
     ]
    }
   ],
   "source": [
    "print('Bir Bahadur Rai')"
   ]
  },
  {
   "cell_type": "code",
   "execution_count": 2,
   "id": "8083e707-fd08-4bcd-a9b1-fdf555de5b7e",
   "metadata": {},
   "outputs": [],
   "source": [
    "# Five differet identical way to print"
   ]
  },
  {
   "cell_type": "code",
   "execution_count": 11,
   "id": "fee59db6-11ac-4317-8e43-fbf9faa6e373",
   "metadata": {},
   "outputs": [],
   "source": [
    "name = \"Luigi\" # Variale1"
   ]
  },
  {
   "cell_type": "code",
   "execution_count": 12,
   "id": "43809267-e091-4476-918e-65534fc814a5",
   "metadata": {},
   "outputs": [],
   "source": [
    "age = 38  # Variale2"
   ]
  },
  {
   "cell_type": "code",
   "execution_count": 32,
   "id": "70443692-a1b4-467c-b1ca-b0f1c681a164",
   "metadata": {},
   "outputs": [
    {
     "name": "stdout",
     "output_type": "stream",
     "text": [
      "Luigi : 38\n"
     ]
    }
   ],
   "source": [
    " print(name + ' : ' + str(age))"
   ]
  },
  {
   "cell_type": "code",
   "execution_count": 33,
   "id": "6714a5f4-d504-492d-ba15-5f28da0b62a0",
   "metadata": {},
   "outputs": [
    {
     "name": "stdout",
     "output_type": "stream",
     "text": [
      "Luigi : 38\n"
     ]
    }
   ],
   "source": [
    "print(name, ':', age)"
   ]
  },
  {
   "cell_type": "code",
   "execution_count": 34,
   "id": "dd19c53c-993e-41e1-b014-858325efcc5a",
   "metadata": {},
   "outputs": [
    {
     "name": "stdout",
     "output_type": "stream",
     "text": [
      "Luigi : 38\n"
     ]
    }
   ],
   "source": [
    "print( f'{name} : {age}')"
   ]
  },
  {
   "cell_type": "code",
   "execution_count": 35,
   "id": "953a5f53-1c50-4db1-92fc-93cce3fcb68c",
   "metadata": {},
   "outputs": [
    {
     "name": "stdout",
     "output_type": "stream",
     "text": [
      "Luigi : 38\n"
     ]
    }
   ],
   "source": [
    "print('%s : %s' % (name, age))"
   ]
  },
  {
   "cell_type": "code",
   "execution_count": 36,
   "id": "24e1e66b-3bed-47b7-88e2-f3b7913e3ae7",
   "metadata": {},
   "outputs": [
    {
     "name": "stdout",
     "output_type": "stream",
     "text": [
      "Luigi : 38\n"
     ]
    }
   ],
   "source": [
    "print( '{} : {}'.format(name, age))"
   ]
  },
  {
   "cell_type": "code",
   "execution_count": 40,
   "id": "c221fd88-0f2e-4565-adf7-d230c46ec2f0",
   "metadata": {},
   "outputs": [],
   "source": [
    "# print in the second line and same line"
   ]
  },
  {
   "cell_type": "code",
   "execution_count": 41,
   "id": "85fca97c-b23b-48f7-afbc-50f6bed77c61",
   "metadata": {},
   "outputs": [],
   "source": [
    "x = \" Namaste\" # 1st line"
   ]
  },
  {
   "cell_type": "code",
   "execution_count": 43,
   "id": "bc03c6e9-4e9e-48d3-b8de-9310a2daf21e",
   "metadata": {},
   "outputs": [],
   "source": [
    "y = \"Nepal\" # 2nd line"
   ]
  },
  {
   "cell_type": "code",
   "execution_count": 45,
   "id": "87d47ee8-6102-413e-806b-ebeb1d89aaa1",
   "metadata": {},
   "outputs": [
    {
     "name": "stdout",
     "output_type": "stream",
     "text": [
      " Namaste\n",
      "Nepal\n"
     ]
    }
   ],
   "source": [
    "print(x + \"\\n\" + y)"
   ]
  },
  {
   "cell_type": "code",
   "execution_count": 48,
   "id": "cddd1a6e-b28d-444d-a344-d7698631ef53",
   "metadata": {},
   "outputs": [
    {
     "name": "stdout",
     "output_type": "stream",
     "text": [
      " Namaste , Nepal\n"
     ]
    }
   ],
   "source": [
    "print(x, ',', y)"
   ]
  },
  {
   "cell_type": "code",
   "execution_count": 37,
   "id": "4b95f2f0-bc6c-44e0-918a-3e3ed8a37cc9",
   "metadata": {},
   "outputs": [],
   "source": [
    "# Print is built in function in Python but can be replace by variable"
   ]
  },
  {
   "cell_type": "code",
   "execution_count": 38,
   "id": "8655354c-6c47-41fc-a003-d94f97df78e4",
   "metadata": {},
   "outputs": [],
   "source": [
    "x = print"
   ]
  },
  {
   "cell_type": "code",
   "execution_count": 39,
   "id": "15468cdd-aed4-4e01-a21d-92be34db7d68",
   "metadata": {},
   "outputs": [
    {
     "name": "stdout",
     "output_type": "stream",
     "text": [
      "This is print replace function.\n"
     ]
    }
   ],
   "source": [
    "x('This is print replace function.')"
   ]
  },
  {
   "cell_type": "markdown",
   "id": "3401bc11-497a-4d53-a3e1-b930dcb082cf",
   "metadata": {},
   "source": [
    "# Reserved Keywords"
   ]
  },
  {
   "cell_type": "code",
   "execution_count": 55,
   "id": "82485055-8c86-4ce8-9214-9b1db41dd927",
   "metadata": {},
   "outputs": [
    {
     "name": "stdout",
     "output_type": "stream",
     "text": [
      "['False', 'None', 'True', 'and', 'as', 'assert', 'async', 'await', 'break', 'class', 'continue', 'def', 'del', 'elif', 'else', 'except', 'finally', 'for', 'from', 'global', 'if', 'import', 'in', 'is', 'lambda', 'nonlocal', 'not', 'or', 'pass', 'raise', 'return', 'try', 'while', 'with', 'yield']\n"
     ]
    }
   ],
   "source": [
    "import keyword\n",
    "print(keyword.kwlist)"
   ]
  },
  {
   "cell_type": "code",
   "execution_count": 57,
   "id": "c3a60091-88e7-4a77-9187-3bfdad296427",
   "metadata": {},
   "outputs": [
    {
     "name": "stdout",
     "output_type": "stream",
     "text": [
      "35\n"
     ]
    }
   ],
   "source": [
    "print(len(keyword.kwlist)) # finds length of the list : There are 35 keywords"
   ]
  },
  {
   "cell_type": "markdown",
   "id": "377f0642-32da-478d-b548-8b5798b4b93f",
   "metadata": {},
   "source": [
    "# Data types"
   ]
  },
  {
   "cell_type": "code",
   "execution_count": 62,
   "id": "967f180f-de4c-4eb9-9775-a86efffe59d7",
   "metadata": {},
   "outputs": [],
   "source": [
    "### Numerical Data Types"
   ]
  },
  {
   "cell_type": "code",
   "execution_count": 59,
   "id": "98420136-0bf8-4c57-8660-d852d8891996",
   "metadata": {},
   "outputs": [
    {
     "name": "stdout",
     "output_type": "stream",
     "text": [
      "The type of variable having value 100  is  <class 'int'>\n"
     ]
    }
   ],
   "source": [
    "#create a variable with integer value.\n",
    "a=100\n",
    "print(\"The type of variable having value\", a, \" is \", type(a))\n",
    "    "
   ]
  },
  {
   "cell_type": "code",
   "execution_count": 60,
   "id": "3fce8932-9d4c-48b0-b5f9-4f4f0390b89e",
   "metadata": {},
   "outputs": [
    {
     "name": "stdout",
     "output_type": "stream",
     "text": [
      "The type of variable having value 10.2345  is  <class 'float'>\n"
     ]
    }
   ],
   "source": [
    "\n",
    "    #create a variable with float value.\n",
    "    b=10.2345\n",
    "    print(\"The type of variable having value\", b, \" is \", type(b))\n",
    "    "
   ]
  },
  {
   "cell_type": "code",
   "execution_count": 61,
   "id": "069134fb-abe2-4ea5-af11-1de7ac38aefc",
   "metadata": {},
   "outputs": [
    {
     "name": "stdout",
     "output_type": "stream",
     "text": [
      "The type of variable having value (100+3j)  is  <class 'complex'>\n"
     ]
    }
   ],
   "source": [
    "\n",
    "    #create a variable with complex value.\n",
    "    c=100+3j\n",
    "    print(\"The type of variable having value\", c, \" is \", type(c))"
   ]
  },
  {
   "cell_type": "code",
   "execution_count": 63,
   "id": "870d49a0-280b-46de-ab84-b2efae6ed2f4",
   "metadata": {},
   "outputs": [],
   "source": [
    "### String Data Types"
   ]
  },
  {
   "cell_type": "code",
   "execution_count": 68,
   "id": "cc2b1503-d1af-4c16-a0f5-8222268f05b5",
   "metadata": {},
   "outputs": [
    {
     "name": "stdout",
     "output_type": "stream",
     "text": [
      "string in a double quote\n",
      "string in a single quote\n"
     ]
    }
   ],
   "source": [
    "a = \"string in a double quote\"\n",
    "b= 'string in a single quote'\n",
    "print(a)\n",
    "print(b)"
   ]
  },
  {
   "cell_type": "code",
   "execution_count": 69,
   "id": "8757b502-58bb-46b2-aca4-e75fdbf75f88",
   "metadata": {},
   "outputs": [
    {
     "name": "stdout",
     "output_type": "stream",
     "text": [
      "string in a double quote concatenated with string in a single quote\n"
     ]
    }
   ],
   "source": [
    "    \n",
    "# using ',' to concatenate the two or several strings\n",
    "print(a,\"concatenated with\",b)"
   ]
  },
  {
   "cell_type": "code",
   "execution_count": 70,
   "id": "c5fb13a5-9734-4f8b-90b2-bdd9ad213e5e",
   "metadata": {},
   "outputs": [
    {
     "name": "stdout",
     "output_type": "stream",
     "text": [
      "string in a double quote concated with string in a single quote\n"
     ]
    }
   ],
   "source": [
    "#using '+' to concate the two or several strings\n",
    "print(a+\" concated with \"+b)"
   ]
  },
  {
   "cell_type": "code",
   "execution_count": 71,
   "id": "5c466128-9d0d-4087-a9db-9510127ba432",
   "metadata": {},
   "outputs": [],
   "source": [
    "### List Data Types"
   ]
  },
  {
   "cell_type": "code",
   "execution_count": 72,
   "id": "ef4e8a75-1064-4dc1-8302-66be69fd1cce",
   "metadata": {},
   "outputs": [
    {
     "name": "stdout",
     "output_type": "stream",
     "text": [
      "[1, 2, 3, 4, 5, 6]\n"
     ]
    }
   ],
   "source": [
    "#list of having only integers\n",
    "a= [1,2,3,4,5,6]\n",
    "print(a)"
   ]
  },
  {
   "cell_type": "code",
   "execution_count": 73,
   "id": "97eb9907-20a0-4d15-9843-33bd6c766689",
   "metadata": {},
   "outputs": [
    {
     "name": "stdout",
     "output_type": "stream",
     "text": [
      "['hello', 'john', 'reese']\n"
     ]
    }
   ],
   "source": [
    "#list of having only strings\n",
    "b=[\"hello\",\"john\",\"reese\"]\n",
    "print(b)"
   ]
  },
  {
   "cell_type": "code",
   "execution_count": 74,
   "id": "7097bd5f-11e0-4e8c-ae72-74e6df69cc46",
   "metadata": {},
   "outputs": [
    {
     "name": "stdout",
     "output_type": "stream",
     "text": [
      "['hey', 'you', 1, 2, 3, 'go']\n"
     ]
    }
   ],
   "source": [
    "#list of having both integers and strings\n",
    "c= [\"hey\",\"you\",1,2,3,\"go\"]\n",
    "print(c)"
   ]
  },
  {
   "cell_type": "code",
   "execution_count": 75,
   "id": "1e30369a-703d-4499-9177-0aff8067755b",
   "metadata": {},
   "outputs": [
    {
     "name": "stdout",
     "output_type": "stream",
     "text": [
      "you\n"
     ]
    }
   ],
   "source": [
    "#index are 0 based. this will print a single character\n",
    "print(c[1]) #this will print \"you\" in list c"
   ]
  },
  {
   "cell_type": "code",
   "execution_count": 76,
   "id": "36749319-060e-4c90-b522-7a57a2604d29",
   "metadata": {},
   "outputs": [],
   "source": [
    "### Tuple Data Types"
   ]
  },
  {
   "cell_type": "code",
   "execution_count": 78,
   "id": "ecda955c-fe02-45d7-8ca9-64b42320b42c",
   "metadata": {
    "scrolled": true
   },
   "outputs": [
    {
     "name": "stdout",
     "output_type": "stream",
     "text": [
      "(1, 2, 3, 4)\n"
     ]
    }
   ],
   "source": [
    "# tuple having only integer type of data.\n",
    "a=(1,2,3,4)\n",
    "print(a) #prints the whole tuple  "
   ]
  },
  {
   "cell_type": "code",
   "execution_count": 79,
   "id": "c437aa5e-f72f-499b-9326-37ed181aef86",
   "metadata": {},
   "outputs": [
    {
     "name": "stdout",
     "output_type": "stream",
     "text": [
      "('hello', 1, 2, 3, 'go')\n"
     ]
    }
   ],
   "source": [
    "# tuple having multiple type of data.\n",
    "b=(\"hello\", 1,2,3,\"go\")\n",
    "print(b) #prints the whole tuple   \n",
    "#index of tuples are also 0 based."
   ]
  },
  {
   "cell_type": "code",
   "execution_count": 82,
   "id": "e9c6364e-ebc7-4673-ae35-f7428cd3464f",
   "metadata": {},
   "outputs": [
    {
     "name": "stdout",
     "output_type": "stream",
     "text": [
      "go\n"
     ]
    }
   ],
   "source": [
    "print(b[4]) # prints index 4"
   ]
  },
  {
   "cell_type": "code",
   "execution_count": 83,
   "id": "61c50f34-7e65-40ba-accf-1d061916877f",
   "metadata": {},
   "outputs": [
    {
     "name": "stdout",
     "output_type": "stream",
     "text": [
      "(1, 2)\n"
     ]
    }
   ],
   "source": [
    "print(b[1 : 3])"
   ]
  },
  {
   "cell_type": "code",
   "execution_count": 85,
   "id": "169e7bac-a284-47fe-9de2-e773bc2bfb3a",
   "metadata": {},
   "outputs": [
    {
     "name": "stdout",
     "output_type": "stream",
     "text": [
      "go\n"
     ]
    }
   ],
   "source": [
    "print(b[-1])"
   ]
  },
  {
   "cell_type": "code",
   "execution_count": 90,
   "id": "e2a3c77c-2d67-48fd-85bc-b88542a6c0d5",
   "metadata": {},
   "outputs": [
    {
     "name": "stdout",
     "output_type": "stream",
     "text": [
      "2\n"
     ]
    }
   ],
   "source": [
    "print(b[-3])"
   ]
  },
  {
   "cell_type": "code",
   "execution_count": 92,
   "id": "694d7847-1bd4-4939-90b1-9cd27b7c10e9",
   "metadata": {},
   "outputs": [
    {
     "name": "stdout",
     "output_type": "stream",
     "text": [
      "()\n"
     ]
    }
   ],
   "source": [
    "print(b[-2 : -3])"
   ]
  },
  {
   "cell_type": "code",
   "execution_count": 93,
   "id": "20f383a9-42ca-475b-ad16-f926583e0e55",
   "metadata": {},
   "outputs": [],
   "source": [
    "### Dictionary Data Type"
   ]
  },
  {
   "cell_type": "code",
   "execution_count": 94,
   "id": "c9f9a13b-4d7b-4d55-aac6-82293e4e741b",
   "metadata": {},
   "outputs": [
    {
     "name": "stdout",
     "output_type": "stream",
     "text": [
      "first name\n",
      "last name\n",
      "33\n"
     ]
    }
   ],
   "source": [
    "#a sample dictionary variable\n",
    "a = {1:\"first name\",2:\"last name\", \"age\":33}\n",
    "#print value having key=1\n",
    "print(a[1])\n",
    "#print value having key=2\n",
    "print(a[2])\n",
    "#print value having key=\"age\"\n",
    "print(a[\"age\"])"
   ]
  },
  {
   "cell_type": "code",
   "execution_count": 1,
   "id": "d1b38aff-9d07-4679-9a65-6d1f70c39ade",
   "metadata": {},
   "outputs": [
    {
     "data": {
      "text/plain": [
       "['__add__',\n",
       " '__class__',\n",
       " '__class_getitem__',\n",
       " '__contains__',\n",
       " '__delattr__',\n",
       " '__delitem__',\n",
       " '__dir__',\n",
       " '__doc__',\n",
       " '__eq__',\n",
       " '__format__',\n",
       " '__ge__',\n",
       " '__getattribute__',\n",
       " '__getitem__',\n",
       " '__getstate__',\n",
       " '__gt__',\n",
       " '__hash__',\n",
       " '__iadd__',\n",
       " '__imul__',\n",
       " '__init__',\n",
       " '__init_subclass__',\n",
       " '__iter__',\n",
       " '__le__',\n",
       " '__len__',\n",
       " '__lt__',\n",
       " '__mul__',\n",
       " '__ne__',\n",
       " '__new__',\n",
       " '__reduce__',\n",
       " '__reduce_ex__',\n",
       " '__repr__',\n",
       " '__reversed__',\n",
       " '__rmul__',\n",
       " '__setattr__',\n",
       " '__setitem__',\n",
       " '__sizeof__',\n",
       " '__str__',\n",
       " '__subclasshook__',\n",
       " 'append',\n",
       " 'clear',\n",
       " 'copy',\n",
       " 'count',\n",
       " 'extend',\n",
       " 'index',\n",
       " 'insert',\n",
       " 'pop',\n",
       " 'remove',\n",
       " 'reverse',\n",
       " 'sort']"
      ]
     },
     "execution_count": 1,
     "metadata": {},
     "output_type": "execute_result"
    }
   ],
   "source": [
    "dir(list)"
   ]
  },
  {
   "cell_type": "code",
   "execution_count": 11,
   "id": "b547dcd0-51e7-435c-9049-5a71345be449",
   "metadata": {},
   "outputs": [
    {
     "name": "stdout",
     "output_type": "stream",
     "text": [
      "['ram', 'hari', 'kiran', 'shyam', 1, 2, 5.5, True, False, 'Antare']\n"
     ]
    }
   ],
   "source": [
    "mylist1 = [\"ram\", \"hari\", \"kiran\", \"shyam\", 1, 2, 5.5, True, False]\n",
    "mylist1.append(\"Antare\")\n",
    "print(mylist1)"
   ]
  },
  {
   "cell_type": "code",
   "execution_count": 12,
   "id": "62e518a4-bcd8-41b7-95b9-3fb2e1bb58b2",
   "metadata": {},
   "outputs": [],
   "source": [
    "mylist1.clear()"
   ]
  },
  {
   "cell_type": "code",
   "execution_count": 13,
   "id": "5873badc-d86a-4b56-a84d-51d19a2d9d18",
   "metadata": {},
   "outputs": [
    {
     "name": "stdout",
     "output_type": "stream",
     "text": [
      "[]\n"
     ]
    }
   ],
   "source": [
    "mylist1 = ['ram', 'hari', 'kiran', 'shyam', 1, 2, 5.5, True, False, 'Antare']\n",
    "mylist1.clear()\n",
    "print(mylist1)\n"
   ]
  },
  {
   "cell_type": "code",
   "execution_count": 17,
   "id": "7628f1f2-b427-49a0-8482-c2434c7507bd",
   "metadata": {},
   "outputs": [
    {
     "name": "stdout",
     "output_type": "stream",
     "text": [
      "['ram', 'hari', 'kiran', 'shyam', 1, 2, 5.5, True, False, 'Antare']\n"
     ]
    }
   ],
   "source": [
    "mylist1 = ['ram', 'hari', 'kiran', 'shyam', 1, 2, 5.5, True, False, 'Antare']\n",
    "x = mylist1.copy()\n",
    "print(x)"
   ]
  },
  {
   "cell_type": "code",
   "execution_count": 19,
   "id": "b35b89bc-b057-4363-ac2e-4881ec5fcc79",
   "metadata": {},
   "outputs": [
    {
     "name": "stdout",
     "output_type": "stream",
     "text": [
      "['ram', 'hari', 'kiran', 'shyam', 1, 2, 5.5, True, False, 'Antare', 'a']\n"
     ]
    }
   ],
   "source": [
    "mylist1 = ['ram', 'hari', 'kiran', 'shyam', 1, 2, 5.5, True, False, 'Antare']\n",
    "mylist1.extend(\"a\")\n",
    "print(mylist1)"
   ]
  },
  {
   "cell_type": "code",
   "execution_count": 56,
   "id": "ddee3f4f-8403-40f7-8116-58f23489ff96",
   "metadata": {},
   "outputs": [
    {
     "name": "stdout",
     "output_type": "stream",
     "text": [
      "['ram', 'hari', 'kiran', 'shyam', 'ram', 1, 'ram', 2, 'ram', 5.5, True, False, 'Antare']\n"
     ]
    }
   ],
   "source": [
    "mylist1 = ['ram', 'hari', 'kiran', 'shyam', 'ram', 1, 'ram', 2, 'ram', 5.5, True, False, 'Antare']\n",
    "mylist1.count(\"ram\")\n",
    "print(mylist1)"
   ]
  },
  {
   "cell_type": "code",
   "execution_count": 57,
   "id": "a0c33564-2a9b-4694-8968-3b2b7aba7947",
   "metadata": {},
   "outputs": [
    {
     "name": "stdout",
     "output_type": "stream",
     "text": [
      "5\n"
     ]
    }
   ],
   "source": [
    "mylist1 = ['ram', 'hari', 'kiran', 'shyam', 'ram', 1, 'ram', 2, 'ram', 5.5, True, False, 'Antare']\n",
    "x = mylist1.index(1)\n",
    "print(x)"
   ]
  },
  {
   "cell_type": "code",
   "execution_count": 58,
   "id": "dd74ca19-bdda-4193-a008-d7eb2059d171",
   "metadata": {},
   "outputs": [
    {
     "name": "stdout",
     "output_type": "stream",
     "text": [
      "['ram', 'namaste', 'hari', 'kiran', 'shyam', 'ram', 1, 'ram', 2, 'ram', 5.5, True, False, 'Antare']\n"
     ]
    }
   ],
   "source": [
    "mylist1 = ['ram', 'hari', 'kiran', 'shyam', 'ram', 1, 'ram', 2, 'ram', 5.5, True, False, 'Antare']\n",
    "mylist1.insert(1, \"namaste\")\n",
    "print(mylist1)"
   ]
  },
  {
   "cell_type": "code",
   "execution_count": 59,
   "id": "ec3bea62-57ef-43cc-9bcb-a59f4d4a12ae",
   "metadata": {},
   "outputs": [
    {
     "name": "stdout",
     "output_type": "stream",
     "text": [
      "['ram', 'hari', 'kiran', 'shyam', 'ram', 'ram', 2, 'ram', 5.5, True, False, 'Antare']\n"
     ]
    }
   ],
   "source": [
    "mylist1 = ['ram', 'hari', 'kiran', 'shyam', 'ram', 1, 'ram', 2, 'ram', 5.5, True, False, 'Antare']\n",
    "mylist1.pop(5)\n",
    "print(mylist1)"
   ]
  },
  {
   "cell_type": "code",
   "execution_count": 60,
   "id": "b87dda6b-816d-4c14-b8fc-b900873f000d",
   "metadata": {},
   "outputs": [
    {
     "name": "stdout",
     "output_type": "stream",
     "text": [
      "['ram', 'hari', 'kiran', 'shyam', 'ram', 1, 'ram', 2, 'ram', True, False, 'Antare']\n"
     ]
    }
   ],
   "source": [
    "mylist1 = ['ram', 'hari', 'kiran', 'shyam', 'ram', 1, 'ram', 2, 'ram', 5.5, True, False, 'Antare']\n",
    "mylist1.remove(5.5)\n",
    "print(mylist1)"
   ]
  },
  {
   "cell_type": "code",
   "execution_count": 61,
   "id": "04fa4d5b-ec46-4d5e-8239-1727fedcec37",
   "metadata": {},
   "outputs": [
    {
     "name": "stdout",
     "output_type": "stream",
     "text": [
      "['Antare', False, True, 5.5, 'ram', 2, 'ram', 1, 'ram', 'shyam', 'kiran', 'hari', 'ram']\n"
     ]
    }
   ],
   "source": [
    "mylist1 = ['ram', 'hari', 'kiran', 'shyam', 'ram', 1, 'ram', 2, 'ram', 5.5, True, False, 'Antare']\n",
    "mylist1.reverse()\n",
    "print(mylist1)"
   ]
  },
  {
   "cell_type": "code",
   "execution_count": 62,
   "id": "204ae16f-3825-419e-a522-5bb97a4b3d42",
   "metadata": {},
   "outputs": [
    {
     "name": "stdout",
     "output_type": "stream",
     "text": [
      "['Antare', 'hari', 'kiran', 'ram', 'ram', 'ram', 'ram', 'shyam']\n"
     ]
    }
   ],
   "source": [
    "mylist1 = ['ram', 'hari', 'kiran', 'shyam', 'ram', 'ram', 'ram', 'Antare']\n",
    "mylist1.sort()\n",
    "print(mylist1)"
   ]
  },
  {
   "cell_type": "code",
   "execution_count": null,
   "id": "b335da6e-707d-4f93-bc30-45cc8fc1ded0",
   "metadata": {},
   "outputs": [],
   "source": []
  },
  {
   "cell_type": "code",
   "execution_count": 12,
   "id": "e1c29208-04fa-4c7a-98e8-903ebe97851a",
   "metadata": {},
   "outputs": [
    {
     "name": "stdout",
     "output_type": "stream",
     "text": [
      "1964\n"
     ]
    }
   ],
   "source": [
    "thisdict = {\n",
    " \"brand\" : \"Ford\" ,\n",
    " \"model\" : \"Mustang\" ,\n",
    " \"year\" : 1964\n",
    " }\n",
    "x=thisdict.pop(\"year\")\n",
    "print (x)"
   ]
  }
 ],
 "metadata": {
  "kernelspec": {
   "display_name": "Python 3",
   "language": "python",
   "name": "python3"
  },
  "language_info": {
   "codemirror_mode": {
    "name": "ipython",
    "version": 3
   },
   "file_extension": ".py",
   "mimetype": "text/x-python",
   "name": "python",
   "nbconvert_exporter": "python",
   "pygments_lexer": "ipython3",
   "version": "3.13.3"
  }
 },
 "nbformat": 4,
 "nbformat_minor": 5
}
