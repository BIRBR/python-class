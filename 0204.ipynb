{
 "cells": [
  {
   "cell_type": "code",
   "execution_count": null,
   "id": "74caf5c2-8fc5-45d0-81b4-8f4fa30dc428",
   "metadata": {},
   "outputs": [],
   "source": [
    "# list comparision True and False"
   ]
  },
  {
   "cell_type": "code",
   "execution_count": 1,
   "id": "d66d5e03-fa52-4b10-a0ff-d342af58c714",
   "metadata": {},
   "outputs": [
    {
     "data": {
      "text/plain": [
       "True"
      ]
     },
     "execution_count": 1,
     "metadata": {},
     "output_type": "execute_result"
    }
   ],
   "source": [
    "[1, 4] < [3, 2]"
   ]
  },
  {
   "cell_type": "code",
   "execution_count": 2,
   "id": "18f1e2ba-0f3b-4e6a-92bd-d33253b71959",
   "metadata": {},
   "outputs": [
    {
     "data": {
      "text/plain": [
       "False"
      ]
     },
     "execution_count": 2,
     "metadata": {},
     "output_type": "execute_result"
    }
   ],
   "source": [
    "[1, 4] > [3, 2]"
   ]
  },
  {
   "cell_type": "code",
   "execution_count": 3,
   "id": "f019529f-cb48-4787-95a8-32cc6eaf4743",
   "metadata": {},
   "outputs": [],
   "source": [
    "# nested list, multidimensional  list"
   ]
  },
  {
   "cell_type": "code",
   "execution_count": null,
   "id": "e952e65f-24ed-4e6c-a25f-8fdf8171d6f1",
   "metadata": {},
   "outputs": [],
   "source": [
    "# 2 dimensional"
   ]
  },
  {
   "cell_type": "code",
   "execution_count": 5,
   "id": "4c16c1ea-f96b-45c3-aadf-00bdf1e324d7",
   "metadata": {
    "scrolled": true
   },
   "outputs": [
    {
     "name": "stdout",
     "output_type": "stream",
     "text": [
      "[2, 3, 4]\n",
      "[4, 5, 6]\n",
      "[1, 4, 3]\n"
     ]
    }
   ],
   "source": [
    "lst = [[2, 3, 4], [4, 5, 6], [1, 4, 3]]\n",
    "for items in lst:\n",
    "    print(items)"
   ]
  },
  {
   "cell_type": "code",
   "execution_count": 9,
   "id": "3aa76788-a174-4dc6-974f-c1a7197708d1",
   "metadata": {},
   "outputs": [
    {
     "name": "stdout",
     "output_type": "stream",
     "text": [
      "2\n",
      "3\n",
      "4\n",
      "4\n",
      "5\n",
      "6\n",
      "1\n",
      "4\n",
      "3\n"
     ]
    }
   ],
   "source": [
    "for row in lst:\n",
    "    for col in row:\n",
    "        print(col)"
   ]
  },
  {
   "cell_type": "code",
   "execution_count": 10,
   "id": "b2cc780f-d037-4fd8-a361-459c84fdf46f",
   "metadata": {},
   "outputs": [],
   "source": [
    "# 23 dimensional"
   ]
  },
  {
   "cell_type": "code",
   "execution_count": 13,
   "id": "c960c3cd-c344-45bd-8621-a13f9a5235fb",
   "metadata": {},
   "outputs": [],
   "source": [
    "lst_3dim = [[[2, 3, 4], [4, 5, 6], [1, 4, 3]],[[3, 8, 7], [5, 9, 1], [2, 11, 73]],[[5, 1, 7], [5, 9, 7], [2, 3, 73]]]"
   ]
  },
  {
   "cell_type": "code",
   "execution_count": 14,
   "id": "c19475eb-fa9d-4285-8d11-36b454e68bb3",
   "metadata": {
    "scrolled": true
   },
   "outputs": [
    {
     "name": "stdout",
     "output_type": "stream",
     "text": [
      "[[2, 3, 4], [4, 5, 6], [1, 4, 3]]\n",
      "[[3, 8, 7], [5, 9, 1], [2, 11, 73]]\n",
      "[[5, 1, 7], [5, 9, 7], [2, 3, 73]]\n"
     ]
    }
   ],
   "source": [
    "for items in lst_3dim:\n",
    "    print(items)"
   ]
  },
  {
   "cell_type": "code",
   "execution_count": 15,
   "id": "70c84bfa-ceae-4559-9914-fddff1a86407",
   "metadata": {},
   "outputs": [
    {
     "name": "stdout",
     "output_type": "stream",
     "text": [
      "[5, 1, 7]\n",
      "[5, 9, 7]\n",
      "[2, 3, 73]\n",
      "[5, 1, 7]\n",
      "[5, 9, 7]\n",
      "[2, 3, 73]\n",
      "[5, 1, 7]\n",
      "[5, 9, 7]\n",
      "[2, 3, 73]\n"
     ]
    }
   ],
   "source": [
    "for row in lst_3dim:\n",
    "    for row in items:\n",
    "        print(row)"
   ]
  },
  {
   "cell_type": "code",
   "execution_count": 17,
   "id": "f7a233d2-dac9-4645-ad2b-a63f08985358",
   "metadata": {},
   "outputs": [
    {
     "name": "stdout",
     "output_type": "stream",
     "text": [
      "2\n",
      "3\n",
      "73\n",
      "2\n",
      "3\n",
      "73\n",
      "2\n",
      "3\n",
      "73\n",
      "2\n",
      "3\n",
      "73\n",
      "2\n",
      "3\n",
      "73\n",
      "2\n",
      "3\n",
      "73\n",
      "2\n",
      "3\n",
      "73\n",
      "2\n",
      "3\n",
      "73\n",
      "2\n",
      "3\n",
      "73\n"
     ]
    }
   ],
   "source": [
    "for items in lst_3dim:\n",
    "    for ro in items:\n",
    "        for col in row:\n",
    "            print(col)"
   ]
  },
  {
   "cell_type": "code",
   "execution_count": 18,
   "id": "0ec6d541-feb9-4680-a048-223310e3a74c",
   "metadata": {},
   "outputs": [],
   "source": [
    "# indexing"
   ]
  },
  {
   "cell_type": "code",
   "execution_count": 19,
   "id": "0d686c7a-23ec-47e5-8d99-f1b5e224088b",
   "metadata": {},
   "outputs": [],
   "source": [
    "lst =[2, 3, 4],[4, 5, 6],[1, 4, 3]"
   ]
  },
  {
   "cell_type": "code",
   "execution_count": 20,
   "id": "200b0976-6829-4c98-9ad1-d2923be89674",
   "metadata": {},
   "outputs": [
    {
     "data": {
      "text/plain": [
       "5"
      ]
     },
     "execution_count": 20,
     "metadata": {},
     "output_type": "execute_result"
    }
   ],
   "source": [
    "lst[1][1]"
   ]
  },
  {
   "cell_type": "code",
   "execution_count": 23,
   "id": "ba0fb2c4-ad20-4d22-a870-8155075bc747",
   "metadata": {},
   "outputs": [],
   "source": [
    "lst_3dim = [[[2, 3], [4, 5], [1, 4]],[[3, 8], [5, 9], [2, 11]],[[5, 1], [5, 9,], [2, 3]]]"
   ]
  },
  {
   "cell_type": "code",
   "execution_count": 24,
   "id": "4fe669a2-9dbc-48ca-b0cb-c5901484c9af",
   "metadata": {},
   "outputs": [
    {
     "data": {
      "text/plain": [
       "5"
      ]
     },
     "execution_count": 24,
     "metadata": {},
     "output_type": "execute_result"
    }
   ],
   "source": [
    "lst_3dim[1][1][0]"
   ]
  },
  {
   "cell_type": "code",
   "execution_count": 25,
   "id": "6673eca7-290d-4840-b2b0-7d3518cbfb8b",
   "metadata": {},
   "outputs": [],
   "source": [
    "# list comprehensions"
   ]
  },
  {
   "cell_type": "code",
   "execution_count": 26,
   "id": "905e90c9-9434-4c10-95d0-a426cbea5b3d",
   "metadata": {},
   "outputs": [],
   "source": [
    "lst_3dim = [[[2, 3, 4], [4, 5, 6], [1, 4, 3]],[[3, 8, 7], [5, 9, 1], [2, 11, 73]],[[5, 1, 7], [5, 9, 7], [2, 3, 73]]]"
   ]
  },
  {
   "cell_type": "code",
   "execution_count": 27,
   "id": "4463fabb-21d6-483a-b468-c7bbadac9ea8",
   "metadata": {},
   "outputs": [
    {
     "data": {
      "text/plain": [
       "[0, 1, 2, 3, 4]"
      ]
     },
     "execution_count": 27,
     "metadata": {},
     "output_type": "execute_result"
    }
   ],
   "source": [
    "[i for i in range(5)]"
   ]
  },
  {
   "cell_type": "code",
   "execution_count": 28,
   "id": "b3204e76-75b2-4de6-a628-ebe81fbdb2fb",
   "metadata": {},
   "outputs": [
    {
     "data": {
      "text/plain": [
       "[[[2, 3, 4], [4, 5, 6], [1, 4, 3]],\n",
       " [[2, 3, 4], [4, 5, 6], [1, 4, 3]],\n",
       " [[2, 3, 4], [4, 5, 6], [1, 4, 3]],\n",
       " [[3, 8, 7], [5, 9, 1], [2, 11, 73]],\n",
       " [[3, 8, 7], [5, 9, 1], [2, 11, 73]],\n",
       " [[3, 8, 7], [5, 9, 1], [2, 11, 73]],\n",
       " [[5, 1, 7], [5, 9, 7], [2, 3, 73]],\n",
       " [[5, 1, 7], [5, 9, 7], [2, 3, 73]],\n",
       " [[5, 1, 7], [5, 9, 7], [2, 3, 73]]]"
      ]
     },
     "execution_count": 28,
     "metadata": {},
     "output_type": "execute_result"
    }
   ],
   "source": [
    "[row for row in lst_3dim for col in row]"
   ]
  },
  {
   "cell_type": "code",
   "execution_count": 30,
   "id": "460a31fa-e139-4afe-9a0f-267e69d869c3",
   "metadata": {},
   "outputs": [],
   "source": [
    "lst = [\n",
    "    [2, 3, 4],\n",
    "    [4, 5, 6],\n",
    "    [1, 4, 3]\n",
    "]"
   ]
  },
  {
   "cell_type": "code",
   "execution_count": 31,
   "id": "8402eab9-71cc-4202-bdec-b75efde2d3f7",
   "metadata": {},
   "outputs": [
    {
     "data": {
      "text/plain": [
       "[[2, 3, 4], [4, 5, 6], [1, 4, 3]]"
      ]
     },
     "execution_count": 31,
     "metadata": {},
     "output_type": "execute_result"
    }
   ],
   "source": [
    "lst"
   ]
  },
  {
   "cell_type": "code",
   "execution_count": 32,
   "id": "d8253fe5-3183-43a7-9217-97b58bf47caf",
   "metadata": {},
   "outputs": [
    {
     "data": {
      "text/plain": [
       "[[2, 3, 4], [4, 5, 6], [1, 4, 3]]"
      ]
     },
     "execution_count": 32,
     "metadata": {},
     "output_type": "execute_result"
    }
   ],
   "source": [
    "[row for row in lst]"
   ]
  },
  {
   "cell_type": "code",
   "execution_count": 33,
   "id": "723cab74-325d-47bf-ad72-85ed94571920",
   "metadata": {},
   "outputs": [
    {
     "data": {
      "text/plain": [
       "[2, 3, 4, 4, 5, 6, 1, 4, 3]"
      ]
     },
     "execution_count": 33,
     "metadata": {},
     "output_type": "execute_result"
    }
   ],
   "source": [
    "[col for row in lst for col in row]"
   ]
  },
  {
   "cell_type": "code",
   "execution_count": 34,
   "id": "a692732b-fa41-4df7-b702-2cd595c03dc7",
   "metadata": {},
   "outputs": [],
   "source": [
    "lst_3dim = [[[2, 3, 4], [4, 5, 6], [1, 4, 3]],[[3, 8, 7], [5, 9, 1], [2, 11, 73]],[[5, 1, 7], [5, 9, 7], [2, 3, 73]]]"
   ]
  },
  {
   "cell_type": "code",
   "execution_count": 38,
   "id": "2ff28ed1-cb97-4444-9eaa-9332873aee20",
   "metadata": {},
   "outputs": [
    {
     "data": {
      "text/plain": [
       "[2,\n",
       " 3,\n",
       " 4,\n",
       " 4,\n",
       " 5,\n",
       " 6,\n",
       " 1,\n",
       " 4,\n",
       " 3,\n",
       " 3,\n",
       " 8,\n",
       " 7,\n",
       " 5,\n",
       " 9,\n",
       " 1,\n",
       " 2,\n",
       " 11,\n",
       " 73,\n",
       " 5,\n",
       " 1,\n",
       " 7,\n",
       " 5,\n",
       " 9,\n",
       " 7,\n",
       " 2,\n",
       " 3,\n",
       " 73]"
      ]
     },
     "execution_count": 38,
     "metadata": {},
     "output_type": "execute_result"
    }
   ],
   "source": [
    "[col for items in lst_3dim for row in items for col in row]"
   ]
  },
  {
   "cell_type": "code",
   "execution_count": 39,
   "id": "b23b71ad-0265-4523-8259-4cc471273ffd",
   "metadata": {},
   "outputs": [],
   "source": [
    "# dictionary\n",
    "# key: value"
   ]
  },
  {
   "cell_type": "code",
   "execution_count": 43,
   "id": "b867f866-5242-4265-90bc-952b122c6e66",
   "metadata": {},
   "outputs": [
    {
     "data": {
      "text/plain": [
       "{}"
      ]
     },
     "execution_count": 43,
     "metadata": {},
     "output_type": "execute_result"
    }
   ],
   "source": [
    "d = {}\n",
    "d"
   ]
  },
  {
   "cell_type": "code",
   "execution_count": 44,
   "id": "e4f72bb5-65b0-4c8b-87dc-5c8cff4fd8c8",
   "metadata": {},
   "outputs": [
    {
     "data": {
      "text/plain": [
       "{}"
      ]
     },
     "execution_count": 44,
     "metadata": {},
     "output_type": "execute_result"
    }
   ],
   "source": [
    "d"
   ]
  },
  {
   "cell_type": "code",
   "execution_count": 45,
   "id": "1934ebdb-3d47-432f-80be-8d7b0e96acd2",
   "metadata": {},
   "outputs": [
    {
     "data": {
      "text/plain": [
       "{'key': 'vlue'}"
      ]
     },
     "execution_count": 45,
     "metadata": {},
     "output_type": "execute_result"
    }
   ],
   "source": [
    "d = {'key': 'vlue'}\n",
    "d"
   ]
  },
  {
   "cell_type": "code",
   "execution_count": 46,
   "id": "1149544b-32e0-4410-b3a1-734f83939d17",
   "metadata": {},
   "outputs": [],
   "source": [
    "# dict conprehension"
   ]
  },
  {
   "cell_type": "code",
   "execution_count": 47,
   "id": "353cde3e-a648-4566-8931-39e142927acb",
   "metadata": {},
   "outputs": [
    {
     "ename": "SyntaxError",
     "evalue": "invalid syntax. Perhaps you forgot a comma? (871513197.py, line 1)",
     "output_type": "error",
     "traceback": [
      "  \u001b[36mCell\u001b[39m\u001b[36m \u001b[39m\u001b[32mIn[47]\u001b[39m\u001b[32m, line 1\u001b[39m\n\u001b[31m    \u001b[39m\u001b[31mds = {k:kfor k, v in [('key', 'val')]}\u001b[39m\n            ^\n\u001b[31mSyntaxError\u001b[39m\u001b[31m:\u001b[39m invalid syntax. Perhaps you forgot a comma?\n"
     ]
    }
   ],
   "source": [
    "ds = {k:kfor k, v in [('key', 'val')]}\n",
    "dis"
   ]
  },
  {
   "cell_type": "code",
   "execution_count": 49,
   "id": "ec235fb1-683a-4918-b3b9-01f95acfd4c6",
   "metadata": {},
   "outputs": [
    {
     "data": {
      "text/plain": [
       "{'name': 'Ram', 'address': 'Kathmandu', 'age': 21}"
      ]
     },
     "execution_count": 49,
     "metadata": {},
     "output_type": "execute_result"
    }
   ],
   "source": [
    "info = {\n",
    "    \"name\": \"Ram\",\n",
    "    \"address\": \"Kathmandu\",\n",
    "    \"age\":21\n",
    "}\n",
    "info"
   ]
  },
  {
   "cell_type": "code",
   "execution_count": 50,
   "id": "cb221591-64f4-464b-b76d-41d7db72f669",
   "metadata": {},
   "outputs": [
    {
     "data": {
      "text/plain": [
       "21"
      ]
     },
     "execution_count": 50,
     "metadata": {},
     "output_type": "execute_result"
    }
   ],
   "source": [
    "info['age']"
   ]
  },
  {
   "cell_type": "code",
   "execution_count": 51,
   "id": "14c447cc-d005-4ac0-a05f-ae58a315c45e",
   "metadata": {},
   "outputs": [
    {
     "name": "stdout",
     "output_type": "stream",
     "text": [
      "name\n",
      "address\n",
      "age\n"
     ]
    }
   ],
   "source": [
    "for i in info:\n",
    "    print(i)\n",
    "    "
   ]
  },
  {
   "cell_type": "code",
   "execution_count": 57,
   "id": "40cdbf98-d44f-479b-a7c5-c599ccb78e7e",
   "metadata": {
    "scrolled": true
   },
   "outputs": [
    {
     "name": "stdout",
     "output_type": "stream",
     "text": [
      "name = Ram\n",
      "address = Kathmandu\n",
      "age = 21\n"
     ]
    }
   ],
   "source": [
    "for i in info:\n",
    "    print(i, \"=\", info[i])"
   ]
  },
  {
   "cell_type": "code",
   "execution_count": 60,
   "id": "7b261cb4-8299-49c0-87ff-8725a55b0d8d",
   "metadata": {},
   "outputs": [
    {
     "data": {
      "text/plain": [
       "{'name': 'Ram', 'address': 'Kathmandu', 'age': 21, 'working': 'not yet'}"
      ]
     },
     "execution_count": 60,
     "metadata": {},
     "output_type": "execute_result"
    }
   ],
   "source": [
    "info[\"working\"] = \"not yet\"\n",
    "info"
   ]
  },
  {
   "cell_type": "code",
   "execution_count": 64,
   "id": "c9989d44-4b56-49eb-b22a-255bb2704331",
   "metadata": {},
   "outputs": [
    {
     "name": "stdout",
     "output_type": "stream",
     "text": [
      "name = Ram\n",
      "address = Kathmandu\n",
      "age = 21\n",
      "working = not yet\n"
     ]
    }
   ],
   "source": [
    "for k, v in info.items():\n",
    "    print(k, \"=\", v)\n"
   ]
  },
  {
   "cell_type": "code",
   "execution_count": 65,
   "id": "8da8480e-2aa1-4ca8-8d32-95fec841365a",
   "metadata": {},
   "outputs": [
    {
     "data": {
      "text/plain": [
       "{'a': [1, 2, 3], 'b': ['one', 'two', 'three']}"
      ]
     },
     "execution_count": 65,
     "metadata": {},
     "output_type": "execute_result"
    }
   ],
   "source": [
    "dis = {\n",
    "    \"a\": [1, 2, 3],\n",
    "    \"b\": [\"one\", \"two\", \"three\"]\n",
    "}\n",
    "dis"
   ]
  },
  {
   "cell_type": "code",
   "execution_count": 66,
   "id": "5b3ac77d-4514-4b5b-8296-c5981de638d7",
   "metadata": {},
   "outputs": [
    {
     "data": {
      "text/plain": [
       "{'name': 'Ram',\n",
       " 'address': 'Kathmandu',\n",
       " 'age': 21,\n",
       " 'working': 'not yet',\n",
       " 'a': [1, 2, 3],\n",
       " 'b': ['one', 'two', 'three']}"
      ]
     },
     "execution_count": 66,
     "metadata": {},
     "output_type": "execute_result"
    }
   ],
   "source": [
    "new_dis = {**info, **dis}\n",
    "new_dis"
   ]
  },
  {
   "cell_type": "code",
   "execution_count": 67,
   "id": "7d290309-76fc-479a-a488-27191d7b658c",
   "metadata": {},
   "outputs": [
    {
     "name": "stdout",
     "output_type": "stream",
     "text": [
      "name: Ram\n",
      "address: Kathmandu\n",
      "age: 21\n",
      "working: not yet\n",
      "a: [1, 2, 3]\n",
      "b: ['one', 'two', 'three']\n"
     ]
    }
   ],
   "source": [
    "for k, v in new_dis.items():\n",
    "    print(f\"{k}: {v}\")"
   ]
  },
  {
   "cell_type": "code",
   "execution_count": 68,
   "id": "647d5d4b-e895-47bb-a566-1b2fd544d1c9",
   "metadata": {},
   "outputs": [],
   "source": [
    "# Other data structures"
   ]
  },
  {
   "cell_type": "code",
   "execution_count": 69,
   "id": "bfbbb074-d146-4c09-8f83-ca955ee36de3",
   "metadata": {},
   "outputs": [],
   "source": [
    "# Tuple"
   ]
  },
  {
   "cell_type": "code",
   "execution_count": 72,
   "id": "6a2138a5-da0c-4bcb-8790-de6a25ccc683",
   "metadata": {},
   "outputs": [
    {
     "data": {
      "text/plain": [
       "()"
      ]
     },
     "execution_count": 72,
     "metadata": {},
     "output_type": "execute_result"
    }
   ],
   "source": [
    "tpl = tuple()\n",
    "tpl"
   ]
  },
  {
   "cell_type": "code",
   "execution_count": 73,
   "id": "4aab69df-e1b7-4b54-8719-eb485f359a94",
   "metadata": {},
   "outputs": [
    {
     "data": {
      "text/plain": [
       "(1, 3)"
      ]
     },
     "execution_count": 73,
     "metadata": {},
     "output_type": "execute_result"
    }
   ],
   "source": [
    "tpl = (1, 3)\n",
    "tpl"
   ]
  },
  {
   "cell_type": "code",
   "execution_count": null,
   "id": "dffd375e-4afd-4406-869c-c88731fb0511",
   "metadata": {},
   "outputs": [],
   "source": []
  },
  {
   "cell_type": "code",
   "execution_count": null,
   "id": "f14cc360-b8fb-49a1-b098-c8d5759c5df9",
   "metadata": {},
   "outputs": [],
   "source": []
  },
  {
   "cell_type": "code",
   "execution_count": 74,
   "id": "12ca41cb-a8b8-40d3-99b3-107d5735d2c9",
   "metadata": {},
   "outputs": [
    {
     "data": {
      "text/plain": [
       "['__add__',\n",
       " '__class__',\n",
       " '__class_getitem__',\n",
       " '__contains__',\n",
       " '__delattr__',\n",
       " '__dir__',\n",
       " '__doc__',\n",
       " '__eq__',\n",
       " '__format__',\n",
       " '__ge__',\n",
       " '__getattribute__',\n",
       " '__getitem__',\n",
       " '__getnewargs__',\n",
       " '__getstate__',\n",
       " '__gt__',\n",
       " '__hash__',\n",
       " '__init__',\n",
       " '__init_subclass__',\n",
       " '__iter__',\n",
       " '__le__',\n",
       " '__len__',\n",
       " '__lt__',\n",
       " '__mul__',\n",
       " '__ne__',\n",
       " '__new__',\n",
       " '__reduce__',\n",
       " '__reduce_ex__',\n",
       " '__repr__',\n",
       " '__rmul__',\n",
       " '__setattr__',\n",
       " '__sizeof__',\n",
       " '__str__',\n",
       " '__subclasshook__',\n",
       " 'count',\n",
       " 'index']"
      ]
     },
     "execution_count": 74,
     "metadata": {},
     "output_type": "execute_result"
    }
   ],
   "source": [
    "dir(tuple)"
   ]
  },
  {
   "cell_type": "code",
   "execution_count": 75,
   "id": "c2e98434-3e52-40fc-beea-f855df6d7761",
   "metadata": {},
   "outputs": [],
   "source": [
    "#set"
   ]
  },
  {
   "cell_type": "code",
   "execution_count": 77,
   "id": "6417e2a5-dd2e-4f85-9ca9-152af4fb6df8",
   "metadata": {},
   "outputs": [
    {
     "data": {
      "text/plain": [
       "set()"
      ]
     },
     "execution_count": 77,
     "metadata": {},
     "output_type": "execute_result"
    }
   ],
   "source": [
    "s = set()\n",
    "s"
   ]
  },
  {
   "cell_type": "code",
   "execution_count": 78,
   "id": "fad50305-5c54-4c7e-ae8f-637bd967de7e",
   "metadata": {},
   "outputs": [
    {
     "data": {
      "text/plain": [
       "set"
      ]
     },
     "execution_count": 78,
     "metadata": {},
     "output_type": "execute_result"
    }
   ],
   "source": [
    "type(s)"
   ]
  },
  {
   "cell_type": "code",
   "execution_count": 79,
   "id": "11a1bc4a-a8ac-453e-a77a-5c6e69ed5c56",
   "metadata": {},
   "outputs": [
    {
     "data": {
      "text/plain": [
       "{1, 2, 3, 4, 5, 6}"
      ]
     },
     "execution_count": 79,
     "metadata": {},
     "output_type": "execute_result"
    }
   ],
   "source": [
    "st = {2, 3,4, 5,  1, 3, 2, 6}\n",
    "st"
   ]
  },
  {
   "cell_type": "code",
   "execution_count": 1,
   "id": "c53d8d03-c181-4484-87c1-b99fd00e0f47",
   "metadata": {},
   "outputs": [
    {
     "data": {
      "text/plain": [
       "['__and__',\n",
       " '__class__',\n",
       " '__class_getitem__',\n",
       " '__contains__',\n",
       " '__delattr__',\n",
       " '__dir__',\n",
       " '__doc__',\n",
       " '__eq__',\n",
       " '__format__',\n",
       " '__ge__',\n",
       " '__getattribute__',\n",
       " '__getstate__',\n",
       " '__gt__',\n",
       " '__hash__',\n",
       " '__iand__',\n",
       " '__init__',\n",
       " '__init_subclass__',\n",
       " '__ior__',\n",
       " '__isub__',\n",
       " '__iter__',\n",
       " '__ixor__',\n",
       " '__le__',\n",
       " '__len__',\n",
       " '__lt__',\n",
       " '__ne__',\n",
       " '__new__',\n",
       " '__or__',\n",
       " '__rand__',\n",
       " '__reduce__',\n",
       " '__reduce_ex__',\n",
       " '__repr__',\n",
       " '__ror__',\n",
       " '__rsub__',\n",
       " '__rxor__',\n",
       " '__setattr__',\n",
       " '__sizeof__',\n",
       " '__str__',\n",
       " '__sub__',\n",
       " '__subclasshook__',\n",
       " '__xor__',\n",
       " 'add',\n",
       " 'clear',\n",
       " 'copy',\n",
       " 'difference',\n",
       " 'difference_update',\n",
       " 'discard',\n",
       " 'intersection',\n",
       " 'intersection_update',\n",
       " 'isdisjoint',\n",
       " 'issubset',\n",
       " 'issuperset',\n",
       " 'pop',\n",
       " 'remove',\n",
       " 'symmetric_difference',\n",
       " 'symmetric_difference_update',\n",
       " 'union',\n",
       " 'update']"
      ]
     },
     "execution_count": 1,
     "metadata": {},
     "output_type": "execute_result"
    }
   ],
   "source": [
    "dir(set)"
   ]
  },
  {
   "cell_type": "code",
   "execution_count": 2,
   "id": "284b7d26-d82c-4a85-8171-2450354b64a5",
   "metadata": {},
   "outputs": [
    {
     "data": {
      "text/plain": [
       "['__add__',\n",
       " '__class__',\n",
       " '__class_getitem__',\n",
       " '__contains__',\n",
       " '__delattr__',\n",
       " '__delitem__',\n",
       " '__dir__',\n",
       " '__doc__',\n",
       " '__eq__',\n",
       " '__format__',\n",
       " '__ge__',\n",
       " '__getattribute__',\n",
       " '__getitem__',\n",
       " '__getstate__',\n",
       " '__gt__',\n",
       " '__hash__',\n",
       " '__iadd__',\n",
       " '__imul__',\n",
       " '__init__',\n",
       " '__init_subclass__',\n",
       " '__iter__',\n",
       " '__le__',\n",
       " '__len__',\n",
       " '__lt__',\n",
       " '__mul__',\n",
       " '__ne__',\n",
       " '__new__',\n",
       " '__reduce__',\n",
       " '__reduce_ex__',\n",
       " '__repr__',\n",
       " '__reversed__',\n",
       " '__rmul__',\n",
       " '__setattr__',\n",
       " '__setitem__',\n",
       " '__sizeof__',\n",
       " '__str__',\n",
       " '__subclasshook__',\n",
       " 'append',\n",
       " 'clear',\n",
       " 'copy',\n",
       " 'count',\n",
       " 'extend',\n",
       " 'index',\n",
       " 'insert',\n",
       " 'pop',\n",
       " 'remove',\n",
       " 'reverse',\n",
       " 'sort']"
      ]
     },
     "execution_count": 2,
     "metadata": {},
     "output_type": "execute_result"
    }
   ],
   "source": [
    "dir(list)"
   ]
  },
  {
   "cell_type": "code",
   "execution_count": 3,
   "id": "7550fef9-b4eb-4184-a921-5f9c0f76cca8",
   "metadata": {},
   "outputs": [
    {
     "data": {
      "text/plain": [
       "['__class__',\n",
       " '__class_getitem__',\n",
       " '__contains__',\n",
       " '__delattr__',\n",
       " '__delitem__',\n",
       " '__dir__',\n",
       " '__doc__',\n",
       " '__eq__',\n",
       " '__format__',\n",
       " '__ge__',\n",
       " '__getattribute__',\n",
       " '__getitem__',\n",
       " '__getstate__',\n",
       " '__gt__',\n",
       " '__hash__',\n",
       " '__init__',\n",
       " '__init_subclass__',\n",
       " '__ior__',\n",
       " '__iter__',\n",
       " '__le__',\n",
       " '__len__',\n",
       " '__lt__',\n",
       " '__ne__',\n",
       " '__new__',\n",
       " '__or__',\n",
       " '__reduce__',\n",
       " '__reduce_ex__',\n",
       " '__repr__',\n",
       " '__reversed__',\n",
       " '__ror__',\n",
       " '__setattr__',\n",
       " '__setitem__',\n",
       " '__sizeof__',\n",
       " '__str__',\n",
       " '__subclasshook__',\n",
       " 'clear',\n",
       " 'copy',\n",
       " 'fromkeys',\n",
       " 'get',\n",
       " 'items',\n",
       " 'keys',\n",
       " 'pop',\n",
       " 'popitem',\n",
       " 'setdefault',\n",
       " 'update',\n",
       " 'values']"
      ]
     },
     "execution_count": 3,
     "metadata": {},
     "output_type": "execute_result"
    }
   ],
   "source": [
    "dir(dict)"
   ]
  },
  {
   "cell_type": "code",
   "execution_count": null,
   "id": "b291bef5-18b3-41b4-b63c-d14a72e0c33b",
   "metadata": {},
   "outputs": [],
   "source": []
  }
 ],
 "metadata": {
  "kernelspec": {
   "display_name": "Python 3 (ipykernel)",
   "language": "python",
   "name": "python3"
  },
  "language_info": {
   "codemirror_mode": {
    "name": "ipython",
    "version": 3
   },
   "file_extension": ".py",
   "mimetype": "text/x-python",
   "name": "python",
   "nbconvert_exporter": "python",
   "pygments_lexer": "ipython3",
   "version": "3.13.3"
  }
 },
 "nbformat": 4,
 "nbformat_minor": 5
}
