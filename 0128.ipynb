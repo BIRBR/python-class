{
 "cells": [
  {
   "cell_type": "markdown",
   "id": "cc3d51a7-c0d3-4433-acaf-584e9589877c",
   "metadata": {},
   "source": [
    "# Fourth Class"
   ]
  },
  {
   "cell_type": "code",
   "execution_count": 1,
   "id": "6dddfedf-f9ca-431a-b4cf-80bafe86dd76",
   "metadata": {
    "scrolled": true
   },
   "outputs": [
    {
     "name": "stdout",
     "output_type": "stream",
     "text": [
      "Tranining center: Skill trianing Nepal\n"
     ]
    }
   ],
   "source": [
    "name =  \"Skill trianing Nepal\" # string\n",
    "print(\"Tranining center:\", name)"
   ]
  },
  {
   "cell_type": "code",
   "execution_count": 2,
   "id": "bad91edc-d4e1-4d28-baa7-560ed8e469e2",
   "metadata": {},
   "outputs": [
    {
     "name": "stdout",
     "output_type": "stream",
     "text": [
      "Training Center:Skill trianing Nepal\n"
     ]
    }
   ],
   "source": [
    "print(\"Training Center:\" + name) # concanate"
   ]
  },
  {
   "cell_type": "code",
   "execution_count": 5,
   "id": "d9e44913-60c9-46ad-b764-cc4f7350cdfd",
   "metadata": {},
   "outputs": [
    {
     "name": "stdout",
     "output_type": "stream",
     "text": [
      "Training Center: Skill trianing Nepal\n"
     ]
    }
   ],
   "source": [
    "print(f\"Training Center: {name}\")"
   ]
  },
  {
   "cell_type": "code",
   "execution_count": 4,
   "id": "070b55da-ec10-4314-9d77-34ad9bc7c46b",
   "metadata": {},
   "outputs": [
    {
     "name": "stdout",
     "output_type": "stream",
     "text": [
      "Training CEnter Skill trianing Nepal\n"
     ]
    }
   ],
   "source": [
    "print(\"Training CEnter {}\".format(name))"
   ]
  },
  {
   "cell_type": "code",
   "execution_count": 4,
   "id": "1f865a6e-0ad3-46cd-9815-be3475908dec",
   "metadata": {},
   "outputs": [
    {
     "name": "stdout",
     "output_type": "stream",
     "text": [
      "7\n",
      "7\n",
      "<class 'int'>\n"
     ]
    }
   ],
   "source": [
    "# Operators : Arithmeatic,\n",
    "a, b,c  = 4, 3, 2.0\n",
    "print(a+b)\n",
    "d= a+b\n",
    "print(d)\n",
    "print(type(d))"
   ]
  },
  {
   "cell_type": "code",
   "execution_count": 5,
   "id": "7bc2fc58-c56d-4a75-a15a-6ac75988d73b",
   "metadata": {},
   "outputs": [
    {
     "name": "stdout",
     "output_type": "stream",
     "text": [
      "6.0\n",
      "<class 'float'>\n"
     ]
    }
   ],
   "source": [
    "d = a + c\n",
    "print(d)\n",
    "print(type(d))"
   ]
  },
  {
   "cell_type": "code",
   "execution_count": 6,
   "id": "f4dd70c3-d59f-4c5b-8bfe-d613d57a06ce",
   "metadata": {},
   "outputs": [
    {
     "name": "stdout",
     "output_type": "stream",
     "text": [
      "6\n",
      "<class 'int'>\n"
     ]
    }
   ],
   "source": [
    "d = a + int(c)\n",
    "print(d)\n",
    "print(type(d))"
   ]
  },
  {
   "cell_type": "code",
   "execution_count": null,
   "id": "4d6a63f9-9af2-4488-bd05-0f832da23e8c",
   "metadata": {},
   "outputs": [
    {
     "name": "stdout",
     "output_type": "stream",
     "text": [
      "6.0\n"
     ]
    }
   ],
   "source": [
    "a += c\n",
    "print(a)"
   ]
  },
  {
   "cell_type": "code",
   "execution_count": 8,
   "id": "7e098330-ffda-4a89-96e2-031d140f1d90",
   "metadata": {
    "scrolled": true
   },
   "outputs": [
    {
     "data": {
      "text/plain": [
       "8.0"
      ]
     },
     "execution_count": 8,
     "metadata": {},
     "output_type": "execute_result"
    }
   ],
   "source": [
    "import operator\n",
    "operator.iadd(a, c)"
   ]
  },
  {
   "cell_type": "code",
   "execution_count": 9,
   "id": "b68a54f8-ab02-4c72-8d14-6d0c984c267c",
   "metadata": {},
   "outputs": [
    {
     "data": {
      "text/plain": [
       "8.0"
      ]
     },
     "execution_count": 9,
     "metadata": {},
     "output_type": "execute_result"
    }
   ],
   "source": [
    "operator.iadd(a, c) # a += c"
   ]
  },
  {
   "cell_type": "markdown",
   "id": "0f294466-224f-4cba-b561-7541a87fedf8",
   "metadata": {},
   "source": [
    "# Substraction"
   ]
  },
  {
   "cell_type": "code",
   "execution_count": 17,
   "id": "25d4d6b5-07b9-4e08-afc6-a2e2d0cff5f0",
   "metadata": {},
   "outputs": [
    {
     "data": {
      "text/plain": [
       "-1"
      ]
     },
     "execution_count": 17,
     "metadata": {},
     "output_type": "execute_result"
    }
   ],
   "source": [
    "a, b = 3, 4\n",
    "a - b\n"
   ]
  },
  {
   "cell_type": "code",
   "execution_count": 19,
   "id": "7bc7083d-fda7-407c-8d17-2a94c323de2e",
   "metadata": {},
   "outputs": [],
   "source": [
    "a -=b"
   ]
  },
  {
   "cell_type": "code",
   "execution_count": 21,
   "id": "d8d28825-4d58-41db-a3cd-9fd9832847c1",
   "metadata": {},
   "outputs": [
    {
     "data": {
      "text/plain": [
       "9"
      ]
     },
     "execution_count": 21,
     "metadata": {},
     "output_type": "execute_result"
    }
   ],
   "source": [
    "import operator\n",
    "operator.sub(b, a)"
   ]
  },
  {
   "cell_type": "markdown",
   "id": "8850cfc1-b38e-4bd1-bd63-910f15d83d11",
   "metadata": {},
   "source": [
    "# Multiplication"
   ]
  },
  {
   "cell_type": "code",
   "execution_count": 4,
   "id": "d857bab8-e713-4f08-9921-3927ceead5b9",
   "metadata": {},
   "outputs": [],
   "source": [
    "a, b = 3, 4\n"
   ]
  },
  {
   "cell_type": "code",
   "execution_count": 5,
   "id": "38944acb-08a3-4bf8-a317-78baf6b0c82f",
   "metadata": {},
   "outputs": [
    {
     "data": {
      "text/plain": [
       "12"
      ]
     },
     "execution_count": 5,
     "metadata": {},
     "output_type": "execute_result"
    }
   ],
   "source": [
    "a * b"
   ]
  },
  {
   "cell_type": "code",
   "execution_count": 6,
   "id": "0c05b5fd-1347-41f7-bcfb-a2c43e85e727",
   "metadata": {},
   "outputs": [
    {
     "data": {
      "text/plain": [
       "12"
      ]
     },
     "execution_count": 6,
     "metadata": {},
     "output_type": "execute_result"
    }
   ],
   "source": [
    "operator.mul(a, b)"
   ]
  },
  {
   "cell_type": "code",
   "execution_count": 7,
   "id": "787d0a98-977e-4de4-9f52-d4af225908b1",
   "metadata": {},
   "outputs": [],
   "source": [
    "string = \"12\""
   ]
  },
  {
   "cell_type": "code",
   "execution_count": 8,
   "id": "6a18f93d-7a44-4ace-9be7-398a5caf062c",
   "metadata": {},
   "outputs": [
    {
     "data": {
      "text/plain": [
       "15"
      ]
     },
     "execution_count": 8,
     "metadata": {},
     "output_type": "execute_result"
    }
   ],
   "source": [
    "a + int(string)"
   ]
  },
  {
   "cell_type": "code",
   "execution_count": 9,
   "id": "912aab1a-2d2b-4c58-8963-fad169ee35e3",
   "metadata": {},
   "outputs": [],
   "source": [
    "str1 = \"hello\""
   ]
  },
  {
   "cell_type": "code",
   "execution_count": 10,
   "id": "f826d562-8da1-49aa-ba33-70aec60174bb",
   "metadata": {},
   "outputs": [
    {
     "name": "stdout",
     "output_type": "stream",
     "text": [
      "hellohellohellohellohello\n"
     ]
    }
   ],
   "source": [
    "print(5 * str1)"
   ]
  },
  {
   "cell_type": "markdown",
   "id": "e15153dd-97a7-45f9-8a45-12744c2bda86",
   "metadata": {},
   "source": [
    "# Division"
   ]
  },
  {
   "cell_type": "code",
   "execution_count": 11,
   "id": "fad2c1ab-b137-4e92-8bbb-6b69dac90ccd",
   "metadata": {},
   "outputs": [],
   "source": [
    "a, b= 3, 4"
   ]
  },
  {
   "cell_type": "code",
   "execution_count": 12,
   "id": "721d6aaa-5b23-4225-a4e3-a1011f787c44",
   "metadata": {},
   "outputs": [
    {
     "data": {
      "text/plain": [
       "0.75"
      ]
     },
     "execution_count": 12,
     "metadata": {},
     "output_type": "execute_result"
    }
   ],
   "source": [
    "a/b"
   ]
  },
  {
   "cell_type": "code",
   "execution_count": 14,
   "id": "fb644738-370f-4e5d-8572-9a1e0156f89c",
   "metadata": {},
   "outputs": [
    {
     "data": {
      "text/plain": [
       "1"
      ]
     },
     "execution_count": 14,
     "metadata": {},
     "output_type": "execute_result"
    }
   ],
   "source": [
    "b//a # prints except remainder"
   ]
  },
  {
   "cell_type": "code",
   "execution_count": 13,
   "id": "900de197-e72b-4407-95dc-dd47632b9012",
   "metadata": {},
   "outputs": [
    {
     "data": {
      "text/plain": [
       "1.3333333333333333"
      ]
     },
     "execution_count": 13,
     "metadata": {},
     "output_type": "execute_result"
    }
   ],
   "source": [
    "b/a # actual division"
   ]
  },
  {
   "cell_type": "code",
   "execution_count": 12,
   "id": "9fc01788-e57d-442c-a582-a9dd0c29cd8d",
   "metadata": {},
   "outputs": [
    {
     "data": {
      "text/plain": [
       "1"
      ]
     },
     "execution_count": 12,
     "metadata": {},
     "output_type": "execute_result"
    }
   ],
   "source": [
    "b % a # Display remaider only"
   ]
  },
  {
   "cell_type": "code",
   "execution_count": 15,
   "id": "839369e2-d123-4b10-b25b-00aa33c70ac8",
   "metadata": {},
   "outputs": [
    {
     "data": {
      "text/plain": [
       "1"
      ]
     },
     "execution_count": 15,
     "metadata": {},
     "output_type": "execute_result"
    }
   ],
   "source": [
    "b%a"
   ]
  },
  {
   "cell_type": "code",
   "execution_count": null,
   "id": "62ab9ac9-1e1a-48f9-b2ff-cf2768f8a0a5",
   "metadata": {},
   "outputs": [],
   "source": []
  },
  {
   "cell_type": "markdown",
   "id": "801fd1aa-49cd-48aa-b780-7dba9a57916f",
   "metadata": {},
   "source": [
    "# Exponential"
   ]
  },
  {
   "cell_type": "code",
   "execution_count": 39,
   "id": "e36c895a-dc25-4e46-a056-5c6b838e205d",
   "metadata": {},
   "outputs": [],
   "source": [
    "import math # for normal mathematical operation"
   ]
  },
  {
   "cell_type": "code",
   "execution_count": 40,
   "id": "e2a14344-5514-470c-8e87-cba697929f24",
   "metadata": {},
   "outputs": [],
   "source": [
    "a, b= 3, 2"
   ]
  },
  {
   "cell_type": "code",
   "execution_count": 41,
   "id": "fff255ae-66a4-424d-b2b6-91ed1b75accc",
   "metadata": {},
   "outputs": [
    {
     "data": {
      "text/plain": [
       "9"
      ]
     },
     "execution_count": 41,
     "metadata": {},
     "output_type": "execute_result"
    }
   ],
   "source": [
    "pow(a, b) # (a^b)"
   ]
  },
  {
   "cell_type": "code",
   "execution_count": 42,
   "id": "15c24979-723c-421a-b139-15e5cf3620ca",
   "metadata": {},
   "outputs": [
    {
     "data": {
      "text/plain": [
       "8"
      ]
     },
     "execution_count": 42,
     "metadata": {},
     "output_type": "execute_result"
    }
   ],
   "source": [
    "b ** a"
   ]
  },
  {
   "cell_type": "code",
   "execution_count": 43,
   "id": "02eae8c4-aba9-4666-a11c-1c6edf030173",
   "metadata": {},
   "outputs": [
    {
     "data": {
      "text/plain": [
       "1.7320508075688772"
      ]
     },
     "execution_count": 43,
     "metadata": {},
     "output_type": "execute_result"
    }
   ],
   "source": [
    "math.sqrt(a)"
   ]
  },
  {
   "cell_type": "code",
   "execution_count": 44,
   "id": "c2bea68f-009d-49a1-93a5-9e603027a517",
   "metadata": {},
   "outputs": [
    {
     "data": {
      "text/plain": [
       "1.4142135623730951"
      ]
     },
     "execution_count": 44,
     "metadata": {},
     "output_type": "execute_result"
    }
   ],
   "source": [
    "math.sqrt(b)"
   ]
  },
  {
   "cell_type": "markdown",
   "id": "54bd89f7-e09b-45c6-9825-ffbc28872200",
   "metadata": {},
   "source": [
    "# Cmath"
   ]
  },
  {
   "cell_type": "code",
   "execution_count": 45,
   "id": "e8a85d9c-b70f-40a5-8c0f-70d748276402",
   "metadata": {},
   "outputs": [],
   "source": [
    "import cmath # shit + enter = run, This is for complex number"
   ]
  },
  {
   "cell_type": "code",
   "execution_count": 46,
   "id": "ca857e8c-ddcd-4d97-be71-9a7de4a6ed8a",
   "metadata": {
    "scrolled": true
   },
   "outputs": [
    {
     "data": {
      "text/plain": [
       "(1.4142135623730951+0j)"
      ]
     },
     "execution_count": 46,
     "metadata": {},
     "output_type": "execute_result"
    }
   ],
   "source": [
    "cmath.sqrt(b)"
   ]
  },
  {
   "cell_type": "code",
   "execution_count": 47,
   "id": "64ad8397-f4c5-4f8c-8e5d-27db0011eb18",
   "metadata": {},
   "outputs": [
    {
     "data": {
      "text/plain": [
       "(2+0j)"
      ]
     },
     "execution_count": 47,
     "metadata": {},
     "output_type": "execute_result"
    }
   ],
   "source": [
    "cmath.sqrt(4)"
   ]
  },
  {
   "cell_type": "code",
   "execution_count": 48,
   "id": "e0820ab8-a198-4479-a7d1-a690d7459321",
   "metadata": {},
   "outputs": [
    {
     "data": {
      "text/plain": [
       "2.718281828459045"
      ]
     },
     "execution_count": 48,
     "metadata": {},
     "output_type": "execute_result"
    }
   ],
   "source": [
    "math.exp(1) # e^1 -1"
   ]
  },
  {
   "cell_type": "code",
   "execution_count": 49,
   "id": "5681c1e0-c243-4d9d-9aa3-2b97107ccf20",
   "metadata": {},
   "outputs": [
    {
     "data": {
      "text/plain": [
       "7.38905609893065"
      ]
     },
     "execution_count": 49,
     "metadata": {},
     "output_type": "execute_result"
    }
   ],
   "source": [
    "math.exp(2)"
   ]
  },
  {
   "cell_type": "markdown",
   "id": "b8531e3d-a295-4750-8999-d87e2a8b17e5",
   "metadata": {},
   "source": [
    "math.expm1(1)"
   ]
  },
  {
   "cell_type": "code",
   "execution_count": 50,
   "id": "f1e2f374-7ecc-4193-bf01-5b511e99b6d4",
   "metadata": {},
   "outputs": [
    {
     "data": {
      "text/plain": [
       "1.0"
      ]
     },
     "execution_count": 50,
     "metadata": {},
     "output_type": "execute_result"
    }
   ],
   "source": [
    "math.exp(0)"
   ]
  },
  {
   "cell_type": "code",
   "execution_count": 50,
   "id": "0b348dac-15aa-42c5-a6af-d4ff53c98a11",
   "metadata": {},
   "outputs": [],
   "source": [
    "# searc for python opertor for more detail"
   ]
  },
  {
   "cell_type": "markdown",
   "id": "bbccfcfc-401e-41ee-9cd9-58e1553f52ea",
   "metadata": {},
   "source": [
    "# Trigonometric operators"
   ]
  },
  {
   "cell_type": "code",
   "execution_count": 51,
   "id": "fca42f4f-89cf-4b09-a06d-563ef812eca9",
   "metadata": {},
   "outputs": [
    {
     "data": {
      "text/plain": [
       "-1.0"
      ]
     },
     "execution_count": 51,
     "metadata": {},
     "output_type": "execute_result"
    }
   ],
   "source": [
    "math.cos(math.pi)"
   ]
  },
  {
   "cell_type": "code",
   "execution_count": 52,
   "id": "e8b05181-37f9-456e-a520-0b0fb644f482",
   "metadata": {},
   "outputs": [],
   "source": [
    "import math\n",
    "x = math.sin(1)\n"
   ]
  },
  {
   "cell_type": "code",
   "execution_count": 53,
   "id": "512d9565-2087-4545-972d-e860749f3ce3",
   "metadata": {},
   "outputs": [
    {
     "data": {
      "text/plain": [
       "0.49999999999999994"
      ]
     },
     "execution_count": 53,
     "metadata": {},
     "output_type": "execute_result"
    }
   ],
   "source": [
    "deg = 30\n",
    "rad = math.radians(deg)\n",
    "math.sin(rad)"
   ]
  },
  {
   "cell_type": "code",
   "execution_count": 54,
   "id": "77511b17-4674-48e2-86ae-701da9346cd5",
   "metadata": {},
   "outputs": [
    {
     "data": {
      "text/plain": [
       "0.5510695830994463"
      ]
     },
     "execution_count": 54,
     "metadata": {},
     "output_type": "execute_result"
    }
   ],
   "source": [
    "math.asin(rad)"
   ]
  },
  {
   "cell_type": "code",
   "execution_count": 57,
   "id": "8d9fa28b-2139-4eda-a98e-5522cdcb62df",
   "metadata": {},
   "outputs": [
    {
     "name": "stdout",
     "output_type": "stream",
     "text": [
      "0.15425144988758405\n"
     ]
    }
   ],
   "source": [
    "y = math.cos(30)\n",
    "print(y)"
   ]
  },
  {
   "cell_type": "code",
   "execution_count": 65,
   "id": "de09aa43-dd19-4b10-80ec-e86a372ceea6",
   "metadata": {},
   "outputs": [
    {
     "name": "stdout",
     "output_type": "stream",
     "text": [
      "1.0006324445845896\n"
     ]
    }
   ],
   "source": [
    "pi = 22/7\n",
    "z=math.tan(45 * (pi/180))\n",
    "print(z)"
   ]
  },
  {
   "cell_type": "code",
   "execution_count": 70,
   "id": "bc891358-6c8f-48bc-ad02-ae47f033212b",
   "metadata": {},
   "outputs": [
    {
     "name": "stdout",
     "output_type": "stream",
     "text": [
      "0.7073302780849811\n"
     ]
    }
   ],
   "source": [
    "q =math.sin(45 * (pi/180))\n",
    "print(q)"
   ]
  },
  {
   "cell_type": "code",
   "execution_count": null,
   "id": "5d9e4286-1885-4324-8a81-797d9436b5ef",
   "metadata": {},
   "outputs": [],
   "source": []
  },
  {
   "cell_type": "markdown",
   "id": "889c7af5-e41d-46a9-a084-e986166c5327",
   "metadata": {},
   "source": [
    "# Logarithm"
   ]
  },
  {
   "cell_type": "code",
   "execution_count": null,
   "id": "ad03ec46-6e23-4373-b843-7657dc4fe0c3",
   "metadata": {},
   "outputs": [],
   "source": []
  },
  {
   "cell_type": "code",
   "execution_count": 1,
   "id": "21a29c3d-39da-45bc-9b53-81049a1efdf3",
   "metadata": {},
   "outputs": [],
   "source": [
    "import math"
   ]
  },
  {
   "cell_type": "code",
   "execution_count": 2,
   "id": "cc2335ad-9531-44c9-997d-5de5c072e6f8",
   "metadata": {},
   "outputs": [
    {
     "data": {
      "text/plain": [
       "2.302585092994046"
      ]
     },
     "execution_count": 2,
     "metadata": {},
     "output_type": "execute_result"
    }
   ],
   "source": [
    "math.log(10)"
   ]
  },
  {
   "cell_type": "code",
   "execution_count": 3,
   "id": "1eb7b2c6-1a46-4abb-bbe4-1b217b0e7937",
   "metadata": {},
   "outputs": [
    {
     "data": {
      "text/plain": [
       "2.302585092994046"
      ]
     },
     "execution_count": 3,
     "metadata": {},
     "output_type": "execute_result"
    }
   ],
   "source": [
    "math.log(10, math.e)"
   ]
  },
  {
   "cell_type": "code",
   "execution_count": 8,
   "id": "a97228f5-2eb1-4725-8659-9d4bbd9f8853",
   "metadata": {},
   "outputs": [],
   "source": [
    "import cmath"
   ]
  },
  {
   "cell_type": "code",
   "execution_count": 9,
   "id": "ca4f3fec-b618-49e8-aa68-cb19263702be",
   "metadata": {},
   "outputs": [
    {
     "data": {
      "text/plain": [
       "(2.9999999999999996+0j)"
      ]
     },
     "execution_count": 9,
     "metadata": {},
     "output_type": "execute_result"
    }
   ],
   "source": [
    "cmath.log(1000, 10)"
   ]
  },
  {
   "cell_type": "markdown",
   "id": "4ccef4ab-6361-4a2f-880b-1c7bcd612a3f",
   "metadata": {},
   "source": [
    "# Modulus"
   ]
  },
  {
   "cell_type": "code",
   "execution_count": 16,
   "id": "b5c270fe-03c4-40cc-ba37-f06d05ecc45a",
   "metadata": {},
   "outputs": [
    {
     "data": {
      "text/plain": [
       "0.75"
      ]
     },
     "execution_count": 16,
     "metadata": {},
     "output_type": "execute_result"
    }
   ],
   "source": [
    "3 /4"
   ]
  },
  {
   "cell_type": "code",
   "execution_count": 71,
   "id": "da00c5eb-8c18-4ca7-81fc-a529f80b5373",
   "metadata": {},
   "outputs": [
    {
     "data": {
      "text/plain": [
       "3"
      ]
     },
     "execution_count": 71,
     "metadata": {},
     "output_type": "execute_result"
    }
   ],
   "source": [
    "# 3 mod 4 -> (remainder)\n",
    "3 % 4\n"
   ]
  },
  {
   "cell_type": "code",
   "execution_count": 73,
   "id": "1bf6f047-b5cd-4bf5-b9b5-28b8205f6016",
   "metadata": {},
   "outputs": [
    {
     "data": {
      "text/plain": [
       "0"
      ]
     },
     "execution_count": 73,
     "metadata": {},
     "output_type": "execute_result"
    }
   ],
   "source": [
    "3 // 4"
   ]
  },
  {
   "cell_type": "code",
   "execution_count": 25,
   "id": "83848959-a039-41d5-857e-fd60148a2dc4",
   "metadata": {},
   "outputs": [],
   "source": [
    "# Opreator.mode(4,2) remined to do"
   ]
  },
  {
   "cell_type": "code",
   "execution_count": null,
   "id": "d9dd0c1d-0ad0-4afe-b45d-5922a485b8e7",
   "metadata": {},
   "outputs": [],
   "source": []
  },
  {
   "cell_type": "markdown",
   "id": "5145a593-7817-43a2-a49c-9198daec802e",
   "metadata": {},
   "source": [
    "# Logical Operators"
   ]
  },
  {
   "cell_type": "code",
   "execution_count": 27,
   "id": "16b0a784-539a-4d66-b15b-183b6b4a990e",
   "metadata": {},
   "outputs": [],
   "source": [
    "x= True\n",
    "y= False"
   ]
  },
  {
   "cell_type": "code",
   "execution_count": 28,
   "id": "b2895e98-ce9c-41bd-8b64-15778134750a",
   "metadata": {},
   "outputs": [
    {
     "data": {
      "text/plain": [
       "False"
      ]
     },
     "execution_count": 28,
     "metadata": {},
     "output_type": "execute_result"
    }
   ],
   "source": [
    "x and y"
   ]
  },
  {
   "cell_type": "code",
   "execution_count": 29,
   "id": "82684c05-8ca2-4d68-8a64-bf1362922842",
   "metadata": {},
   "outputs": [
    {
     "data": {
      "text/plain": [
       "True"
      ]
     },
     "execution_count": 29,
     "metadata": {},
     "output_type": "execute_result"
    }
   ],
   "source": [
    "x and x "
   ]
  },
  {
   "cell_type": "code",
   "execution_count": 30,
   "id": "4bb06c80-b3d1-4a7a-8521-1847a43adcff",
   "metadata": {},
   "outputs": [
    {
     "data": {
      "text/plain": [
       "False"
      ]
     },
     "execution_count": 30,
     "metadata": {},
     "output_type": "execute_result"
    }
   ],
   "source": [
    "not x"
   ]
  },
  {
   "cell_type": "code",
   "execution_count": 31,
   "id": "c07fce15-a08f-4764-9042-583984408511",
   "metadata": {},
   "outputs": [],
   "source": [
    "p, q=1, 0"
   ]
  },
  {
   "cell_type": "code",
   "execution_count": 32,
   "id": "b2c31b50-8449-4f5b-a8ff-9203aa4cff28",
   "metadata": {},
   "outputs": [
    {
     "data": {
      "text/plain": [
       "0"
      ]
     },
     "execution_count": 32,
     "metadata": {},
     "output_type": "execute_result"
    }
   ],
   "source": [
    "p and q"
   ]
  },
  {
   "cell_type": "code",
   "execution_count": 33,
   "id": "72291f17-676d-4571-a4f8-e862c83c1c4a",
   "metadata": {},
   "outputs": [
    {
     "data": {
      "text/plain": [
       "1"
      ]
     },
     "execution_count": 33,
     "metadata": {},
     "output_type": "execute_result"
    }
   ],
   "source": [
    "p or q"
   ]
  },
  {
   "cell_type": "code",
   "execution_count": 34,
   "id": "93a0c0a8-4b0a-4f04-abf7-7a924c230298",
   "metadata": {},
   "outputs": [
    {
     "data": {
      "text/plain": [
       "True"
      ]
     },
     "execution_count": 34,
     "metadata": {},
     "output_type": "execute_result"
    }
   ],
   "source": [
    "not (y and (x and p or q and y))"
   ]
  },
  {
   "cell_type": "markdown",
   "id": "61a95ab7-a92f-42f7-abd3-fef1fd3d07f5",
   "metadata": {},
   "source": [
    "# Comparion"
   ]
  },
  {
   "cell_type": "code",
   "execution_count": 37,
   "id": "427e4fae-b70d-48aa-942a-af06afb82910",
   "metadata": {},
   "outputs": [],
   "source": [
    "x, y, z= 2, 3, 4"
   ]
  },
  {
   "cell_type": "code",
   "execution_count": 38,
   "id": "51fa5803-06af-4847-bcaf-a39e4a09f9c6",
   "metadata": {},
   "outputs": [
    {
     "data": {
      "text/plain": [
       "True"
      ]
     },
     "execution_count": 38,
     "metadata": {},
     "output_type": "execute_result"
    }
   ],
   "source": [
    "z > x"
   ]
  },
  {
   "cell_type": "code",
   "execution_count": 42,
   "id": "8861f04d-a945-4617-8d9e-3268cc52c8bb",
   "metadata": {},
   "outputs": [
    {
     "data": {
      "text/plain": [
       "False"
      ]
     },
     "execution_count": 42,
     "metadata": {},
     "output_type": "execute_result"
    }
   ],
   "source": [
    "x > z > y"
   ]
  },
  {
   "cell_type": "code",
   "execution_count": 43,
   "id": "b63ee43d-99ca-4b3a-a5eb-e5896f4f7ae4",
   "metadata": {},
   "outputs": [
    {
     "data": {
      "text/plain": [
       "False"
      ]
     },
     "execution_count": 43,
     "metadata": {},
     "output_type": "execute_result"
    }
   ],
   "source": [
    "x == y"
   ]
  },
  {
   "cell_type": "code",
   "execution_count": 44,
   "id": "07064301-dac0-4fec-b9a7-2c7967b83dbd",
   "metadata": {},
   "outputs": [
    {
     "data": {
      "text/plain": [
       "True"
      ]
     },
     "execution_count": 44,
     "metadata": {},
     "output_type": "execute_result"
    }
   ],
   "source": [
    "y is y"
   ]
  },
  {
   "cell_type": "code",
   "execution_count": 45,
   "id": "d41bb381-ab4f-4b47-8502-a5b4c2d70936",
   "metadata": {},
   "outputs": [],
   "source": [
    "a = \"Hello\"\n",
    "b = \"hello world\""
   ]
  },
  {
   "cell_type": "code",
   "execution_count": 46,
   "id": "6398705b-4372-44b5-bd94-e73c15457ccf",
   "metadata": {},
   "outputs": [
    {
     "data": {
      "text/plain": [
       "False"
      ]
     },
     "execution_count": 46,
     "metadata": {},
     "output_type": "execute_result"
    }
   ],
   "source": [
    "a is b"
   ]
  },
  {
   "cell_type": "code",
   "execution_count": 48,
   "id": "67135a68-3091-48a8-8160-ca6a327acea5",
   "metadata": {},
   "outputs": [
    {
     "data": {
      "text/plain": [
       "False"
      ]
     },
     "execution_count": 48,
     "metadata": {},
     "output_type": "execute_result"
    }
   ],
   "source": [
    "a == b[:5]"
   ]
  },
  {
   "cell_type": "code",
   "execution_count": 49,
   "id": "c0d342db-5831-4916-9c24-48ed51a0c94c",
   "metadata": {},
   "outputs": [
    {
     "data": {
      "text/plain": [
       "True"
      ]
     },
     "execution_count": 49,
     "metadata": {},
     "output_type": "execute_result"
    }
   ],
   "source": [
    "x != y"
   ]
  },
  {
   "cell_type": "code",
   "execution_count": 6,
   "id": "53d35fc8-f39a-40f8-b84f-6bf2ca883394",
   "metadata": {},
   "outputs": [],
   "source": [
    "import cmath"
   ]
  },
  {
   "cell_type": "code",
   "execution_count": 7,
   "id": "92180bd8-2680-4616-b8ab-15fd43e0a77e",
   "metadata": {},
   "outputs": [
    {
     "data": {
      "text/plain": [
       "(2+0j)"
      ]
     },
     "execution_count": 7,
     "metadata": {},
     "output_type": "execute_result"
    }
   ],
   "source": [
    "cmath.sqrt(4)"
   ]
  },
  {
   "cell_type": "code",
   "execution_count": null,
   "id": "b010c778-b0dd-4f57-a61b-c9f5b3499b7c",
   "metadata": {},
   "outputs": [],
   "source": [
    "# REVsion"
   ]
  },
  {
   "cell_type": "code",
   "execution_count": 74,
   "id": "3902ddd9-5be2-4ac2-8a0a-ca54cf949153",
   "metadata": {},
   "outputs": [],
   "source": [
    "import math"
   ]
  },
  {
   "cell_type": "code",
   "execution_count": 75,
   "id": "e4b1e9fa-b440-4b80-a14c-05bf80885c4a",
   "metadata": {},
   "outputs": [
    {
     "data": {
      "text/plain": [
       "2.0"
      ]
     },
     "execution_count": 75,
     "metadata": {},
     "output_type": "execute_result"
    }
   ],
   "source": [
    "math.sqrt(4)"
   ]
  },
  {
   "cell_type": "code",
   "execution_count": 76,
   "id": "ce8ed4d9-33a2-46eb-bebf-0888ea87d042",
   "metadata": {},
   "outputs": [
    {
     "name": "stdout",
     "output_type": "stream",
     "text": [
      "6\n"
     ]
    }
   ],
   "source": [
    "a, b= 2, 3\n",
    "d=a*b\n",
    "print(d)"
   ]
  },
  {
   "cell_type": "code",
   "execution_count": 77,
   "id": "2ee99a2a-b126-4ce3-a897-6bbd3620f552",
   "metadata": {},
   "outputs": [
    {
     "data": {
      "text/plain": [
       "6"
      ]
     },
     "execution_count": 77,
     "metadata": {},
     "output_type": "execute_result"
    }
   ],
   "source": [
    "operator.mul(a,b)"
   ]
  },
  {
   "cell_type": "code",
   "execution_count": 78,
   "id": "a6cb73df-63e8-49dd-82bf-c7d150642a69",
   "metadata": {},
   "outputs": [
    {
     "name": "stdout",
     "output_type": "stream",
     "text": [
      "type[6]\n"
     ]
    }
   ],
   "source": [
    "print(type[d])"
   ]
  },
  {
   "cell_type": "code",
   "execution_count": 79,
   "id": "77be8486-736b-4ae9-8454-27a8ddf51b51",
   "metadata": {},
   "outputs": [
    {
     "name": "stdout",
     "output_type": "stream",
     "text": [
      "<class 'int'>\n"
     ]
    }
   ],
   "source": [
    "print(type (d))"
   ]
  },
  {
   "cell_type": "code",
   "execution_count": 1,
   "id": "fa9eea46-13ce-43ff-898c-19ba86be87f9",
   "metadata": {},
   "outputs": [
    {
     "name": "stdout",
     "output_type": "stream",
     "text": [
      "25.0\n"
     ]
    }
   ],
   "source": [
    "x =int(input(\"Enter an intiger : \"))\n",
    "y = float(input(\"Enter Float : \"))\n",
    "z = x * y\n",
    "print(z)"
   ]
  },
  {
   "cell_type": "markdown",
   "id": "b779bbdf-c25b-4f41-b6ec-0b4e4c1f1d9a",
   "metadata": {},
   "source": [
    "### Conditional if"
   ]
  },
  {
   "cell_type": "code",
   "execution_count": 103,
   "id": "e4c1ae54-4184-4ea3-918e-796ef3552ab9",
   "metadata": {},
   "outputs": [
    {
     "name": "stdout",
     "output_type": "stream",
     "text": [
      "b is greater than b.\n"
     ]
    }
   ],
   "source": [
    "a = 33\n",
    "b = 200\n",
    "if b > a:\n",
    " print(\"b is greater than b.\") # this is indentation sensative"
   ]
  },
  {
   "cell_type": "markdown",
   "id": "bd3e737f-c6f2-4462-959b-f4085d04509c",
   "metadata": {},
   "source": [
    "### Conditional elif"
   ]
  },
  {
   "cell_type": "code",
   "execution_count": 110,
   "id": "3419f82d-3e90-43da-835d-36eea88840b0",
   "metadata": {},
   "outputs": [
    {
     "name": "stdout",
     "output_type": "stream",
     "text": [
      "a is greater than b.\n"
     ]
    }
   ],
   "source": [
    "a = 10\n",
    "b = 13\n",
    "if a == b:\n",
    " print(\"a is equal to b.\")\n",
    "elif a > b:\n",
    " print(\"b is greater than a.\")\n",
    "else :\n",
    " print(\"a is greater than b.\")"
   ]
  },
  {
   "cell_type": "code",
   "execution_count": 111,
   "id": "fa6591da-f958-41b6-b13c-097506d1e5fb",
   "metadata": {},
   "outputs": [
    {
     "name": "stdout",
     "output_type": "stream",
     "text": [
      "A\n"
     ]
    }
   ],
   "source": [
    "a = 300\n",
    "b = 200\n",
    "print (\"A\") if a > b else print(\"B\")"
   ]
  },
  {
   "cell_type": "code",
   "execution_count": 112,
   "id": "9c2b7ceb-5e43-431b-b2db-46e50aea5fa3",
   "metadata": {},
   "outputs": [
    {
     "name": "stdout",
     "output_type": "stream",
     "text": [
      "B\n"
     ]
    }
   ],
   "source": [
    "a = 300\n",
    "b = 200\n",
    "print (\"A\") if a < b else print(\"B\")"
   ]
  },
  {
   "cell_type": "code",
   "execution_count": 116,
   "id": "6a261040-adae-45fe-acc9-123c4413e235",
   "metadata": {},
   "outputs": [
    {
     "name": "stdout",
     "output_type": "stream",
     "text": [
      "a is less than a\n"
     ]
    }
   ],
   "source": [
    "a = 2\n",
    "b = 3\n",
    "if a < b: print(\"a is less than a\")"
   ]
  },
  {
   "cell_type": "code",
   "execution_count": 117,
   "id": "4f251c02-644f-4f6b-b56d-3bdaa8a7662d",
   "metadata": {},
   "outputs": [],
   "source": [
    "### 3 condition"
   ]
  },
  {
   "cell_type": "code",
   "execution_count": 121,
   "id": "ca6acbb7-d415-4d9a-8a44-79f36fff2cac",
   "metadata": {},
   "outputs": [
    {
     "name": "stdout",
     "output_type": "stream",
     "text": [
      "B\n"
     ]
    }
   ],
   "source": [
    "a = 301\n",
    "b = 305\n",
    "print(\"A\") if a > b else print(\"=\") if a == b else print(\"B\")"
   ]
  },
  {
   "cell_type": "markdown",
   "id": "341cdcd0-a12b-4ba9-b6d4-4c2482d7a223",
   "metadata": {},
   "source": [
    "### And"
   ]
  },
  {
   "cell_type": "code",
   "execution_count": 122,
   "id": "720d9b0c-92a1-4ff3-a910-baa285223d08",
   "metadata": {},
   "outputs": [
    {
     "name": "stdout",
     "output_type": "stream",
     "text": [
      "Both conditions are true.\n"
     ]
    }
   ],
   "source": [
    "a = 200\n",
    "b = 33\n",
    "c = 500\n",
    "if a > b and c > a:\n",
    "    print(\"Both conditions are true.\")"
   ]
  },
  {
   "cell_type": "code",
   "execution_count": null,
   "id": "5dcf4b04-e8b0-450f-a2ed-23d2ceced523",
   "metadata": {},
   "outputs": [],
   "source": []
  },
  {
   "cell_type": "code",
   "execution_count": 123,
   "id": "36594a38-f9ff-413b-961d-8ccffebdaebc",
   "metadata": {},
   "outputs": [
    {
     "name": "stdout",
     "output_type": "stream",
     "text": [
      "atleast one condition is true\n"
     ]
    }
   ],
   "source": [
    "a = 200\n",
    "b = 33\n",
    "c = 500\n",
    "if a > b or c < a:\n",
    "    print(\"atleast one condition is true\")"
   ]
  },
  {
   "cell_type": "code",
   "execution_count": null,
   "id": "a3d725e1-fc51-4100-9ea8-075c2624d448",
   "metadata": {},
   "outputs": [],
   "source": [
    "# Not"
   ]
  },
  {
   "cell_type": "code",
   "execution_count": 124,
   "id": "d50c7288-348a-416a-b86f-392e5b0fe8cc",
   "metadata": {},
   "outputs": [
    {
     "name": "stdout",
     "output_type": "stream",
     "text": [
      "A is not greater than b.\n"
     ]
    }
   ],
   "source": [
    "a = 1\n",
    "b = 33\n",
    "if not a > b:\n",
    "    print(\"A is not greater than b.\")"
   ]
  },
  {
   "cell_type": "code",
   "execution_count": 125,
   "id": "32b5c403-68d2-4614-b720-84fe7e149911",
   "metadata": {},
   "outputs": [],
   "source": [
    "# Nested If"
   ]
  },
  {
   "cell_type": "code",
   "execution_count": 129,
   "id": "c2f4a888-0442-4d2b-91d8-ca951cb754c6",
   "metadata": {},
   "outputs": [
    {
     "name": "stdout",
     "output_type": "stream",
     "text": [
      "but not above 90!\n"
     ]
    }
   ],
   "source": [
    "x = 10\n",
    "if x > 10:\n",
    " print(\"X is above 10!\")\n",
    "if x > 20:\n",
    " print(\"X is above 20!\")\n",
    "else:\n",
    " print(\"but not above 90!\")\n",
    "    "
   ]
  },
  {
   "cell_type": "code",
   "execution_count": 131,
   "id": "ecd72731-5d31-4635-b7e1-c21f37ec3403",
   "metadata": {},
   "outputs": [],
   "source": [
    "a = 100\n",
    "b = 120\n",
    "if b < a:\n",
    "    pass"
   ]
  },
  {
   "cell_type": "code",
   "execution_count": 132,
   "id": "ff6dd372-a324-45e1-9aa7-b5b50c235685",
   "metadata": {},
   "outputs": [
    {
     "name": "stdout",
     "output_type": "stream",
     "text": [
      "Python is awesome\n"
     ]
    }
   ],
   "source": [
    "x = \"awesome\"\n",
    "print(\"Python is \" + x)"
   ]
  },
  {
   "cell_type": "markdown",
   "id": "454acb98-2ed4-49ec-a76b-c3a0861d65fd",
   "metadata": {},
   "source": [
    "### Loop"
   ]
  },
  {
   "cell_type": "code",
   "execution_count": 133,
   "id": "91c263d1-3579-4046-b7ee-371422c8586d",
   "metadata": {},
   "outputs": [
    {
     "name": "stdout",
     "output_type": "stream",
     "text": [
      "1\n",
      "2\n",
      "3\n",
      "4\n"
     ]
    }
   ],
   "source": [
    "n = 1\n",
    "while n < 5:\n",
    "    print(n)\n",
    "    n = n + 1\n",
    "    "
   ]
  },
  {
   "cell_type": "code",
   "execution_count": 141,
   "id": "1b9992bd-f9d2-494d-8638-4188a4494481",
   "metadata": {
    "scrolled": true
   },
   "outputs": [
    {
     "name": "stdout",
     "output_type": "stream",
     "text": [
      "This index is :4\n",
      "This index is :5\n",
      "This index is :2\n",
      "This index is :9\n",
      "This index is :Ram\n",
      "This index is :hari\n",
      "This index is :23\n"
     ]
    }
   ],
   "source": [
    "x = [4, 5, 2, 9, \"Ram\", \"hari\", 23]\n",
    "total = len(x)\n",
    "indx = 0\n",
    "while indx < total:\n",
    "    print(\"This index is :\" + str(x[indx]))\n",
    "    indx += 1\n",
    "    \n",
    "\n"
   ]
  },
  {
   "cell_type": "code",
   "execution_count": null,
   "id": "8424eaf0-9dce-4bd9-b1c2-8ab651e77266",
   "metadata": {},
   "outputs": [],
   "source": []
  },
  {
   "cell_type": "code",
   "execution_count": 143,
   "id": "14ba16a4-c076-464a-b2a8-5f3da7e01d0f",
   "metadata": {},
   "outputs": [
    {
     "name": "stdout",
     "output_type": "stream",
     "text": [
      "Shyam\n",
      "Ram\n",
      "hari\n",
      "23\n"
     ]
    }
   ],
   "source": [
    "numstr = [\"Shyam\", \"Ram\", \"hari\", 23]\n",
    "for x in numstr:\n",
    " print(x)"
   ]
  },
  {
   "cell_type": "code",
   "execution_count": 144,
   "id": "cd72f611-4dfb-4186-8459-127ccbbbd6e0",
   "metadata": {},
   "outputs": [
    {
     "name": "stdout",
     "output_type": "stream",
     "text": [
      "1\n",
      "5\n",
      "3\n",
      "8\n",
      "Hari\n",
      "45\n"
     ]
    }
   ],
   "source": [
    "fruits = (1, 5, 3, 8, \"Hari\", 45)\n",
    "for x in fruits:\n",
    "    print(x)"
   ]
  },
  {
   "cell_type": "code",
   "execution_count": null,
   "id": "05170813-e12c-4568-a5a0-9e51fa625da7",
   "metadata": {},
   "outputs": [
    {
     "name": "stdout",
     "output_type": "stream",
     "text": [
      "banana\n",
      "apple\n",
      "guava\n",
      "grape\n",
      "mango\n",
      "apple\n",
      "apple\n",
      "apple\n"
     ]
    }
   ],
   "source": [
    "fruits = [\"banana\", \"apple\", \"guava\", \"grape\", \"mango\", \"apple\", \"banana\", \"guava\", \"apple\", \"apple\"]\n",
    "for x in fruits :\n",
    "    print(x)\n",
    "    if x == \"orange\":\n",
    "        continue"
   ]
  },
  {
   "cell_type": "code",
   "execution_count": 40,
   "id": "e7c4857b",
   "metadata": {},
   "outputs": [
    {
     "name": "stdout",
     "output_type": "stream",
     "text": [
      "banana = 2\n",
      "apple = 4\n",
      "guava = 2\n",
      "grape = 1\n",
      "mango = 1\n"
     ]
    }
   ],
   "source": [
    "#from collections import Counter\n",
    "\n",
    "fruits = [\"banana\", \"apple\", \"guava\", \"grape\", \"mango\", \"apple\", \"banana\", \"guava\", \"apple\", \"apple\"]\n",
    "\n",
    "# Count occurrences\n",
    "fruit_count = Counter(fruits)\n",
    "\n",
    "# Print each fruit and its count separately\n",
    "for fruit, count in fruit_count.items():\n",
    "    print(f\"{fruit} = {count}\")\n",
    "\n"
   ]
  },
  {
   "cell_type": "code",
   "execution_count": 12,
   "id": "4a6f1755-32b5-4a52-83f8-8ce16dac4e72",
   "metadata": {},
   "outputs": [
    {
     "name": "stdout",
     "output_type": "stream",
     "text": [
      "banana\n",
      "apple\n"
     ]
    }
   ],
   "source": [
    "fruits = [\"banana\", \"apple\", \"guava\", \"orange\", \"mango\"]\n",
    "for x in fruits :\n",
    "    print(x)\n",
    "    if x == \"apple\":\n",
    "        break\n",
    "        print(x)"
   ]
  },
  {
   "cell_type": "code",
   "execution_count": 36,
   "id": "0e5125f5-0fb7-4dac-80a0-ab969e606e7d",
   "metadata": {},
   "outputs": [
    {
     "name": "stdout",
     "output_type": "stream",
     "text": [
      "banana\n",
      "apple\n"
     ]
    }
   ],
   "source": [
    "fruits = [\"banana\", \"apple\", \"guava\", \"orange\", \"mango\"]\n",
    "for x in fruits :\n",
    "    print(x)\n",
    "    if x == \"apple\":\n",
    "        break\n",
    "        print(x)"
   ]
  },
  {
   "cell_type": "code",
   "execution_count": 14,
   "id": "b8f5cd06-326d-49b4-bc06-870cda14120a",
   "metadata": {},
   "outputs": [
    {
     "name": "stdout",
     "output_type": "stream",
     "text": [
      "0\n",
      "1\n",
      "2\n",
      "3\n",
      "4\n",
      "5\n"
     ]
    }
   ],
   "source": [
    "for x in range(6):\n",
    "    print(x)"
   ]
  },
  {
   "cell_type": "code",
   "execution_count": 35,
   "id": "11532276-55f9-477d-a644-cf9dc5fc5d06",
   "metadata": {},
   "outputs": [
    {
     "name": "stdout",
     "output_type": "stream",
     "text": [
      "1\n",
      "6\n",
      "11\n",
      "16\n"
     ]
    }
   ],
   "source": [
    "for x in range(1, 20, 5):\n",
    "    print(x)"
   ]
  },
  {
   "cell_type": "code",
   "execution_count": 10,
   "id": "47e3f947-987c-4957-8554-0996b46a2d38",
   "metadata": {},
   "outputs": [
    {
     "name": "stdout",
     "output_type": "stream",
     "text": [
      "5\n",
      "7\n",
      "9\n",
      "11\n",
      "13\n",
      "15\n",
      "17\n",
      "19\n"
     ]
    }
   ],
   "source": [
    "for x in range(5, 20, 2):\n",
    "    print(x)"
   ]
  },
  {
   "cell_type": "code",
   "execution_count": 34,
   "id": "1608664e-7b70-429d-898c-27ebbedff5e6",
   "metadata": {},
   "outputs": [
    {
     "name": "stdout",
     "output_type": "stream",
     "text": [
      "0\n",
      "1\n",
      "2\n",
      "3\n",
      "4\n",
      "5\n",
      "6\n"
     ]
    }
   ],
   "source": [
    "for x in range(7):\n",
    "    print(x)\n",
    "    "
   ]
  },
  {
   "cell_type": "code",
   "execution_count": 33,
   "id": "6ff12d5a-73ed-4e90-b573-ba095865786b",
   "metadata": {},
   "outputs": [
    {
     "name": "stdout",
     "output_type": "stream",
     "text": [
      "0\n",
      "1\n",
      "2\n",
      "3\n",
      "0\n",
      "1\n",
      "2\n",
      "3\n",
      "This is fourth item, skiped and continued:\n",
      "5\n"
     ]
    }
   ],
   "source": [
    "for x in range(6):\n",
    "    if(x == 4):\n",
    "        for y in range(4):\n",
    "            print(y)\n",
    "        print(\"This is fourth item, skiped and continued:\")\n",
    "        continue\n",
    "    print(x)\n",
    "    "
   ]
  },
  {
   "cell_type": "code",
   "execution_count": null,
   "id": "779b4053-24a2-458e-bcf8-b21dad3e747d",
   "metadata": {},
   "outputs": [],
   "source": []
  }
 ],
 "metadata": {
  "kernelspec": {
   "display_name": "Python 3",
   "language": "python",
   "name": "python3"
  },
  "language_info": {
   "codemirror_mode": {
    "name": "ipython",
    "version": 3
   },
   "file_extension": ".py",
   "mimetype": "text/x-python",
   "name": "python",
   "nbconvert_exporter": "python",
   "pygments_lexer": "ipython3",
   "version": "3.13.3"
  }
 },
 "nbformat": 4,
 "nbformat_minor": 5
}
