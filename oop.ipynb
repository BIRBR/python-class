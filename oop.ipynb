{
 "cells": [
  {
   "cell_type": "markdown",
   "id": "9dddc563",
   "metadata": {},
   "source": [
    "# OOP"
   ]
  },
  {
   "cell_type": "markdown",
   "id": "19bd194a",
   "metadata": {},
   "source": []
  },
  {
   "cell_type": "markdown",
   "id": "5a1bb2bf",
   "metadata": {},
   "source": [
    "# why oops"
   ]
  },
  {
   "cell_type": "markdown",
   "id": "a451c617",
   "metadata": {},
   "source": [
    "modularity\n",
    "code reuse\n",
    "real world modeling\n",
    "maintainbilty\n",
    "\n",
    "Magic method\n",
    "__init__\n",
    "__str__\n",
    "_add__\n",
    "__del__\n",
    "~~ "
   ]
  },
  {
   "cell_type": "markdown",
   "id": "814e5f4c",
   "metadata": {},
   "source": []
  },
  {
   "cell_type": "code",
   "execution_count": 7,
   "id": "3c73fa7c",
   "metadata": {},
   "outputs": [
    {
     "name": "stdout",
     "output_type": "stream",
     "text": [
      "Hello, World!\n"
     ]
    }
   ],
   "source": [
    "# Empty class\n",
    "# class Person:\n",
    "    # ass\n",
    "# class with method\n",
    "class Person:\n",
    "    def say_hello(self):\n",
    "        print(\"Hello, World!\")\n",
    "# creating object\n",
    "p=Person()\n",
    "p.say_hello()"
   ]
  },
  {
   "cell_type": "code",
   "execution_count": null,
   "id": "01003b61",
   "metadata": {},
   "outputs": [],
   "source": []
  },
  {
   "cell_type": "code",
   "execution_count": 11,
   "id": "23fbd59e",
   "metadata": {},
   "outputs": [
    {
     "name": "stdout",
     "output_type": "stream",
     "text": [
      "Hello, {self.name}\n",
      "<__main__.Person object at 0x00000204EEFD9160>\n",
      "<class '__main__.Person'>\n",
      "None\n"
     ]
    }
   ],
   "source": [
    "#class with method and attribute\n",
    "class Person:\n",
    "    name = \"Sita\"\n",
    "\n",
    "    def say_hello(self):\n",
    "        print(\"Hello, {self.name}\")\n",
    "# creating object\n",
    "p=Person()\n",
    "p.say_hello()\n",
    "print(p)\n",
    "print(p.__class__)\n",
    "print(p.__doc__)"
   ]
  },
  {
   "cell_type": "markdown",
   "id": "4be10b0f",
   "metadata": {},
   "source": [
    "# constructor/distructor"
   ]
  },
  {
   "cell_type": "markdown",
   "id": "97a8ed1c",
   "metadata": {},
   "source": [
    "# "
   ]
  },
  {
   "cell_type": "code",
   "execution_count": null,
   "id": "592d4d3c",
   "metadata": {},
   "outputs": [],
   "source": []
  },
  {
   "cell_type": "code",
   "execution_count": 1,
   "id": "d8f8af93",
   "metadata": {},
   "outputs": [
    {
     "name": "stdout",
     "output_type": "stream",
     "text": [
      "Buddy\n",
      "Canine\n"
     ]
    }
   ],
   "source": [
    "class Dog:\n",
    "    species = \"Canine\"  # Class attribute\n",
    "\n",
    "    def __init__(self, name, age):\n",
    "        self.name = name  # Instance attribute\n",
    "        self.age = age  # Instance attribute\n",
    "\n",
    "# Creating an object of the Dog class\n",
    "dog1 = Dog(\"Buddy\", 3)\n",
    "\n",
    "print(dog1.name) \n",
    "print(dog1.species)"
   ]
  },
  {
   "cell_type": "code",
   "execution_count": null,
   "id": "285bbc8d",
   "metadata": {},
   "outputs": [],
   "source": []
  }
 ],
 "metadata": {
  "kernelspec": {
   "display_name": "Python 3",
   "language": "python",
   "name": "python3"
  },
  "language_info": {
   "codemirror_mode": {
    "name": "ipython",
    "version": 3
   },
   "file_extension": ".py",
   "mimetype": "text/x-python",
   "name": "python",
   "nbconvert_exporter": "python",
   "pygments_lexer": "ipython3",
   "version": "3.13.3"
  }
 },
 "nbformat": 4,
 "nbformat_minor": 5
}
