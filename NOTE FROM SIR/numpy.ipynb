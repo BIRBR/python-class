{
 "cells": [
  {
   "cell_type": "markdown",
   "id": "c8cc406f-9e4f-4e10-9dda-0baf82dea79e",
   "metadata": {},
   "source": [
    "# Working with NumPy"
   ]
  },
  {
   "cell_type": "code",
   "execution_count": 1,
   "id": "8ed3ad6b-f399-4297-aacb-a6adf1592fa4",
   "metadata": {},
   "outputs": [],
   "source": [
    "import numpy as np"
   ]
  },
  {
   "cell_type": "code",
   "execution_count": 2,
   "id": "6f5bbdc0-aaeb-413a-a34e-8ad13e51a7e3",
   "metadata": {},
   "outputs": [],
   "source": [
    "arr = np.array([1, 3, 4, 5, 6])"
   ]
  },
  {
   "cell_type": "code",
   "execution_count": 3,
   "id": "3fd91073-d712-42c7-ae66-a8e4079c3754",
   "metadata": {},
   "outputs": [
    {
     "data": {
      "text/plain": [
       "array([1, 3, 4, 5, 6])"
      ]
     },
     "execution_count": 3,
     "metadata": {},
     "output_type": "execute_result"
    }
   ],
   "source": [
    "arr"
   ]
  },
  {
   "cell_type": "code",
   "execution_count": 4,
   "id": "a3785387-ff66-4c3a-bc4f-162e53151149",
   "metadata": {},
   "outputs": [
    {
     "name": "stdout",
     "output_type": "stream",
     "text": [
      "[1 3 4 5 6]\n"
     ]
    }
   ],
   "source": [
    "print(arr)"
   ]
  },
  {
   "cell_type": "code",
   "execution_count": 5,
   "id": "59feb278-21d1-48c2-aa21-90ad6049c79f",
   "metadata": {},
   "outputs": [
    {
     "data": {
      "text/plain": [
       "array([[1, 2, 3],\n",
       "       [4, 5, 6]])"
      ]
     },
     "execution_count": 5,
     "metadata": {},
     "output_type": "execute_result"
    }
   ],
   "source": [
    "arr_2d = np.array([[1, 2, 3], [4, 5, 6]])\n",
    "arr_2d"
   ]
  },
  {
   "cell_type": "code",
   "execution_count": 6,
   "id": "6c373f2e-5a8e-4292-bc88-94671779ff28",
   "metadata": {},
   "outputs": [
    {
     "name": "stdout",
     "output_type": "stream",
     "text": [
      "[[1 2 3]\n",
      " [4 5 6]]\n"
     ]
    }
   ],
   "source": [
    "print(arr_2d)"
   ]
  },
  {
   "cell_type": "code",
   "execution_count": 7,
   "id": "eab7b1ea-0e35-436e-ad48-b9c06783c462",
   "metadata": {},
   "outputs": [],
   "source": [
    "arr_3d = np.array([[[1, 2], [3, 4]], [[4, 5], [5, 6]]])"
   ]
  },
  {
   "cell_type": "code",
   "execution_count": 8,
   "id": "d27a8638-666c-498e-853a-19b5c439ffba",
   "metadata": {},
   "outputs": [
    {
     "name": "stdout",
     "output_type": "stream",
     "text": [
      "[[[1 2]\n",
      "  [3 4]]\n",
      "\n",
      " [[4 5]\n",
      "  [5 6]]]\n"
     ]
    }
   ],
   "source": [
    "print(arr_3d)"
   ]
  },
  {
   "cell_type": "code",
   "execution_count": 9,
   "id": "0695c58a-cf0e-44a0-ae94-b7680165530b",
   "metadata": {},
   "outputs": [
    {
     "data": {
      "text/plain": [
       "(2, 3)"
      ]
     },
     "execution_count": 9,
     "metadata": {},
     "output_type": "execute_result"
    }
   ],
   "source": [
    "arr_2d.shape"
   ]
  },
  {
   "cell_type": "code",
   "execution_count": 10,
   "id": "7ec8c760-923a-4a2b-88aa-e136a4f03d0d",
   "metadata": {},
   "outputs": [
    {
     "data": {
      "text/plain": [
       "6"
      ]
     },
     "execution_count": 10,
     "metadata": {},
     "output_type": "execute_result"
    }
   ],
   "source": [
    "arr_2d.size"
   ]
  },
  {
   "cell_type": "code",
   "execution_count": 11,
   "id": "63815342-3281-4ae3-b17b-551314747620",
   "metadata": {},
   "outputs": [
    {
     "data": {
      "text/plain": [
       "(2, 2, 2)"
      ]
     },
     "execution_count": 11,
     "metadata": {},
     "output_type": "execute_result"
    }
   ],
   "source": [
    "arr_3d.shape"
   ]
  },
  {
   "cell_type": "code",
   "execution_count": 12,
   "id": "d12ae80d-ceaa-4d6d-9394-5108f107abde",
   "metadata": {},
   "outputs": [
    {
     "data": {
      "text/plain": [
       "dtype('int64')"
      ]
     },
     "execution_count": 12,
     "metadata": {},
     "output_type": "execute_result"
    }
   ],
   "source": [
    "arr_3d.dtype"
   ]
  },
  {
   "cell_type": "code",
   "execution_count": 14,
   "id": "bce22452-0b53-45a0-baa5-d46acf88775e",
   "metadata": {},
   "outputs": [
    {
     "name": "stdout",
     "output_type": "stream",
     "text": [
      "[3 4 5]\n",
      "5\n"
     ]
    }
   ],
   "source": [
    "# Slicing and Indexing\n",
    "\n",
    "new_arr = arr[1:4]\n",
    "print(new_arr)\n",
    "\n",
    "ele = arr_2d[1][1]\n",
    "print(ele)"
   ]
  },
  {
   "cell_type": "markdown",
   "id": "8f07bdfc-6b3b-4abf-842a-4533ac7063de",
   "metadata": {},
   "source": [
    "## Array operations"
   ]
  },
  {
   "cell_type": "code",
   "execution_count": 22,
   "id": "a7e4e4a3-7621-4f29-bc1c-f1d400a1cfb3",
   "metadata": {},
   "outputs": [],
   "source": [
    "arr1 = np.array([1, 2, 3])\n",
    "arr2 = np.array([4, 5, 6])"
   ]
  },
  {
   "cell_type": "code",
   "execution_count": 23,
   "id": "8c48d59a-6c83-432e-9868-755ac2359cfb",
   "metadata": {},
   "outputs": [
    {
     "name": "stdout",
     "output_type": "stream",
     "text": [
      "[5 7 9]\n"
     ]
    }
   ],
   "source": [
    "arr_sum = arr1 + arr2\n",
    "print(arr_sum)"
   ]
  },
  {
   "cell_type": "code",
   "execution_count": 24,
   "id": "0418fd8b-3c00-4b46-8ee5-846060394fbc",
   "metadata": {},
   "outputs": [
    {
     "name": "stdout",
     "output_type": "stream",
     "text": [
      "[ 4 10 18]\n"
     ]
    }
   ],
   "source": [
    "arr_mul = arr1 * arr2\n",
    "print(arr_mul)"
   ]
  },
  {
   "cell_type": "code",
   "execution_count": 26,
   "id": "c24337ec-eddd-4a25-a90e-06099461f023",
   "metadata": {},
   "outputs": [
    {
     "name": "stdout",
     "output_type": "stream",
     "text": [
      "[ 5 10 15]\n"
     ]
    }
   ],
   "source": [
    "print(arr1 * 5)"
   ]
  },
  {
   "cell_type": "code",
   "execution_count": 27,
   "id": "e32ab5f9-0945-4c6f-a6e9-a69fb4675a7e",
   "metadata": {},
   "outputs": [
    {
     "name": "stdout",
     "output_type": "stream",
     "text": [
      "[6 7 8]\n"
     ]
    }
   ],
   "source": [
    "print(arr1 + 5)"
   ]
  },
  {
   "cell_type": "markdown",
   "id": "18d1574d-aae9-4fa8-acc7-b6e322599e9c",
   "metadata": {},
   "source": [
    "## Matrix calcultion"
   ]
  },
  {
   "cell_type": "code",
   "execution_count": 28,
   "id": "1a7975c4-f870-4fb4-a972-154a373e6d7c",
   "metadata": {},
   "outputs": [],
   "source": [
    "mat1 = np.array([[1, 2], [3, 4]])\n",
    "mat2 = np.array([[2, 3], [4, 5]])"
   ]
  },
  {
   "cell_type": "code",
   "execution_count": 31,
   "id": "02d1dca6-66dc-45ed-bd2a-65559b9bad09",
   "metadata": {},
   "outputs": [
    {
     "name": "stdout",
     "output_type": "stream",
     "text": [
      "First Matrix:\n",
      "[[1 2]\n",
      " [3 4]]\n",
      "Second Matrix:\n",
      "[[2 3]\n",
      " [4 5]]\n"
     ]
    }
   ],
   "source": [
    "print(f\"First Matrix:\\n{mat1}\")\n",
    "print(f\"Second Matrix:\\n{mat2}\")"
   ]
  },
  {
   "cell_type": "code",
   "execution_count": 33,
   "id": "23d4e576-c9dd-4905-9a99-b91ed3c56d43",
   "metadata": {},
   "outputs": [
    {
     "name": "stdout",
     "output_type": "stream",
     "text": [
      "[[3 5]\n",
      " [7 9]]\n"
     ]
    }
   ],
   "source": [
    "# Addition\n",
    "mat_add = mat1 + mat2\n",
    "print(mat_add)"
   ]
  },
  {
   "cell_type": "code",
   "execution_count": 34,
   "id": "9c4209d0-ac8a-4795-9438-8ba93f3e5fb5",
   "metadata": {},
   "outputs": [
    {
     "name": "stdout",
     "output_type": "stream",
     "text": [
      "[[-1 -1]\n",
      " [-1 -1]]\n"
     ]
    }
   ],
   "source": [
    "# Subtraction\n",
    "mat_sub = mat1 - mat2\n",
    "print(mat_sub)"
   ]
  },
  {
   "cell_type": "code",
   "execution_count": 35,
   "id": "979f4756-b4d9-47eb-9561-dd8501959e9e",
   "metadata": {},
   "outputs": [
    {
     "name": "stdout",
     "output_type": "stream",
     "text": [
      "[[ 3  6]\n",
      " [ 9 12]]\n"
     ]
    }
   ],
   "source": [
    "print(mat1 * 3)"
   ]
  },
  {
   "cell_type": "code",
   "execution_count": 36,
   "id": "ed135147-b92e-4d08-bfbf-4738e9220178",
   "metadata": {},
   "outputs": [
    {
     "name": "stdout",
     "output_type": "stream",
     "text": [
      "[[ 2  6]\n",
      " [12 20]]\n"
     ]
    }
   ],
   "source": [
    "mat_mul = mat1 * mat2\n",
    "print(mat_mul)"
   ]
  },
  {
   "cell_type": "code",
   "execution_count": 37,
   "id": "91788f74-691a-46bc-95ba-256683307e21",
   "metadata": {},
   "outputs": [
    {
     "name": "stdout",
     "output_type": "stream",
     "text": [
      "[[10 13]\n",
      " [22 29]]\n"
     ]
    }
   ],
   "source": [
    "mat_mul = mat1 @ mat2\n",
    "print(mat_mul)"
   ]
  },
  {
   "cell_type": "code",
   "execution_count": 38,
   "id": "2422c440-7e9e-47c0-8c0c-b15e47e30199",
   "metadata": {},
   "outputs": [
    {
     "name": "stdout",
     "output_type": "stream",
     "text": [
      "[[10 13]\n",
      " [22 29]]\n"
     ]
    }
   ],
   "source": [
    "print(np.dot(mat1, mat2))"
   ]
  },
  {
   "cell_type": "code",
   "execution_count": 39,
   "id": "46a59f26-7508-43a6-88b5-f29d6d29e42c",
   "metadata": {},
   "outputs": [
    {
     "name": "stdout",
     "output_type": "stream",
     "text": [
      "[[10 22]\n",
      " [13 29]]\n"
     ]
    }
   ],
   "source": [
    "# Transpose\n",
    "print(mat_mul.T)"
   ]
  },
  {
   "cell_type": "code",
   "execution_count": 40,
   "id": "106ca5e3-c8ca-4686-ac79-2dc72ac63d49",
   "metadata": {},
   "outputs": [
    {
     "name": "stdout",
     "output_type": "stream",
     "text": [
      "[[ 7.25 -3.25]\n",
      " [-5.5   2.5 ]]\n"
     ]
    }
   ],
   "source": [
    "print(np.linalg.inv(mat_mul))"
   ]
  },
  {
   "cell_type": "code",
   "execution_count": 42,
   "id": "a4fa3d58-22a2-4f59-81ce-9f3ea65bfbf5",
   "metadata": {},
   "outputs": [
    {
     "name": "stdout",
     "output_type": "stream",
     "text": [
      "-2.0000000000000004\n"
     ]
    }
   ],
   "source": [
    "print(np.linalg.det(mat1))"
   ]
  },
  {
   "cell_type": "code",
   "execution_count": 43,
   "id": "6036244f-73f1-48dc-a578-f21e16f60715",
   "metadata": {},
   "outputs": [
    {
     "name": "stdout",
     "output_type": "stream",
     "text": [
      "EigResult(eigenvalues=array([-0.37228132,  5.37228132]), eigenvectors=array([[-0.82456484, -0.41597356],\n",
      "       [ 0.56576746, -0.90937671]]))\n"
     ]
    }
   ],
   "source": [
    "print(np.linalg.eig(mat1))"
   ]
  },
  {
   "cell_type": "markdown",
   "id": "a3a3cd3c-9854-48ce-8e06-568034ec1dc2",
   "metadata": {},
   "source": [
    "## Vector calculation"
   ]
  },
  {
   "cell_type": "code",
   "execution_count": 45,
   "id": "34437ef5-f510-46fb-860b-f4000d52e66d",
   "metadata": {},
   "outputs": [
    {
     "name": "stdout",
     "output_type": "stream",
     "text": [
      "v1 = [1 2 3]\n",
      "v2 = [3 4 5]\n"
     ]
    }
   ],
   "source": [
    "v1 = np.array([1, 2, 3])\n",
    "v2 = np.array([3, 4, 5])\n",
    "print(\"v1 =\", v1)\n",
    "print(\"v2 =\", v2)"
   ]
  },
  {
   "cell_type": "code",
   "execution_count": 47,
   "id": "57d0df43-68a6-4225-b014-cac8480200eb",
   "metadata": {},
   "outputs": [
    {
     "name": "stdout",
     "output_type": "stream",
     "text": [
      "26\n"
     ]
    }
   ],
   "source": [
    "dot_product = np.dot(v1, v2)\n",
    "print(dot_product)"
   ]
  },
  {
   "cell_type": "code",
   "execution_count": 49,
   "id": "52cabe8e-2bd1-4e11-b913-6d3dcaba9f02",
   "metadata": {},
   "outputs": [
    {
     "name": "stdout",
     "output_type": "stream",
     "text": [
      "26\n"
     ]
    }
   ],
   "source": [
    "print(v1 @ v2)"
   ]
  },
  {
   "cell_type": "code",
   "execution_count": 50,
   "id": "58cb8257-fb5e-42a2-a57d-30fdc1e0f1a0",
   "metadata": {},
   "outputs": [
    {
     "name": "stdout",
     "output_type": "stream",
     "text": [
      "[-2  4 -2]\n"
     ]
    }
   ],
   "source": [
    "cross_product = np.cross(v1, v2)\n",
    "print(cross_product)"
   ]
  },
  {
   "cell_type": "markdown",
   "id": "c0f543b4-613e-481c-b3a3-ea1c9c863c87",
   "metadata": {},
   "source": [
    "```\n",
    "i j k\n",
    "1 2 3\n",
    "3 4 5\n",
    "\n",
    "i (10-12) -j (5-9) + k (4-6)\n",
    "-2i+4j-2k\n",
    "[-2 4 -2]\n",
    "```"
   ]
  },
  {
   "cell_type": "markdown",
   "id": "2a966f2c-6563-4ffb-8d1d-b71afe9d01b1",
   "metadata": {},
   "source": [
    "## solve linear equaltion\n",
    "```\n",
    "2x + y = 5\n",
    "x + y = 3\n",
    "----------\n",
    "x = 2\n",
    "y = 1\n",
    "```"
   ]
  },
  {
   "cell_type": "code",
   "execution_count": 52,
   "id": "d0432350-46c2-4544-adc1-0f93f2ed98ae",
   "metadata": {},
   "outputs": [],
   "source": [
    "# A * X = B\n",
    "# X = (A inv) B"
   ]
  },
  {
   "cell_type": "code",
   "execution_count": 56,
   "id": "bca03df8-06fe-41ac-8614-fe66284ca3a2",
   "metadata": {},
   "outputs": [
    {
     "name": "stdout",
     "output_type": "stream",
     "text": [
      "Value of (x, y): [2. 1.]\n"
     ]
    }
   ],
   "source": [
    "A = np.array([[2, 1], [1, 1]])\n",
    "B = np.array([5, 3])\n",
    "\n",
    "X = np.linalg.solve(A, B)\n",
    "print(\"Value of (x, y):\", X)"
   ]
  },
  {
   "cell_type": "code",
   "execution_count": 57,
   "id": "9b109162-4faf-4c5d-a8c1-f419457c31a5",
   "metadata": {},
   "outputs": [
    {
     "data": {
      "text/plain": [
       "array([[ 0.44204476,  1.10263907,  2.25603775],\n",
       "       [-1.00127941,  0.36895738, -0.3890297 ],\n",
       "       [ 1.10255606,  0.6233641 , -0.54324681]])"
      ]
     },
     "execution_count": 57,
     "metadata": {},
     "output_type": "execute_result"
    }
   ],
   "source": [
    "np.random.randn(3, 3)"
   ]
  },
  {
   "cell_type": "code",
   "execution_count": null,
   "id": "de0ef76b-c8c6-4f31-b9c0-0e7e23ac677d",
   "metadata": {},
   "outputs": [],
   "source": []
  }
 ],
 "metadata": {
  "kernelspec": {
   "display_name": "Python 3 (ipykernel)",
   "language": "python",
   "name": "python3"
  },
  "language_info": {
   "codemirror_mode": {
    "name": "ipython",
    "version": 3
   },
   "file_extension": ".py",
   "mimetype": "text/x-python",
   "name": "python",
   "nbconvert_exporter": "python",
   "pygments_lexer": "ipython3",
   "version": "3.13.3"
  }
 },
 "nbformat": 4,
 "nbformat_minor": 5
}
