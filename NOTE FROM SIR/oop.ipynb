{
 "cells": [
  {
   "cell_type": "markdown",
   "id": "c6ccdd0e",
   "metadata": {},
   "source": [
    "# Object Oriented Programming (OOP)"
   ]
  },
  {
   "cell_type": "markdown",
   "id": "73f2b80a",
   "metadata": {},
   "source": [
    "OOP is a method of programming that focuses on using object and class to organize and structure code.\n",
    "\n",
    "**Object**\n",
    "- Instance of class\n",
    "\n",
    "**Class**\n",
    "- Like a blueprint for creating objects\n",
    "\n",
    "------------------------\n",
    "- Object contains\n",
    "    - Data (Attributes)\n",
    "    - Methods (Functions)"
   ]
  },
  {
   "cell_type": "markdown",
   "id": "90e25d42",
   "metadata": {},
   "source": [
    "## Fundamental principle of OOP\n",
    "\n",
    "1. Encapsulation\n",
    "    - Concept of bundling the attribute/data and methods/function that work on the data into a single unit or class.\n",
    "\n",
    "2. Abstraction\n",
    "    - Hiding the complex implementation details and showing only the essential features of the object.\n",
    "\n",
    "3. Inheritence\n",
    "    - Allowing a new class to inherit attributes and methods from an existing class.\n",
    "\n",
    "4. Polymorphism\n",
    "    - Allowing objects of different classes to be treated as a object of common superclass (by overriding or overloading methods)."
   ]
  },
  {
   "cell_type": "markdown",
   "id": "ba852963",
   "metadata": {},
   "source": [
    "## Why OOP?\n",
    "- Modularity\n",
    "- Code reuse\n",
    "- Real world modeling\n",
    "- Maintainability\n"
   ]
  },
  {
   "cell_type": "markdown",
   "id": "3bdb719a",
   "metadata": {},
   "source": [
    "Magic methods\n",
    "\n",
    "```\n",
    "__init__\n",
    "__str__\n",
    "__add__\n",
    "__del__\n",
    "```"
   ]
  },
  {
   "cell_type": "code",
   "execution_count": null,
   "id": "25be21ae",
   "metadata": {},
   "outputs": [],
   "source": [
    "# Empty class\n",
    "class Person:\n",
    "    pass"
   ]
  },
  {
   "cell_type": "code",
   "execution_count": null,
   "id": "ea49c283",
   "metadata": {},
   "outputs": [
    {
     "name": "stdout",
     "output_type": "stream",
     "text": [
      "Hello, World!\n"
     ]
    }
   ],
   "source": [
    "# Class with method\n",
    "class Person:\n",
    "    def say_hello(self):\n",
    "        print(\"Hello, World!\")\n",
    "\n",
    "# Creating object\n",
    "p = Person()\n",
    "p.say_hello()"
   ]
  },
  {
   "cell_type": "code",
   "execution_count": 5,
   "id": "e7cdbbb1",
   "metadata": {},
   "outputs": [
    {
     "name": "stdout",
     "output_type": "stream",
     "text": [
      "Hello, World!\n"
     ]
    }
   ],
   "source": [
    "class Person:\n",
    "    def say_hello(self):\n",
    "        print(\"Hello, World!\")\n",
    "p = Person()\n",
    "p.say_hello() \n",
    "\n"
   ]
  },
  {
   "cell_type": "code",
   "execution_count": 7,
   "id": "f37638ed",
   "metadata": {},
   "outputs": [
    {
     "name": "stdout",
     "output_type": "stream",
     "text": [
      "Hello, Sita\n",
      "<__main__.Person object at 0x7cdbffa39a90>\n",
      "<class '__main__.Person'>\n",
      "None\n"
     ]
    }
   ],
   "source": [
    "# Class with method and attribute\n",
    "class Person:\n",
    "    name = \"Sita\"\n",
    "\n",
    "    def say_hello(self):\n",
    "        print(f\"Hello, {self.name}\")\n",
    "\n",
    "# Creating object\n",
    "p = Person()\n",
    "p.say_hello()\n",
    "print(p)\n",
    "print(p.__class__)\n",
    "print(p.__doc__)"
   ]
  }
 ],
 "metadata": {
  "kernelspec": {
   "display_name": "Python 3",
   "language": "python",
   "name": "python3"
  },
  "language_info": {
   "codemirror_mode": {
    "name": "ipython",
    "version": 3
   },
   "file_extension": ".py",
   "mimetype": "text/x-python",
   "name": "python",
   "nbconvert_exporter": "python",
   "pygments_lexer": "ipython3",
   "version": "3.13.3"
  }
 },
 "nbformat": 4,
 "nbformat_minor": 5
}
