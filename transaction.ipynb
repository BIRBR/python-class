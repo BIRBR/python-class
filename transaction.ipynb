{
 "cells": [
  {
   "cell_type": "code",
   "execution_count": 1,
   "id": "3c6cc724",
   "metadata": {},
   "outputs": [
    {
     "ename": "ValueError",
     "evalue": "could not convert string to float: ''",
     "output_type": "error",
     "traceback": [
      "\u001b[31m---------------------------------------------------------------------------\u001b[39m",
      "\u001b[31mValueError\u001b[39m                                Traceback (most recent call last)",
      "\u001b[36mCell\u001b[39m\u001b[36m \u001b[39m\u001b[32mIn[1]\u001b[39m\u001b[32m, line 50\u001b[39m\n\u001b[32m     47\u001b[39m             \u001b[38;5;28mprint\u001b[39m(\u001b[33m\"\u001b[39m\u001b[33mInvalid input, please try again.\u001b[39m\u001b[33m\"\u001b[39m)\n\u001b[32m     49\u001b[39m \u001b[38;5;28;01mif\u001b[39;00m \u001b[34m__name__\u001b[39m == \u001b[33m\"\u001b[39m\u001b[33m__main__\u001b[39m\u001b[33m\"\u001b[39m:\n\u001b[32m---> \u001b[39m\u001b[32m50\u001b[39m     \u001b[43mmain\u001b[49m\u001b[43m(\u001b[49m\u001b[43m)\u001b[49m\n",
      "\u001b[36mCell\u001b[39m\u001b[36m \u001b[39m\u001b[32mIn[1]\u001b[39m\u001b[32m, line 41\u001b[39m, in \u001b[36mmain\u001b[39m\u001b[34m()\u001b[39m\n\u001b[32m     39\u001b[39m choice = \u001b[38;5;28minput\u001b[39m(\u001b[33m\"\u001b[39m\u001b[38;5;130;01m\\n\u001b[39;00m\u001b[33mEnter \u001b[39m\u001b[33m'\u001b[39m\u001b[33mA\u001b[39m\u001b[33m'\u001b[39m\u001b[33m to add transaction, \u001b[39m\u001b[33m'\u001b[39m\u001b[33mS\u001b[39m\u001b[33m'\u001b[39m\u001b[33m to sort & display, \u001b[39m\u001b[33m'\u001b[39m\u001b[33mQ\u001b[39m\u001b[33m'\u001b[39m\u001b[33m to quit: \u001b[39m\u001b[33m\"\u001b[39m).strip().upper()\n\u001b[32m     40\u001b[39m \u001b[38;5;28;01mif\u001b[39;00m choice == \u001b[33m'\u001b[39m\u001b[33mA\u001b[39m\u001b[33m'\u001b[39m:\n\u001b[32m---> \u001b[39m\u001b[32m41\u001b[39m     \u001b[43madd_transaction\u001b[49m\u001b[43m(\u001b[49m\u001b[43mrecords\u001b[49m\u001b[43m)\u001b[49m\n\u001b[32m     42\u001b[39m \u001b[38;5;28;01melif\u001b[39;00m choice == \u001b[33m'\u001b[39m\u001b[33mS\u001b[39m\u001b[33m'\u001b[39m:\n\u001b[32m     43\u001b[39m     display_sorted_records(records)\n",
      "\u001b[36mCell\u001b[39m\u001b[36m \u001b[39m\u001b[32mIn[1]\u001b[39m\u001b[32m, line 23\u001b[39m, in \u001b[36madd_transaction\u001b[39m\u001b[34m(records)\u001b[39m\n\u001b[32m     20\u001b[39m transaction_out = \u001b[38;5;28minput\u001b[39m(\u001b[33m\"\u001b[39m\u001b[33mEnter Transaction Out: \u001b[39m\u001b[33m\"\u001b[39m)\n\u001b[32m     21\u001b[39m remark = \u001b[38;5;28minput\u001b[39m(\u001b[33m\"\u001b[39m\u001b[33mEnter Remark: \u001b[39m\u001b[33m\"\u001b[39m)\n\u001b[32m---> \u001b[39m\u001b[32m23\u001b[39m records.append(\u001b[43mTransactionRecord\u001b[49m\u001b[43m(\u001b[49m\u001b[43mserial_no\u001b[49m\u001b[43m,\u001b[49m\u001b[43m \u001b[49m\u001b[43mname\u001b[49m\u001b[43m,\u001b[49m\u001b[43m \u001b[49m\u001b[43mdate\u001b[49m\u001b[43m,\u001b[49m\u001b[43m \u001b[49m\u001b[43mtransaction_in\u001b[49m\u001b[43m,\u001b[49m\u001b[43m \u001b[49m\u001b[43mtransaction_out\u001b[49m\u001b[43m,\u001b[49m\u001b[43m \u001b[49m\u001b[43mremark\u001b[49m\u001b[43m)\u001b[49m)\n",
      "\u001b[36mCell\u001b[39m\u001b[36m \u001b[39m\u001b[32mIn[1]\u001b[39m\u001b[32m, line 9\u001b[39m, in \u001b[36mTransactionRecord.__init__\u001b[39m\u001b[34m(self, serial_no, name, date, transaction_in, transaction_out, remark)\u001b[39m\n\u001b[32m      7\u001b[39m \u001b[38;5;28mself\u001b[39m.date = datetime.datetime.strptime(date, \u001b[33m\"\u001b[39m\u001b[33m%\u001b[39m\u001b[33mY-\u001b[39m\u001b[33m%\u001b[39m\u001b[33mm-\u001b[39m\u001b[38;5;132;01m%d\u001b[39;00m\u001b[33m\"\u001b[39m)\n\u001b[32m      8\u001b[39m \u001b[38;5;28mself\u001b[39m.transaction_in = \u001b[38;5;28mfloat\u001b[39m(transaction_in)\n\u001b[32m----> \u001b[39m\u001b[32m9\u001b[39m \u001b[38;5;28mself\u001b[39m.transaction_out = \u001b[38;5;28;43mfloat\u001b[39;49m\u001b[43m(\u001b[49m\u001b[43mtransaction_out\u001b[49m\u001b[43m)\u001b[49m\n\u001b[32m     10\u001b[39m \u001b[38;5;28mself\u001b[39m.remark = remark\n",
      "\u001b[31mValueError\u001b[39m: could not convert string to float: ''"
     ]
    }
   ],
   "source": [
    "import datetime\n",
    "\n",
    "class TransactionRecord:\n",
    "    def __init__(self, serial_no, name, date, transaction_in, transaction_out, remark):\n",
    "        self.serial_no = serial_no\n",
    "        self.name = name\n",
    "        self.date = datetime.datetime.strptime(date, \"%Y-%m-%d\")\n",
    "        self.transaction_in = float(transaction_in)\n",
    "        self.transaction_out = float(transaction_out)\n",
    "        self.remark = remark\n",
    "    \n",
    "    def net_transaction(self):\n",
    "        return self.transaction_in - self.transaction_out\n",
    "\n",
    "def add_transaction(records):\n",
    "    serial_no = input(\"Enter Serial No.: \")\n",
    "    name = input(\"Enter Name: \")\n",
    "    date = input(\"Enter Date (YYYY-MM-DD): \")\n",
    "    transaction_in = input(\"Enter Transaction In: \")\n",
    "    transaction_out = input(\"Enter Transaction Out: \")\n",
    "    remark = input(\"Enter Remark: \")\n",
    "    \n",
    "    records.append(TransactionRecord(serial_no, name, date, transaction_in, transaction_out, remark))\n",
    "\n",
    "def display_sorted_records(records):\n",
    "    records.sort(key=lambda x: x.date)\n",
    "    print(\"\\nSorted Transactions by Date:\")\n",
    "    total_net_transaction = 0\n",
    "    for record in records:\n",
    "        net_txn = record.net_transaction()\n",
    "        total_net_transaction += net_txn\n",
    "        print(f\"{record.date.date()} | {record.serial_no} | {record.name} | In: {record.transaction_in} | Out: {record.transaction_out} | Net: {net_txn} | Remark: {record.remark}\")\n",
    "    \n",
    "    print(f\"\\nTotal Net Transaction: {total_net_transaction}\")\n",
    "\n",
    "def main():\n",
    "    records = []\n",
    "    while True:\n",
    "        choice = input(\"\\nEnter 'A' to add transaction, 'S' to sort & display, 'Q' to quit: \").strip().upper()\n",
    "        if choice == 'A':\n",
    "            add_transaction(records)\n",
    "        elif choice == 'S':\n",
    "            display_sorted_records(records)\n",
    "        elif choice == 'Q':\n",
    "            break\n",
    "        else:\n",
    "            print(\"Invalid input, please try again.\")\n",
    "\n",
    "if __name__ == \"__main__\":\n",
    "    main()"
   ]
  },
  {
   "cell_type": "code",
   "execution_count": 7,
   "id": "c7e44247",
   "metadata": {},
   "outputs": [],
   "source": [
    "class Car:\n",
    "    def __init__(self, brand, model, year):\n",
    "        self.brand = brand  # Attribute\n",
    "        self.model = model  # Attribute\n",
    "        self.year = year    # Attribute\n",
    "\n",
    "    def display_info(self):  # Method\n",
    "        print(f\"{self.year} {self.brand} {self.model}\")\n",
    "        print(display_info(self))\n",
    "        print(\"hello world\")"
   ]
  }
 ],
 "metadata": {
  "kernelspec": {
   "display_name": "Python 3",
   "language": "python",
   "name": "python3"
  },
  "language_info": {
   "codemirror_mode": {
    "name": "ipython",
    "version": 3
   },
   "file_extension": ".py",
   "mimetype": "text/x-python",
   "name": "python",
   "nbconvert_exporter": "python",
   "pygments_lexer": "ipython3",
   "version": "3.13.3"
  }
 },
 "nbformat": 4,
 "nbformat_minor": 5
}
