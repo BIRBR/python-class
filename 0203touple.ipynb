{
 "cells": [
  {
   "cell_type": "markdown",
   "id": "62cad46c-6ca3-4407-b791-d7cb39de83e6",
   "metadata": {},
   "source": [
    "### Tuple Practice 2082/02/03 Saturday"
   ]
  },
  {
   "cell_type": "code",
   "execution_count": 1,
   "id": "12700fd6-0133-4213-98a5-c5dce08e1cc1",
   "metadata": {},
   "outputs": [
    {
     "name": "stdout",
     "output_type": "stream",
     "text": [
      "('apple', 'banana', 'cherry')\n"
     ]
    }
   ],
   "source": [
    "mytuple = (\"apple\", \"banana\", \"cherry\")\n",
    "print(mytuple)"
   ]
  },
  {
   "cell_type": "raw",
   "id": "4ca32502-372a-45c9-9cf5-1f756dbda6c6",
   "metadata": {},
   "source": [
    "Tuple\n",
    "Tuples are used to store multiple items in a single variable.\n",
    "\n",
    "Tuple is one of 4 built-in data types in Python used to store collections of data, the other 3 are List, Set, and Dictionary, all with different qualities and usage.\n",
    "\n",
    "A tuple is a collection which is ordered and unchangeable.\n",
    "\n",
    "Tuples are written with round brackets.\n",
    "\n",
    "ExampleGet your own Python Server\n",
    "Create a Tuple:"
   ]
  },
  {
   "cell_type": "code",
   "execution_count": 2,
   "id": "5b127a6e-faa9-452b-a31f-45631fb97fcd",
   "metadata": {},
   "outputs": [
    {
     "name": "stdout",
     "output_type": "stream",
     "text": [
      "('apple', 'banana', 'cherry')\n"
     ]
    }
   ],
   "source": [
    "thistuple = (\"apple\", \"banana\", \"cherry\")\n",
    "print(thistuple)"
   ]
  },
  {
   "cell_type": "raw",
   "id": "d5009917-0c01-4b03-b6f4-00a5cbeb92ff",
   "metadata": {},
   "source": [
    "Tuple Items\n",
    "Tuple items are ordered, unchangeable, and allow duplicate values.\n",
    "\n",
    "Tuple items are indexed, the first item has index [0], the second item has index [1] etc.\n",
    "\n",
    "Ordered\n",
    "When we say that tuples are ordered, it means that the items have a defined order, and that order will not change.\n",
    "\n",
    "Unchangeable\n",
    "Tuples are unchangeable, meaning that we cannot change, add or remove items after the tuple has been created.\n",
    "\n",
    "Allow Duplicates\n",
    "Since tuples are indexed, they can have items with the same value:\n",
    "\n",
    "Example\n",
    "Tuples allow duplicate values:"
   ]
  },
  {
   "cell_type": "code",
   "execution_count": 4,
   "id": "4084b8ed-5b39-40d9-9d1b-3413160f10d6",
   "metadata": {},
   "outputs": [
    {
     "name": "stdout",
     "output_type": "stream",
     "text": [
      "('apple', 'banana', 'cherr', 'apple', 'banana', 'cherry')\n"
     ]
    }
   ],
   "source": [
    "thistuple = (\"apple\", \"banana\", \"cherr\", \"apple\", \"banana\", \"cherry\")\n",
    "print(thistuple)"
   ]
  },
  {
   "cell_type": "raw",
   "id": "e1ec57f6-e364-496b-9c84-69f00bd4cfd0",
   "metadata": {},
   "source": [
    "Tuple Length\n",
    "To determine how many items a tuple has, use the len() function:\n",
    "\n",
    "Example\n",
    "Print the number of items in the tuple:"
   ]
  },
  {
   "cell_type": "code",
   "execution_count": 5,
   "id": "f441116b-3a79-4636-a429-e235f02a4b78",
   "metadata": {},
   "outputs": [
    {
     "name": "stdout",
     "output_type": "stream",
     "text": [
      "3\n"
     ]
    }
   ],
   "source": [
    "thistuple = (\"apple\", \"banana\", \"cherry\")\n",
    "print(len(thistuple))"
   ]
  },
  {
   "cell_type": "raw",
   "id": "d999d2fb-ab08-4c20-9e7b-4ba5e57adfb7",
   "metadata": {},
   "source": [
    "Create Tuple With One Item\n",
    "To create a tuple with only one item, you have to add a comma after the item, otherwise Python will not recognize it as a tuple.\n",
    "\n",
    "Example\n",
    "One item tuple, remember the comma:"
   ]
  },
  {
   "cell_type": "raw",
   "id": "bf50f9d1-7325-4446-85d9-1f89ff5cf1d1",
   "metadata": {},
   "source": [
    "thistuple = (\"apple\",)\n",
    "print(type(thistuple))\n",
    "thistuple = (\"apple\")\n",
    "print(type(thistuple))"
   ]
  },
  {
   "cell_type": "raw",
   "id": "b1feffd3-40a9-4a03-9b67-82719ca1de33",
   "metadata": {},
   "source": [
    "Tuple Items - Data Types\n",
    "Tuple items can be of any data type:\n",
    "\n",
    "Example\n",
    "String, int and boolean data types:"
   ]
  },
  {
   "cell_type": "code",
   "execution_count": 9,
   "id": "ff85e151-10b4-44ee-bd21-70f6f545222a",
   "metadata": {},
   "outputs": [],
   "source": [
    "tuple1 = (\"apple\", \"banana\", \"cherry\")\n",
    "tuple2 = (1, 5, 7, 9, 3)\n",
    "tuple3 = (True, False, False)"
   ]
  },
  {
   "cell_type": "raw",
   "id": "884b7dd1-9351-4e6b-961a-86fa654459b9",
   "metadata": {},
   "source": [
    "A tuple can contain different data types:\n",
    "\n",
    "Example\n",
    "A tuple with strings, integers and boolean values:"
   ]
  },
  {
   "cell_type": "code",
   "execution_count": 10,
   "id": "8b3a6aee-1351-4298-a819-80aa4d63ae84",
   "metadata": {},
   "outputs": [
    {
     "name": "stdout",
     "output_type": "stream",
     "text": [
      "<class 'tuple'>\n"
     ]
    }
   ],
   "source": [
    "tuple1 = (\"abc\", 34, True, 40, \"male\")\n",
    "print(type(tuple1))"
   ]
  },
  {
   "cell_type": "raw",
   "id": "4b93245c-e770-42bc-954c-70961ca50ca7",
   "metadata": {},
   "source": [
    "The tuple() Constructor\n",
    "It is also possible to use the tuple() constructor to make a tuple.\n",
    "\n",
    "Example\n",
    "Using the tuple() method to make a tuple:"
   ]
  },
  {
   "cell_type": "code",
   "execution_count": 11,
   "id": "a8c3bf05-5ad5-4e49-a8fe-e3a0e6dfd6d1",
   "metadata": {},
   "outputs": [
    {
     "name": "stdout",
     "output_type": "stream",
     "text": [
      "('apple', 'banana', 'cherry')\n"
     ]
    }
   ],
   "source": [
    "thistuple =((\"apple\", \"banana\", \"cherry\"))\n",
    "print(thistuple)"
   ]
  },
  {
   "cell_type": "code",
   "execution_count": null,
   "id": "10a7d539-6fc9-454d-8ce0-6201ed17429b",
   "metadata": {},
   "outputs": [],
   "source": []
  }
 ],
 "metadata": {
  "kernelspec": {
   "display_name": "Python 3 (ipykernel)",
   "language": "python",
   "name": "python3"
  },
  "language_info": {
   "codemirror_mode": {
    "name": "ipython",
    "version": 3
   },
   "file_extension": ".py",
   "mimetype": "text/x-python",
   "name": "python",
   "nbconvert_exporter": "python",
   "pygments_lexer": "ipython3",
   "version": "3.13.3"
  }
 },
 "nbformat": 4,
 "nbformat_minor": 5
}
