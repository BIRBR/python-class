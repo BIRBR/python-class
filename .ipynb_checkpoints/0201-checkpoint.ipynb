{
 "cells": [
  {
   "cell_type": "markdown",
   "id": "cce90f63-8bb0-4b85-81a1-6ae49546cd6e",
   "metadata": {},
   "source": [
    "# Home work given Yesterday 2082/01/32"
   ]
  },
  {
   "cell_type": "code",
   "execution_count": 1,
   "id": "bc5c89de-4c92-421c-acd0-8bb0addee3ca",
   "metadata": {},
   "outputs": [
    {
     "name": "stdin",
     "output_type": "stream",
     "text": [
      "Enter your guess (0-100):  2\n"
     ]
    },
    {
     "name": "stdout",
     "output_type": "stream",
     "text": [
      "Your guess does not match, guess another number.\n"
     ]
    },
    {
     "name": "stdin",
     "output_type": "stream",
     "text": [
      "Enter your guess (0-100):  200\n"
     ]
    },
    {
     "name": "stdout",
     "output_type": "stream",
     "text": [
      "Your guess is greater than the goal.\n"
     ]
    }
   ],
   "source": [
    "import random  # Import the random module to generate a random number\n",
    "\n",
    "def guess_game():  \n",
    "    goal = random.randint(0, 100)  # Generate a random number between 0 and 100\n",
    "\n",
    "    while True:  # Start an infinite loop to keep the game running\n",
    "        try:\n",
    "            guess = int(input(\"Enter your guess (0-100): \"))  # Get user input and convert it to an integer\n",
    "        except ValueError:  \n",
    "            print(\"Invalid input! Please enter a valid number.\")  # Handle invalid input\n",
    "            continue  \n",
    "\n",
    "        if guess == goal:  \n",
    "            print(\"You won the game, Congratulations!!!\")  # If guess matches, print winning message and end loop\n",
    "            break  \n",
    "        elif guess < goal:  \n",
    "            print(\"Your guess does not match, guess another number.\")  # If guess is lower, prompt to try again\n",
    "        else:  \n",
    "            print(\"Your guess is greater than the goal.\")  # If guess is higher, inform the user and end loop\n",
    "guess_game() # Call the function to start the game\n"
   ]
  },
  {
   "cell_type": "markdown",
   "id": "964bf4af-215c-4e46-b380-bd518e1d1797",
   "metadata": {},
   "source": [
    "# examples of how to use ‘def’ in Python\n"
   ]
  },
  {
   "cell_type": "markdown",
   "id": "2578824a-8814-4957-8fff-d7ffaa69851f",
   "metadata": {},
   "source": [
    "## 1. Hello, World! Function"
   ]
  },
  {
   "cell_type": "code",
   "execution_count": 5,
   "id": "d7bfe6ad-f254-48f6-a6e7-348309c4bb24",
   "metadata": {},
   "outputs": [
    {
     "name": "stdout",
     "output_type": "stream",
     "text": [
      "Hello, World.\n"
     ]
    }
   ],
   "source": [
    "def say_hello():\n",
    "    print(\"Hello, World.\")\n",
    "say_hello()\n",
    "    "
   ]
  },
  {
   "cell_type": "markdown",
   "id": "35a57269-73a6-4a3d-b39f-17838d4aea5b",
   "metadata": {},
   "source": [
    "## 2. Add two Numbers"
   ]
  },
  {
   "cell_type": "code",
   "execution_count": 17,
   "id": "7160a5ac-3f75-4388-a1f0-6853fd15f707",
   "metadata": {},
   "outputs": [
    {
     "name": "stdout",
     "output_type": "stream",
     "text": [
      "The sum is: 7\n"
     ]
    }
   ],
   "source": [
    "def add_numbers(a, b):\n",
    "    return a + b\n",
    "\n",
    "# Calling the function\n",
    "result = add_numbers(3, 4)\n",
    "print(\"The sum is:\", result)"
   ]
  },
  {
   "cell_type": "code",
   "execution_count": 21,
   "id": "148b300d-e509-4781-a4df-6f48234cd0b7",
   "metadata": {},
   "outputs": [
    {
     "name": "stdout",
     "output_type": "stream",
     "text": [
      "The sum is : 12\n"
     ]
    }
   ],
   "source": [
    "def add_numbers(a, b):\n",
    "    return a * b\n",
    "result = add_numbers(3, 4)\n",
    "print(\"The sum is :\", result)\n",
    "    "
   ]
  },
  {
   "cell_type": "code",
   "execution_count": 22,
   "id": "62d80ade-6c1c-4aba-b924-7e1140fb64c0",
   "metadata": {},
   "outputs": [
    {
     "name": "stdout",
     "output_type": "stream",
     "text": [
      "The sum is : 0.75\n"
     ]
    }
   ],
   "source": [
    "def add_numbers(a, b):\n",
    "    return a / b\n",
    "result = add_numbers(3, 4)\n",
    "print(\"The sum is :\", result)\n",
    "    "
   ]
  },
  {
   "cell_type": "markdown",
   "id": "96b5ac59-59c0-49b6-8391-c739126b876b",
   "metadata": {},
   "source": [
    "## 3. Greeting a Person"
   ]
  },
  {
   "cell_type": "code",
   "execution_count": 25,
   "id": "655d2a7c-d87a-4436-8f10-a36cb602c860",
   "metadata": {},
   "outputs": [
    {
     "name": "stdout",
     "output_type": "stream",
     "text": [
      "Hellow, Alice!\n"
     ]
    }
   ],
   "source": [
    "def greet(name):\n",
    "    print(f\"Hellow, {name}!\")\n",
    "greet(\"Alice\")\n",
    "    "
   ]
  },
  {
   "cell_type": "markdown",
   "id": "a6ada5d2-36f8-4a67-a258-e745c802f9a1",
   "metadata": {},
   "source": [
    "## 4. Finding the Largest Number"
   ]
  },
  {
   "cell_type": "code",
   "execution_count": 29,
   "id": "121b71a4-f261-4bad-8997-60f584e76d45",
   "metadata": {},
   "outputs": [
    {
     "name": "stdout",
     "output_type": "stream",
     "text": [
      "Largest number is :  7\n"
     ]
    }
   ],
   "source": [
    "def find_largest_number(a, b, c):\n",
    "    if a > b and a > c:\n",
    "        return a\n",
    "    elif b> a and b > c:\n",
    "        return b\n",
    "    else:\n",
    "        return c\n",
    "largest = find_largest_number(3, 5, 7)\n",
    "print(\"Largest number is : \", largest)\n",
    "        \n",
    "    \n",
    "    "
   ]
  },
  {
   "cell_type": "markdown",
   "id": "7fab488d-6f37-4fbe-9a67-ff943924b478",
   "metadata": {},
   "source": [
    "##5. Checking if a Number is Even"
   ]
  },
  {
   "cell_type": "markdown",
   "id": "cf1fe205-39b2-48f3-8205-08917996db96",
   "metadata": {},
   "source": [
    "## 5. Checking if a Number is Even"
   ]
  },
  {
   "cell_type": "code",
   "execution_count": 32,
   "id": "0cae40d8-adb3-47ac-a68b-fd2dd066b047",
   "metadata": {},
   "outputs": [
    {
     "name": "stdout",
     "output_type": "stream",
     "text": [
      "Is 4 even?:  True\n",
      "Is 7 even?:  False\n"
     ]
    }
   ],
   "source": [
    "def is_even(number):\n",
    "    return number % 2 == 0\n",
    "print(\"Is 4 even?: \", is_even(4))\n",
    "print(\"Is 7 even?: \", is_even(7))\n",
    "    \n",
    "    "
   ]
  },
  {
   "cell_type": "markdown",
   "id": "1b93ce06-0bbb-4b70-a276-1d1ca52c0021",
   "metadata": {},
   "source": [
    "## 6. Counting Down"
   ]
  },
  {
   "cell_type": "code",
   "execution_count": 34,
   "id": "90c87166-9d8c-4ab7-a4ab-f92e1e9a7ffb",
   "metadata": {},
   "outputs": [
    {
     "name": "stdout",
     "output_type": "stream",
     "text": [
      "5\n",
      "4\n",
      "3\n",
      "2\n",
      "1\n",
      "0\n"
     ]
    }
   ],
   "source": [
    "def countdown(n):\n",
    "    while n >=0:\n",
    "        print(n)\n",
    "        n -=1\n",
    "countdown(5)\n",
    "        "
   ]
  },
  {
   "cell_type": "markdown",
   "id": "e62322cb-6d7a-43a4-937b-1bba77fc0566",
   "metadata": {},
   "source": [
    "## 7. Drawing a Square (using Turtle graphics)"
   ]
  },
  {
   "cell_type": "code",
   "execution_count": null,
   "id": "fd624ac1-018e-44b4-8781-83ecac81f313",
   "metadata": {},
   "outputs": [],
   "source": [
    "import turtle\n",
    "\n",
    "def draw_square():\n",
    "    for _ in range(4):\n",
    "        turtle.forward(100)\n",
    "        turtle.right(90)\n",
    "\n",
    "# Calling the function\n",
    "turtle.speed(1)\n",
    "draw_square()\n",
    "turtle.done()"
   ]
  },
  {
   "cell_type": "code",
   "execution_count": null,
   "id": "df8dca5e-1ee6-4bf7-baf2-09c7836d0114",
   "metadata": {},
   "outputs": [],
   "source": []
  }
 ],
 "metadata": {
  "kernelspec": {
   "display_name": "Python 3 (ipykernel)",
   "language": "python",
   "name": "python3"
  },
  "language_info": {
   "codemirror_mode": {
    "name": "ipython",
    "version": 3
   },
   "file_extension": ".py",
   "mimetype": "text/x-python",
   "name": "python",
   "nbconvert_exporter": "python",
   "pygments_lexer": "ipython3",
   "version": "3.13.3"
  }
 },
 "nbformat": 4,
 "nbformat_minor": 5
}
